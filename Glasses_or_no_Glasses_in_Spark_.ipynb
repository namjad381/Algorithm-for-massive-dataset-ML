{
  "nbformat": 4,
  "nbformat_minor": 0,
  "metadata": {
    "colab": {
      "name": "Glasses or no Glasses in Spark .ipynb",
      "provenance": [],
      "collapsed_sections": [],
      "include_colab_link": true
    },
    "kernelspec": {
      "display_name": "Python 3",
      "language": "python",
      "name": "python3"
    },
    "language_info": {
      "codemirror_mode": {
        "name": "ipython",
        "version": 3
      },
      "file_extension": ".py",
      "mimetype": "text/x-python",
      "name": "python",
      "nbconvert_exporter": "python",
      "pygments_lexer": "ipython3",
      "version": "3.8.8"
    }
  },
  "cells": [
    {
      "cell_type": "markdown",
      "metadata": {
        "id": "view-in-github",
        "colab_type": "text"
      },
      "source": [
        "<a href=\"https://colab.research.google.com/github/namjad381/Machine-Learning-AMD-project/blob/main/Glasses_or_no_Glasses_in_Spark_.ipynb\" target=\"_parent\"><img src=\"https://colab.research.google.com/assets/colab-badge.svg\" alt=\"Open In Colab\"/></a>"
      ]
    },
    {
      "cell_type": "markdown",
      "metadata": {
        "id": "QOpV5FSsWooc"
      },
      "source": [
        "# Download the Dataset"
      ]
    },
    {
      "cell_type": "code",
      "metadata": {
        "colab": {
          "base_uri": "https://localhost:8080/"
        },
        "id": "6WJp8okYVoLW",
        "outputId": "5b229a53-9dc3-4693-e131-ca068a3a442d"
      },
      "source": [
        "from google.colab import drive\n",
        "drive.mount('/content/drive')"
      ],
      "execution_count": null,
      "outputs": [
        {
          "name": "stdout",
          "output_type": "stream",
          "text": [
            "Mounted at /content/drive\n"
          ]
        }
      ]
    },
    {
      "cell_type": "code",
      "metadata": {
        "colab": {
          "resources": {
            "http://localhost:8080/nbextensions/google.colab/files.js": {
              "data": "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",
              "headers": [
                [
                  "content-type",
                  "application/javascript"
                ]
              ],
              "ok": true,
              "status": 200,
              "status_text": ""
            }
          },
          "base_uri": "https://localhost:8080/",
          "height": 90
        },
        "id": "LORtEeujH-ed",
        "outputId": "c7a4b78e-d485-40a0-a4f6-f339a10e9a95"
      },
      "source": [
        "! pip install -q kaggle\n",
        "from google.colab import files\n",
        "files.upload() #Upload kaggle username and key\n",
        "\n"
      ],
      "execution_count": null,
      "outputs": [
        {
          "data": {
            "text/html": [
              "\n",
              "     <input type=\"file\" id=\"files-05e7f62f-8263-4e7b-86f1-d0d6158fcaf5\" name=\"files[]\" multiple disabled\n",
              "        style=\"border:none\" />\n",
              "     <output id=\"result-05e7f62f-8263-4e7b-86f1-d0d6158fcaf5\">\n",
              "      Upload widget is only available when the cell has been executed in the\n",
              "      current browser session. Please rerun this cell to enable.\n",
              "      </output>\n",
              "      <script src=\"/nbextensions/google.colab/files.js\"></script> "
            ],
            "text/plain": [
              "<IPython.core.display.HTML object>"
            ]
          },
          "metadata": {},
          "output_type": "display_data"
        },
        {
          "name": "stdout",
          "output_type": "stream",
          "text": [
            "Saving kaggle.json to kaggle.json\n"
          ]
        },
        {
          "data": {
            "text/plain": [
              "{'kaggle.json': b'{\"username\":\"namjad\",\"key\":\"5f515f39dff4a6f911f93015f24f0b69\"}'}"
            ]
          },
          "execution_count": 2,
          "metadata": {},
          "output_type": "execute_result"
        }
      ]
    },
    {
      "cell_type": "code",
      "metadata": {
        "id": "EkF1nBQGH-q0"
      },
      "source": [
        "! mkdir ~/.kaggle\n",
        "! cp kaggle.json ~/.kaggle/\n",
        "! chmod 600 ~/.kaggle/kaggle.json"
      ],
      "execution_count": null,
      "outputs": []
    },
    {
      "cell_type": "code",
      "metadata": {
        "colab": {
          "base_uri": "https://localhost:8080/"
        },
        "id": "Sq5nbgvqIfZZ",
        "outputId": "0f06eb31-abe5-4914-bee4-11403a5264ed"
      },
      "source": [
        "! kaggle datasets list"
      ],
      "execution_count": null,
      "outputs": [
        {
          "name": "stdout",
          "output_type": "stream",
          "text": [
            "Warning: Looks like you're using an outdated API Version, please consider updating (server 1.5.12 / client 1.5.4)\n",
            "ref                                                         title                                              size  lastUpdated          downloadCount  \n",
            "----------------------------------------------------------  ------------------------------------------------  -----  -------------------  -------------  \n",
            "gpreda/reddit-vaccine-myths                                 Reddit Vaccine Myths                              237KB  2021-11-02 21:56:08          15266  \n",
            "crowww/a-large-scale-fish-dataset                           A Large Scale Fish Dataset                          3GB  2021-04-28 17:03:01           9289  \n",
            "imsparsh/musicnet-dataset                                   MusicNet Dataset                                   22GB  2021-02-18 14:12:19           4143  \n",
            "dhruvildave/wikibooks-dataset                               Wikibooks Dataset                                   2GB  2021-10-22 10:48:21           3400  \n",
            "promptcloud/careerbuilder-job-listing-2020                  Careerbuilder Job Listing 2020                     42MB  2021-03-05 06:59:52           2550  \n",
            "nickuzmenkov/nih-chest-xrays-tfrecords                      NIH Chest X-rays TFRecords                         11GB  2021-03-09 04:49:23           1530  \n",
            "fatiimaezzahra/famous-iconic-women                          Famous Iconic Women                               838MB  2021-02-28 14:56:00           1793  \n",
            "alsgroup/end-als                                            End ALS Kaggle Challenge                           12GB  2021-04-08 12:16:37           1064  \n",
            "mathurinache/twitter-edge-nodes                             Twitter Edge Nodes                                342MB  2021-03-08 06:43:04           1247  \n",
            "simiotic/github-code-snippets                               GitHub Code Snippets                                7GB  2021-03-03 11:34:39            463  \n",
            "mathurinache/the-lj-speech-dataset                          The LJ Speech Dataset                               3GB  2021-02-15 09:19:54            452  \n",
            "coloradokb/dandelionimages                                  DandelionImages                                     4GB  2021-02-19 20:03:47            997  \n",
            "stuartjames/lights                                          LightS: Light Specularity Dataset                  18GB  2021-02-18 14:32:26            191  \n",
            "imsparsh/accentdb-core-extended                             AccentDB - Core & Extended                          6GB  2021-02-17 14:22:54            174  \n",
            "nickuzmenkov/ranzcr-clip-kfold-tfrecords                    RANZCR CLiP KFold TFRecords                         2GB  2021-02-21 13:29:51            152  \n",
            "landrykezebou/lvzhdr-tone-mapping-benchmark-dataset-tmonet  LVZ-HDR Tone Mapping Benchmark Dataset (TMO-Net)   24GB  2021-03-01 05:03:40            225  \n",
            "datasnaek/youtube-new                                       Trending YouTube Video Statistics                 201MB  2019-06-03 00:56:47         156996  \n",
            "zynicide/wine-reviews                                       Wine Reviews                                       51MB  2017-11-27 17:08:04         147798  \n",
            "residentmario/ramen-ratings                                 Ramen Ratings                                      40KB  2018-01-11 16:04:39          29367  \n",
            "datasnaek/chess                                             Chess Game Dataset (Lichess)                        3MB  2017-09-04 03:09:09          24490  \n"
          ]
        }
      ]
    },
    {
      "cell_type": "code",
      "metadata": {
        "colab": {
          "base_uri": "https://localhost:8080/"
        },
        "id": "bQoucaPTIfkg",
        "outputId": "c61576e4-74cf-4f1c-d131-bf7961a5f14f"
      },
      "source": [
        "! kaggle datasets download -d 'jeffheaton/glasses-or-no-glasses' -f train.csv"
      ],
      "execution_count": null,
      "outputs": [
        {
          "name": "stdout",
          "output_type": "stream",
          "text": [
            "Downloading train.csv.zip to /content\n",
            "\r  0% 0.00/7.41M [00:00<?, ?B/s]\n",
            "\r100% 7.41M/7.41M [00:00<00:00, 68.5MB/s]\n"
          ]
        }
      ]
    },
    {
      "cell_type": "code",
      "metadata": {
        "colab": {
          "base_uri": "https://localhost:8080/"
        },
        "id": "N4ytrcxhSz3q",
        "outputId": "950041ec-1793-4a5f-f10b-572c41ef4721"
      },
      "source": [
        "! kaggle datasets download -d 'jeffheaton/glasses-or-no-glasses' -f test.csv"
      ],
      "execution_count": null,
      "outputs": [
        {
          "name": "stdout",
          "output_type": "stream",
          "text": [
            "Downloading test.csv.zip to /content\n",
            "\r  0% 0.00/844k [00:00<?, ?B/s]\n",
            "\r100% 844k/844k [00:00<00:00, 51.5MB/s]\n"
          ]
        }
      ]
    },
    {
      "cell_type": "code",
      "metadata": {
        "id": "8oCPkEaleZpy"
      },
      "source": [
        "! mkdir glasses"
      ],
      "execution_count": null,
      "outputs": []
    },
    {
      "cell_type": "code",
      "metadata": {
        "colab": {
          "base_uri": "https://localhost:8080/"
        },
        "id": "_0W0lKRRebJW",
        "outputId": "c7d3b647-76e6-4a34-cd81-ce20a2646f30"
      },
      "source": [
        "!unzip train.csv.zip -d glasses"
      ],
      "execution_count": null,
      "outputs": [
        {
          "name": "stdout",
          "output_type": "stream",
          "text": [
            "Archive:  train.csv.zip\n",
            "  inflating: glasses/train.csv       \n"
          ]
        }
      ]
    },
    {
      "cell_type": "code",
      "metadata": {
        "colab": {
          "base_uri": "https://localhost:8080/"
        },
        "id": "lV5yNXESfZtM",
        "outputId": "6a2de52e-1d74-4d8e-c24a-41ac6cf3e8ed"
      },
      "source": [
        "!unzip test.csv.zip -d glasses"
      ],
      "execution_count": null,
      "outputs": [
        {
          "name": "stdout",
          "output_type": "stream",
          "text": [
            "Archive:  test.csv.zip\n",
            "  inflating: glasses/test.csv        \n"
          ]
        }
      ]
    },
    {
      "cell_type": "code",
      "metadata": {
        "id": "P-q3-yEnbu5Y"
      },
      "source": [
        ""
      ],
      "execution_count": null,
      "outputs": []
    },
    {
      "cell_type": "markdown",
      "metadata": {
        "id": "MLI1ru8tME_C"
      },
      "source": [
        "# Import Libraries\n"
      ]
    },
    {
      "cell_type": "code",
      "metadata": {
        "colab": {
          "base_uri": "https://localhost:8080/"
        },
        "id": "qC1kDmqvl0km",
        "outputId": "99863372-a107-403c-a743-96ad2567d0f1"
      },
      "source": [
        "!pip install pyspark"
      ],
      "execution_count": null,
      "outputs": [
        {
          "name": "stdout",
          "output_type": "stream",
          "text": [
            "Collecting pyspark\n",
            "  Downloading pyspark-3.2.0.tar.gz (281.3 MB)\n",
            "\u001b[K     |████████████████████████████████| 281.3 MB 40 kB/s \n",
            "\u001b[?25hCollecting py4j==0.10.9.2\n",
            "  Downloading py4j-0.10.9.2-py2.py3-none-any.whl (198 kB)\n",
            "\u001b[K     |████████████████████████████████| 198 kB 53.4 MB/s \n",
            "\u001b[?25hBuilding wheels for collected packages: pyspark\n",
            "  Building wheel for pyspark (setup.py) ... \u001b[?25l\u001b[?25hdone\n",
            "  Created wheel for pyspark: filename=pyspark-3.2.0-py2.py3-none-any.whl size=281805912 sha256=4e88a2f402f64892cff7638e37f5f840fb07911be5fe130860b2e7657297ed3a\n",
            "  Stored in directory: /root/.cache/pip/wheels/0b/de/d2/9be5d59d7331c6c2a7c1b6d1a4f463ce107332b1ecd4e80718\n",
            "Successfully built pyspark\n",
            "Installing collected packages: py4j, pyspark\n",
            "Successfully installed py4j-0.10.9.2 pyspark-3.2.0\n"
          ]
        }
      ]
    },
    {
      "cell_type": "code",
      "metadata": {
        "id": "Rlw2vqyEME_M"
      },
      "source": [
        "import numpy as np\n",
        "import pandas as pd\n",
        "import matplotlib.pyplot as plt\n",
        "import seaborn as sns\n",
        "%matplotlib inline\n",
        "import tensorflow as tf\n",
        "from tensorflow import keras\n",
        "from sklearn.preprocessing import StandardScaler\n",
        "from pyspark.ml.feature import StandardScaler\n",
        "from pyspark.sql import SparkSession\n",
        "from pyspark.ml.feature import VectorAssembler\n",
        "import pyspark\n",
        "from pyspark.sql import SparkSession\n",
        "from pyspark.ml import Pipeline\n",
        "from pyspark.ml.classification import LogisticRegression\n",
        "from pyspark.ml.evaluation import BinaryClassificationEvaluator\n",
        "from pyspark.ml.feature import HashingTF, Tokenizer\n",
        "from pyspark.ml.tuning import CrossValidator, ParamGridBuilder\n",
        "from pyspark.ml.tuning import ParamGridBuilder\n",
        "from pyspark.ml.tuning import TrainValidationSplit\n",
        "from pyspark.ml.classification import MultilayerPerceptronClassifier\n",
        "from pyspark.ml.evaluation import MulticlassClassificationEvaluator\n",
        "from sklearn.metrics import classification_report, confusion_matrix"
      ],
      "execution_count": null,
      "outputs": []
    },
    {
      "cell_type": "code",
      "metadata": {
        "colab": {
          "base_uri": "https://localhost:8080/",
          "height": 35
        },
        "id": "nGj95hIvyEPQ",
        "outputId": "ef3ab02b-0883-4d21-9f87-560adb8c223a"
      },
      "source": [
        "import plotly\n",
        "plotly.__version__"
      ],
      "execution_count": null,
      "outputs": [
        {
          "data": {
            "application/vnd.google.colaboratory.intrinsic+json": {
              "type": "string"
            },
            "text/plain": [
              "'4.4.1'"
            ]
          },
          "execution_count": 12,
          "metadata": {},
          "output_type": "execute_result"
        }
      ]
    },
    {
      "cell_type": "markdown",
      "metadata": {
        "id": "xyOfj2elME_R"
      },
      "source": [
        "# Dataset Import"
      ]
    },
    {
      "cell_type": "code",
      "metadata": {
        "colab": {
          "base_uri": "https://localhost:8080/",
          "height": 219
        },
        "id": "QsP0im0Cl2Tq",
        "outputId": "62494e90-a30e-4ccd-a471-368bccad7104"
      },
      "source": [
        "spark=SparkSession.builder.appName('practise').getOrCreate()\n",
        "spark"
      ],
      "execution_count": null,
      "outputs": [
        {
          "data": {
            "text/html": [
              "\n",
              "            <div>\n",
              "                <p><b>SparkSession - in-memory</b></p>\n",
              "                \n",
              "        <div>\n",
              "            <p><b>SparkContext</b></p>\n",
              "\n",
              "            <p><a href=\"http://82adcf3da027:4040\">Spark UI</a></p>\n",
              "\n",
              "            <dl>\n",
              "              <dt>Version</dt>\n",
              "                <dd><code>v3.2.0</code></dd>\n",
              "              <dt>Master</dt>\n",
              "                <dd><code>local[*]</code></dd>\n",
              "              <dt>AppName</dt>\n",
              "                <dd><code>practise</code></dd>\n",
              "            </dl>\n",
              "        </div>\n",
              "        \n",
              "            </div>\n",
              "        "
            ],
            "text/plain": [
              "<pyspark.sql.session.SparkSession at 0x7f80078b1590>"
            ]
          },
          "execution_count": 13,
          "metadata": {},
          "output_type": "execute_result"
        }
      ]
    },
    {
      "cell_type": "code",
      "metadata": {
        "id": "hBQgOqF6l2eA"
      },
      "source": [
        "df_pyspark=spark.read.csv('/content/glasses/train.csv', header=True, inferSchema=True)"
      ],
      "execution_count": null,
      "outputs": []
    },
    {
      "cell_type": "code",
      "metadata": {
        "colab": {
          "base_uri": "https://localhost:8080/"
        },
        "id": "4OTVAQTfl2mB",
        "outputId": "8cf4c14c-8a70-4542-9f9d-476aa8f65368"
      },
      "source": [
        "type(df_pyspark)"
      ],
      "execution_count": null,
      "outputs": [
        {
          "data": {
            "text/plain": [
              "pyspark.sql.dataframe.DataFrame"
            ]
          },
          "execution_count": 15,
          "metadata": {},
          "output_type": "execute_result"
        }
      ]
    },
    {
      "cell_type": "code",
      "metadata": {
        "colab": {
          "base_uri": "https://localhost:8080/"
        },
        "id": "bmPcUHpBpCaQ",
        "outputId": "c0f3f31d-1b7f-44bd-fb19-0ad1f7c6f3eb"
      },
      "source": [
        "df_pyspark.printSchema()"
      ],
      "execution_count": null,
      "outputs": [
        {
          "name": "stdout",
          "output_type": "stream",
          "text": [
            "root\n",
            " |-- id: integer (nullable = true)\n",
            " |-- v1: double (nullable = true)\n",
            " |-- v2: double (nullable = true)\n",
            " |-- v3: double (nullable = true)\n",
            " |-- v4: double (nullable = true)\n",
            " |-- v5: double (nullable = true)\n",
            " |-- v6: double (nullable = true)\n",
            " |-- v7: double (nullable = true)\n",
            " |-- v8: double (nullable = true)\n",
            " |-- v9: double (nullable = true)\n",
            " |-- v10: double (nullable = true)\n",
            " |-- v11: double (nullable = true)\n",
            " |-- v12: double (nullable = true)\n",
            " |-- v13: double (nullable = true)\n",
            " |-- v14: double (nullable = true)\n",
            " |-- v15: double (nullable = true)\n",
            " |-- v16: double (nullable = true)\n",
            " |-- v17: double (nullable = true)\n",
            " |-- v18: double (nullable = true)\n",
            " |-- v19: double (nullable = true)\n",
            " |-- v20: double (nullable = true)\n",
            " |-- v21: double (nullable = true)\n",
            " |-- v22: double (nullable = true)\n",
            " |-- v23: double (nullable = true)\n",
            " |-- v24: double (nullable = true)\n",
            " |-- v25: double (nullable = true)\n",
            " |-- v26: double (nullable = true)\n",
            " |-- v27: double (nullable = true)\n",
            " |-- v28: double (nullable = true)\n",
            " |-- v29: double (nullable = true)\n",
            " |-- v30: double (nullable = true)\n",
            " |-- v31: double (nullable = true)\n",
            " |-- v32: double (nullable = true)\n",
            " |-- v33: double (nullable = true)\n",
            " |-- v34: double (nullable = true)\n",
            " |-- v35: double (nullable = true)\n",
            " |-- v36: double (nullable = true)\n",
            " |-- v37: double (nullable = true)\n",
            " |-- v38: double (nullable = true)\n",
            " |-- v39: double (nullable = true)\n",
            " |-- v40: double (nullable = true)\n",
            " |-- v41: double (nullable = true)\n",
            " |-- v42: double (nullable = true)\n",
            " |-- v43: double (nullable = true)\n",
            " |-- v44: double (nullable = true)\n",
            " |-- v45: double (nullable = true)\n",
            " |-- v46: double (nullable = true)\n",
            " |-- v47: double (nullable = true)\n",
            " |-- v48: double (nullable = true)\n",
            " |-- v49: double (nullable = true)\n",
            " |-- v50: double (nullable = true)\n",
            " |-- v51: double (nullable = true)\n",
            " |-- v52: double (nullable = true)\n",
            " |-- v53: double (nullable = true)\n",
            " |-- v54: double (nullable = true)\n",
            " |-- v55: double (nullable = true)\n",
            " |-- v56: double (nullable = true)\n",
            " |-- v57: double (nullable = true)\n",
            " |-- v58: double (nullable = true)\n",
            " |-- v59: double (nullable = true)\n",
            " |-- v60: double (nullable = true)\n",
            " |-- v61: double (nullable = true)\n",
            " |-- v62: double (nullable = true)\n",
            " |-- v63: double (nullable = true)\n",
            " |-- v64: double (nullable = true)\n",
            " |-- v65: double (nullable = true)\n",
            " |-- v66: double (nullable = true)\n",
            " |-- v67: double (nullable = true)\n",
            " |-- v68: double (nullable = true)\n",
            " |-- v69: double (nullable = true)\n",
            " |-- v70: double (nullable = true)\n",
            " |-- v71: double (nullable = true)\n",
            " |-- v72: double (nullable = true)\n",
            " |-- v73: double (nullable = true)\n",
            " |-- v74: double (nullable = true)\n",
            " |-- v75: double (nullable = true)\n",
            " |-- v76: double (nullable = true)\n",
            " |-- v77: double (nullable = true)\n",
            " |-- v78: double (nullable = true)\n",
            " |-- v79: double (nullable = true)\n",
            " |-- v80: double (nullable = true)\n",
            " |-- v81: double (nullable = true)\n",
            " |-- v82: double (nullable = true)\n",
            " |-- v83: double (nullable = true)\n",
            " |-- v84: double (nullable = true)\n",
            " |-- v85: double (nullable = true)\n",
            " |-- v86: double (nullable = true)\n",
            " |-- v87: double (nullable = true)\n",
            " |-- v88: double (nullable = true)\n",
            " |-- v89: double (nullable = true)\n",
            " |-- v90: double (nullable = true)\n",
            " |-- v91: double (nullable = true)\n",
            " |-- v92: double (nullable = true)\n",
            " |-- v93: double (nullable = true)\n",
            " |-- v94: double (nullable = true)\n",
            " |-- v95: double (nullable = true)\n",
            " |-- v96: double (nullable = true)\n",
            " |-- v97: double (nullable = true)\n",
            " |-- v98: double (nullable = true)\n",
            " |-- v99: double (nullable = true)\n",
            " |-- v100: double (nullable = true)\n",
            " |-- v101: double (nullable = true)\n",
            " |-- v102: double (nullable = true)\n",
            " |-- v103: double (nullable = true)\n",
            " |-- v104: double (nullable = true)\n",
            " |-- v105: double (nullable = true)\n",
            " |-- v106: double (nullable = true)\n",
            " |-- v107: double (nullable = true)\n",
            " |-- v108: double (nullable = true)\n",
            " |-- v109: double (nullable = true)\n",
            " |-- v110: double (nullable = true)\n",
            " |-- v111: double (nullable = true)\n",
            " |-- v112: double (nullable = true)\n",
            " |-- v113: double (nullable = true)\n",
            " |-- v114: double (nullable = true)\n",
            " |-- v115: double (nullable = true)\n",
            " |-- v116: double (nullable = true)\n",
            " |-- v117: double (nullable = true)\n",
            " |-- v118: double (nullable = true)\n",
            " |-- v119: double (nullable = true)\n",
            " |-- v120: double (nullable = true)\n",
            " |-- v121: double (nullable = true)\n",
            " |-- v122: double (nullable = true)\n",
            " |-- v123: double (nullable = true)\n",
            " |-- v124: double (nullable = true)\n",
            " |-- v125: double (nullable = true)\n",
            " |-- v126: double (nullable = true)\n",
            " |-- v127: double (nullable = true)\n",
            " |-- v128: double (nullable = true)\n",
            " |-- v129: double (nullable = true)\n",
            " |-- v130: double (nullable = true)\n",
            " |-- v131: double (nullable = true)\n",
            " |-- v132: double (nullable = true)\n",
            " |-- v133: double (nullable = true)\n",
            " |-- v134: double (nullable = true)\n",
            " |-- v135: double (nullable = true)\n",
            " |-- v136: double (nullable = true)\n",
            " |-- v137: double (nullable = true)\n",
            " |-- v138: double (nullable = true)\n",
            " |-- v139: double (nullable = true)\n",
            " |-- v140: double (nullable = true)\n",
            " |-- v141: double (nullable = true)\n",
            " |-- v142: double (nullable = true)\n",
            " |-- v143: double (nullable = true)\n",
            " |-- v144: double (nullable = true)\n",
            " |-- v145: double (nullable = true)\n",
            " |-- v146: double (nullable = true)\n",
            " |-- v147: double (nullable = true)\n",
            " |-- v148: double (nullable = true)\n",
            " |-- v149: double (nullable = true)\n",
            " |-- v150: double (nullable = true)\n",
            " |-- v151: double (nullable = true)\n",
            " |-- v152: double (nullable = true)\n",
            " |-- v153: double (nullable = true)\n",
            " |-- v154: double (nullable = true)\n",
            " |-- v155: double (nullable = true)\n",
            " |-- v156: double (nullable = true)\n",
            " |-- v157: double (nullable = true)\n",
            " |-- v158: double (nullable = true)\n",
            " |-- v159: double (nullable = true)\n",
            " |-- v160: double (nullable = true)\n",
            " |-- v161: double (nullable = true)\n",
            " |-- v162: double (nullable = true)\n",
            " |-- v163: double (nullable = true)\n",
            " |-- v164: double (nullable = true)\n",
            " |-- v165: double (nullable = true)\n",
            " |-- v166: double (nullable = true)\n",
            " |-- v167: double (nullable = true)\n",
            " |-- v168: double (nullable = true)\n",
            " |-- v169: double (nullable = true)\n",
            " |-- v170: double (nullable = true)\n",
            " |-- v171: double (nullable = true)\n",
            " |-- v172: double (nullable = true)\n",
            " |-- v173: double (nullable = true)\n",
            " |-- v174: double (nullable = true)\n",
            " |-- v175: double (nullable = true)\n",
            " |-- v176: double (nullable = true)\n",
            " |-- v177: double (nullable = true)\n",
            " |-- v178: double (nullable = true)\n",
            " |-- v179: double (nullable = true)\n",
            " |-- v180: double (nullable = true)\n",
            " |-- v181: double (nullable = true)\n",
            " |-- v182: double (nullable = true)\n",
            " |-- v183: double (nullable = true)\n",
            " |-- v184: double (nullable = true)\n",
            " |-- v185: double (nullable = true)\n",
            " |-- v186: double (nullable = true)\n",
            " |-- v187: double (nullable = true)\n",
            " |-- v188: double (nullable = true)\n",
            " |-- v189: double (nullable = true)\n",
            " |-- v190: double (nullable = true)\n",
            " |-- v191: double (nullable = true)\n",
            " |-- v192: double (nullable = true)\n",
            " |-- v193: double (nullable = true)\n",
            " |-- v194: double (nullable = true)\n",
            " |-- v195: double (nullable = true)\n",
            " |-- v196: double (nullable = true)\n",
            " |-- v197: double (nullable = true)\n",
            " |-- v198: double (nullable = true)\n",
            " |-- v199: double (nullable = true)\n",
            " |-- v200: double (nullable = true)\n",
            " |-- v201: double (nullable = true)\n",
            " |-- v202: double (nullable = true)\n",
            " |-- v203: double (nullable = true)\n",
            " |-- v204: double (nullable = true)\n",
            " |-- v205: double (nullable = true)\n",
            " |-- v206: double (nullable = true)\n",
            " |-- v207: double (nullable = true)\n",
            " |-- v208: double (nullable = true)\n",
            " |-- v209: double (nullable = true)\n",
            " |-- v210: double (nullable = true)\n",
            " |-- v211: double (nullable = true)\n",
            " |-- v212: double (nullable = true)\n",
            " |-- v213: double (nullable = true)\n",
            " |-- v214: double (nullable = true)\n",
            " |-- v215: double (nullable = true)\n",
            " |-- v216: double (nullable = true)\n",
            " |-- v217: double (nullable = true)\n",
            " |-- v218: double (nullable = true)\n",
            " |-- v219: double (nullable = true)\n",
            " |-- v220: double (nullable = true)\n",
            " |-- v221: double (nullable = true)\n",
            " |-- v222: double (nullable = true)\n",
            " |-- v223: double (nullable = true)\n",
            " |-- v224: double (nullable = true)\n",
            " |-- v225: double (nullable = true)\n",
            " |-- v226: double (nullable = true)\n",
            " |-- v227: double (nullable = true)\n",
            " |-- v228: double (nullable = true)\n",
            " |-- v229: double (nullable = true)\n",
            " |-- v230: double (nullable = true)\n",
            " |-- v231: double (nullable = true)\n",
            " |-- v232: double (nullable = true)\n",
            " |-- v233: double (nullable = true)\n",
            " |-- v234: double (nullable = true)\n",
            " |-- v235: double (nullable = true)\n",
            " |-- v236: double (nullable = true)\n",
            " |-- v237: double (nullable = true)\n",
            " |-- v238: double (nullable = true)\n",
            " |-- v239: double (nullable = true)\n",
            " |-- v240: double (nullable = true)\n",
            " |-- v241: double (nullable = true)\n",
            " |-- v242: double (nullable = true)\n",
            " |-- v243: double (nullable = true)\n",
            " |-- v244: double (nullable = true)\n",
            " |-- v245: double (nullable = true)\n",
            " |-- v246: double (nullable = true)\n",
            " |-- v247: double (nullable = true)\n",
            " |-- v248: double (nullable = true)\n",
            " |-- v249: double (nullable = true)\n",
            " |-- v250: double (nullable = true)\n",
            " |-- v251: double (nullable = true)\n",
            " |-- v252: double (nullable = true)\n",
            " |-- v253: double (nullable = true)\n",
            " |-- v254: double (nullable = true)\n",
            " |-- v255: double (nullable = true)\n",
            " |-- v256: double (nullable = true)\n",
            " |-- v257: double (nullable = true)\n",
            " |-- v258: double (nullable = true)\n",
            " |-- v259: double (nullable = true)\n",
            " |-- v260: double (nullable = true)\n",
            " |-- v261: double (nullable = true)\n",
            " |-- v262: double (nullable = true)\n",
            " |-- v263: double (nullable = true)\n",
            " |-- v264: double (nullable = true)\n",
            " |-- v265: double (nullable = true)\n",
            " |-- v266: double (nullable = true)\n",
            " |-- v267: double (nullable = true)\n",
            " |-- v268: double (nullable = true)\n",
            " |-- v269: double (nullable = true)\n",
            " |-- v270: double (nullable = true)\n",
            " |-- v271: double (nullable = true)\n",
            " |-- v272: double (nullable = true)\n",
            " |-- v273: double (nullable = true)\n",
            " |-- v274: double (nullable = true)\n",
            " |-- v275: double (nullable = true)\n",
            " |-- v276: double (nullable = true)\n",
            " |-- v277: double (nullable = true)\n",
            " |-- v278: double (nullable = true)\n",
            " |-- v279: double (nullable = true)\n",
            " |-- v280: double (nullable = true)\n",
            " |-- v281: double (nullable = true)\n",
            " |-- v282: double (nullable = true)\n",
            " |-- v283: double (nullable = true)\n",
            " |-- v284: double (nullable = true)\n",
            " |-- v285: double (nullable = true)\n",
            " |-- v286: double (nullable = true)\n",
            " |-- v287: double (nullable = true)\n",
            " |-- v288: double (nullable = true)\n",
            " |-- v289: double (nullable = true)\n",
            " |-- v290: double (nullable = true)\n",
            " |-- v291: double (nullable = true)\n",
            " |-- v292: double (nullable = true)\n",
            " |-- v293: double (nullable = true)\n",
            " |-- v294: double (nullable = true)\n",
            " |-- v295: double (nullable = true)\n",
            " |-- v296: double (nullable = true)\n",
            " |-- v297: double (nullable = true)\n",
            " |-- v298: double (nullable = true)\n",
            " |-- v299: double (nullable = true)\n",
            " |-- v300: double (nullable = true)\n",
            " |-- v301: double (nullable = true)\n",
            " |-- v302: double (nullable = true)\n",
            " |-- v303: double (nullable = true)\n",
            " |-- v304: double (nullable = true)\n",
            " |-- v305: double (nullable = true)\n",
            " |-- v306: double (nullable = true)\n",
            " |-- v307: double (nullable = true)\n",
            " |-- v308: double (nullable = true)\n",
            " |-- v309: double (nullable = true)\n",
            " |-- v310: double (nullable = true)\n",
            " |-- v311: double (nullable = true)\n",
            " |-- v312: double (nullable = true)\n",
            " |-- v313: double (nullable = true)\n",
            " |-- v314: double (nullable = true)\n",
            " |-- v315: double (nullable = true)\n",
            " |-- v316: double (nullable = true)\n",
            " |-- v317: double (nullable = true)\n",
            " |-- v318: double (nullable = true)\n",
            " |-- v319: double (nullable = true)\n",
            " |-- v320: double (nullable = true)\n",
            " |-- v321: double (nullable = true)\n",
            " |-- v322: double (nullable = true)\n",
            " |-- v323: double (nullable = true)\n",
            " |-- v324: double (nullable = true)\n",
            " |-- v325: double (nullable = true)\n",
            " |-- v326: double (nullable = true)\n",
            " |-- v327: double (nullable = true)\n",
            " |-- v328: double (nullable = true)\n",
            " |-- v329: double (nullable = true)\n",
            " |-- v330: double (nullable = true)\n",
            " |-- v331: double (nullable = true)\n",
            " |-- v332: double (nullable = true)\n",
            " |-- v333: double (nullable = true)\n",
            " |-- v334: double (nullable = true)\n",
            " |-- v335: double (nullable = true)\n",
            " |-- v336: double (nullable = true)\n",
            " |-- v337: double (nullable = true)\n",
            " |-- v338: double (nullable = true)\n",
            " |-- v339: double (nullable = true)\n",
            " |-- v340: double (nullable = true)\n",
            " |-- v341: double (nullable = true)\n",
            " |-- v342: double (nullable = true)\n",
            " |-- v343: double (nullable = true)\n",
            " |-- v344: double (nullable = true)\n",
            " |-- v345: double (nullable = true)\n",
            " |-- v346: double (nullable = true)\n",
            " |-- v347: double (nullable = true)\n",
            " |-- v348: double (nullable = true)\n",
            " |-- v349: double (nullable = true)\n",
            " |-- v350: double (nullable = true)\n",
            " |-- v351: double (nullable = true)\n",
            " |-- v352: double (nullable = true)\n",
            " |-- v353: double (nullable = true)\n",
            " |-- v354: double (nullable = true)\n",
            " |-- v355: double (nullable = true)\n",
            " |-- v356: double (nullable = true)\n",
            " |-- v357: double (nullable = true)\n",
            " |-- v358: double (nullable = true)\n",
            " |-- v359: double (nullable = true)\n",
            " |-- v360: double (nullable = true)\n",
            " |-- v361: double (nullable = true)\n",
            " |-- v362: double (nullable = true)\n",
            " |-- v363: double (nullable = true)\n",
            " |-- v364: double (nullable = true)\n",
            " |-- v365: double (nullable = true)\n",
            " |-- v366: double (nullable = true)\n",
            " |-- v367: double (nullable = true)\n",
            " |-- v368: double (nullable = true)\n",
            " |-- v369: double (nullable = true)\n",
            " |-- v370: double (nullable = true)\n",
            " |-- v371: double (nullable = true)\n",
            " |-- v372: double (nullable = true)\n",
            " |-- v373: double (nullable = true)\n",
            " |-- v374: double (nullable = true)\n",
            " |-- v375: double (nullable = true)\n",
            " |-- v376: double (nullable = true)\n",
            " |-- v377: double (nullable = true)\n",
            " |-- v378: double (nullable = true)\n",
            " |-- v379: double (nullable = true)\n",
            " |-- v380: double (nullable = true)\n",
            " |-- v381: double (nullable = true)\n",
            " |-- v382: double (nullable = true)\n",
            " |-- v383: double (nullable = true)\n",
            " |-- v384: double (nullable = true)\n",
            " |-- v385: double (nullable = true)\n",
            " |-- v386: double (nullable = true)\n",
            " |-- v387: double (nullable = true)\n",
            " |-- v388: double (nullable = true)\n",
            " |-- v389: double (nullable = true)\n",
            " |-- v390: double (nullable = true)\n",
            " |-- v391: double (nullable = true)\n",
            " |-- v392: double (nullable = true)\n",
            " |-- v393: double (nullable = true)\n",
            " |-- v394: double (nullable = true)\n",
            " |-- v395: double (nullable = true)\n",
            " |-- v396: double (nullable = true)\n",
            " |-- v397: double (nullable = true)\n",
            " |-- v398: double (nullable = true)\n",
            " |-- v399: double (nullable = true)\n",
            " |-- v400: double (nullable = true)\n",
            " |-- v401: double (nullable = true)\n",
            " |-- v402: double (nullable = true)\n",
            " |-- v403: double (nullable = true)\n",
            " |-- v404: double (nullable = true)\n",
            " |-- v405: double (nullable = true)\n",
            " |-- v406: double (nullable = true)\n",
            " |-- v407: double (nullable = true)\n",
            " |-- v408: double (nullable = true)\n",
            " |-- v409: double (nullable = true)\n",
            " |-- v410: double (nullable = true)\n",
            " |-- v411: double (nullable = true)\n",
            " |-- v412: double (nullable = true)\n",
            " |-- v413: double (nullable = true)\n",
            " |-- v414: double (nullable = true)\n",
            " |-- v415: double (nullable = true)\n",
            " |-- v416: double (nullable = true)\n",
            " |-- v417: double (nullable = true)\n",
            " |-- v418: double (nullable = true)\n",
            " |-- v419: double (nullable = true)\n",
            " |-- v420: double (nullable = true)\n",
            " |-- v421: double (nullable = true)\n",
            " |-- v422: double (nullable = true)\n",
            " |-- v423: double (nullable = true)\n",
            " |-- v424: double (nullable = true)\n",
            " |-- v425: double (nullable = true)\n",
            " |-- v426: double (nullable = true)\n",
            " |-- v427: double (nullable = true)\n",
            " |-- v428: double (nullable = true)\n",
            " |-- v429: double (nullable = true)\n",
            " |-- v430: double (nullable = true)\n",
            " |-- v431: double (nullable = true)\n",
            " |-- v432: double (nullable = true)\n",
            " |-- v433: double (nullable = true)\n",
            " |-- v434: double (nullable = true)\n",
            " |-- v435: double (nullable = true)\n",
            " |-- v436: double (nullable = true)\n",
            " |-- v437: double (nullable = true)\n",
            " |-- v438: double (nullable = true)\n",
            " |-- v439: double (nullable = true)\n",
            " |-- v440: double (nullable = true)\n",
            " |-- v441: double (nullable = true)\n",
            " |-- v442: double (nullable = true)\n",
            " |-- v443: double (nullable = true)\n",
            " |-- v444: double (nullable = true)\n",
            " |-- v445: double (nullable = true)\n",
            " |-- v446: double (nullable = true)\n",
            " |-- v447: double (nullable = true)\n",
            " |-- v448: double (nullable = true)\n",
            " |-- v449: double (nullable = true)\n",
            " |-- v450: double (nullable = true)\n",
            " |-- v451: double (nullable = true)\n",
            " |-- v452: double (nullable = true)\n",
            " |-- v453: double (nullable = true)\n",
            " |-- v454: double (nullable = true)\n",
            " |-- v455: double (nullable = true)\n",
            " |-- v456: double (nullable = true)\n",
            " |-- v457: double (nullable = true)\n",
            " |-- v458: double (nullable = true)\n",
            " |-- v459: double (nullable = true)\n",
            " |-- v460: double (nullable = true)\n",
            " |-- v461: double (nullable = true)\n",
            " |-- v462: double (nullable = true)\n",
            " |-- v463: double (nullable = true)\n",
            " |-- v464: double (nullable = true)\n",
            " |-- v465: double (nullable = true)\n",
            " |-- v466: double (nullable = true)\n",
            " |-- v467: double (nullable = true)\n",
            " |-- v468: double (nullable = true)\n",
            " |-- v469: double (nullable = true)\n",
            " |-- v470: double (nullable = true)\n",
            " |-- v471: double (nullable = true)\n",
            " |-- v472: double (nullable = true)\n",
            " |-- v473: double (nullable = true)\n",
            " |-- v474: double (nullable = true)\n",
            " |-- v475: double (nullable = true)\n",
            " |-- v476: double (nullable = true)\n",
            " |-- v477: double (nullable = true)\n",
            " |-- v478: double (nullable = true)\n",
            " |-- v479: double (nullable = true)\n",
            " |-- v480: double (nullable = true)\n",
            " |-- v481: double (nullable = true)\n",
            " |-- v482: double (nullable = true)\n",
            " |-- v483: double (nullable = true)\n",
            " |-- v484: double (nullable = true)\n",
            " |-- v485: double (nullable = true)\n",
            " |-- v486: double (nullable = true)\n",
            " |-- v487: double (nullable = true)\n",
            " |-- v488: double (nullable = true)\n",
            " |-- v489: double (nullable = true)\n",
            " |-- v490: double (nullable = true)\n",
            " |-- v491: double (nullable = true)\n",
            " |-- v492: double (nullable = true)\n",
            " |-- v493: double (nullable = true)\n",
            " |-- v494: double (nullable = true)\n",
            " |-- v495: double (nullable = true)\n",
            " |-- v496: double (nullable = true)\n",
            " |-- v497: double (nullable = true)\n",
            " |-- v498: double (nullable = true)\n",
            " |-- v499: double (nullable = true)\n",
            " |-- v500: double (nullable = true)\n",
            " |-- v501: double (nullable = true)\n",
            " |-- v502: double (nullable = true)\n",
            " |-- v503: double (nullable = true)\n",
            " |-- v504: double (nullable = true)\n",
            " |-- v505: double (nullable = true)\n",
            " |-- v506: double (nullable = true)\n",
            " |-- v507: double (nullable = true)\n",
            " |-- v508: double (nullable = true)\n",
            " |-- v509: double (nullable = true)\n",
            " |-- v510: double (nullable = true)\n",
            " |-- v511: double (nullable = true)\n",
            " |-- v512: double (nullable = true)\n",
            " |-- glasses: integer (nullable = true)\n",
            "\n"
          ]
        }
      ]
    },
    {
      "cell_type": "code",
      "metadata": {
        "colab": {
          "base_uri": "https://localhost:8080/"
        },
        "id": "htmMGBRzpCx5",
        "outputId": "8521df63-f062-47d7-e1af-118da1f662dd"
      },
      "source": [
        "df_pyspark.show()"
      ],
      "execution_count": null,
      "outputs": [
        {
          "name": "stdout",
          "output_type": "stream",
          "text": [
            "+---+--------+--------+--------+--------+--------+--------+--------+--------+--------+--------+--------+--------+--------+--------+--------+--------+--------+--------+--------+--------+--------+--------+--------+--------+--------+--------+--------+--------+--------+--------+--------+--------+--------+--------+--------+--------+--------+--------+--------+--------+--------+--------+--------+--------+--------+--------+--------+--------+--------+--------+--------+--------+--------+--------+--------+--------+--------+--------+--------+--------+--------+--------+--------+--------+--------+--------+--------+--------+--------+--------+--------+--------+--------+--------+--------+--------+--------+--------+--------+--------+--------+--------+--------+--------+--------+--------+--------+--------+--------+--------+--------+--------+--------+--------+--------+--------+--------+--------+--------+--------+--------+--------+--------+--------+--------+--------+--------+--------+--------+--------+--------+--------+--------+--------+--------+--------+--------+--------+--------+--------+--------+--------+--------+--------+--------+--------+--------+--------+--------+--------+--------+--------+--------+--------+--------+--------+--------+--------+--------+--------+--------+--------+--------+--------+--------+--------+--------+--------+--------+--------+--------+--------+--------+--------+--------+--------+--------+--------+--------+--------+--------+--------+--------+--------+--------+--------+--------+--------+--------+--------+--------+--------+--------+--------+--------+--------+--------+--------+--------+--------+--------+--------+--------+--------+--------+--------+--------+--------+--------+--------+--------+--------+--------+--------+--------+--------+--------+--------+--------+--------+--------+--------+--------+--------+--------+--------+--------+--------+--------+--------+--------+--------+--------+--------+--------+--------+--------+--------+--------+--------+--------+--------+--------+--------+--------+--------+--------+--------+--------+--------+--------+--------+--------+--------+--------+--------+--------+--------+--------+--------+--------+--------+--------+--------+--------+--------+--------+--------+--------+--------+--------+--------+--------+--------+--------+--------+--------+--------+--------+--------+--------+--------+--------+--------+--------+--------+--------+--------+--------+--------+--------+--------+--------+--------+--------+--------+--------+--------+--------+--------+--------+--------+--------+--------+--------+--------+--------+--------+--------+--------+--------+--------+--------+--------+--------+--------+--------+--------+--------+--------+--------+--------+--------+--------+--------+--------+--------+--------+--------+--------+--------+--------+--------+--------+--------+--------+--------+--------+--------+--------+--------+--------+--------+--------+--------+--------+--------+--------+--------+--------+--------+--------+--------+--------+--------+--------+--------+--------+--------+--------+--------+--------+--------+--------+--------+--------+--------+--------+--------+--------+--------+--------+--------+--------+--------+--------+--------+--------+--------+--------+--------+--------+--------+--------+--------+--------+--------+--------+--------+--------+--------+--------+--------+--------+--------+--------+--------+--------+--------+--------+--------+--------+--------+--------+--------+--------+--------+--------+--------+--------+--------+--------+--------+--------+--------+--------+--------+--------+--------+--------+--------+--------+--------+--------+--------+--------+--------+--------+--------+--------+--------+--------+--------+--------+--------+--------+--------+--------+--------+--------+--------+--------+--------+--------+--------+--------+--------+--------+--------+--------+--------+--------+--------+--------+--------+--------+--------+--------+--------+--------+--------+--------+--------+--------+--------+--------+--------+--------+--------+--------+--------+--------+--------+--------+--------+--------+--------+--------+--------+--------+--------+--------+--------+--------+--------+--------+--------+--------+--------+--------+--------+--------+--------+--------+--------+--------+--------+--------+--------+--------+--------+--------+--------+--------+--------+--------+--------+--------+--------+--------+--------+--------+--------+--------+--------+--------+--------+--------+--------+--------+--------+--------+--------+--------+--------+--------+--------+--------+--------+--------+--------+--------+-------+\n",
            "| id|      v1|      v2|      v3|      v4|      v5|      v6|      v7|      v8|      v9|     v10|     v11|     v12|     v13|     v14|     v15|     v16|     v17|     v18|     v19|     v20|     v21|     v22|     v23|     v24|     v25|     v26|     v27|     v28|     v29|     v30|     v31|     v32|     v33|     v34|     v35|     v36|     v37|     v38|     v39|     v40|     v41|     v42|     v43|     v44|     v45|     v46|     v47|     v48|     v49|     v50|     v51|     v52|     v53|     v54|     v55|     v56|     v57|     v58|     v59|     v60|     v61|     v62|     v63|     v64|     v65|     v66|     v67|     v68|     v69|     v70|     v71|     v72|     v73|     v74|     v75|     v76|     v77|     v78|     v79|     v80|     v81|     v82|     v83|     v84|     v85|     v86|     v87|     v88|     v89|     v90|     v91|     v92|     v93|     v94|     v95|     v96|     v97|     v98|     v99|    v100|    v101|    v102|    v103|    v104|    v105|    v106|    v107|    v108|    v109|    v110|    v111|    v112|    v113|    v114|    v115|    v116|    v117|    v118|    v119|    v120|    v121|    v122|    v123|    v124|    v125|    v126|    v127|    v128|    v129|    v130|    v131|    v132|    v133|    v134|    v135|    v136|    v137|    v138|    v139|    v140|    v141|    v142|    v143|    v144|    v145|    v146|    v147|    v148|    v149|    v150|    v151|    v152|    v153|    v154|    v155|    v156|    v157|    v158|    v159|    v160|    v161|    v162|    v163|    v164|    v165|    v166|    v167|    v168|    v169|    v170|    v171|    v172|    v173|    v174|    v175|    v176|    v177|    v178|    v179|    v180|    v181|    v182|    v183|    v184|    v185|    v186|    v187|    v188|    v189|    v190|    v191|    v192|    v193|    v194|    v195|    v196|    v197|    v198|    v199|    v200|    v201|    v202|    v203|    v204|    v205|    v206|    v207|    v208|    v209|    v210|    v211|    v212|    v213|    v214|    v215|    v216|    v217|    v218|    v219|    v220|    v221|    v222|    v223|    v224|    v225|    v226|    v227|    v228|    v229|    v230|    v231|    v232|    v233|    v234|    v235|    v236|    v237|    v238|    v239|    v240|    v241|    v242|    v243|    v244|    v245|    v246|    v247|    v248|    v249|    v250|    v251|    v252|    v253|    v254|    v255|    v256|    v257|    v258|    v259|    v260|    v261|    v262|    v263|    v264|    v265|    v266|    v267|    v268|    v269|    v270|    v271|    v272|    v273|    v274|    v275|    v276|    v277|    v278|    v279|    v280|    v281|    v282|    v283|    v284|    v285|    v286|    v287|    v288|    v289|    v290|    v291|    v292|    v293|    v294|    v295|    v296|    v297|    v298|    v299|    v300|    v301|    v302|    v303|    v304|    v305|    v306|    v307|    v308|    v309|    v310|    v311|    v312|    v313|    v314|    v315|    v316|    v317|    v318|    v319|    v320|    v321|    v322|    v323|    v324|    v325|    v326|    v327|    v328|    v329|    v330|    v331|    v332|    v333|    v334|    v335|    v336|    v337|    v338|    v339|    v340|    v341|    v342|    v343|    v344|    v345|    v346|    v347|    v348|    v349|    v350|    v351|    v352|    v353|    v354|    v355|    v356|    v357|    v358|    v359|    v360|    v361|    v362|    v363|    v364|    v365|    v366|    v367|    v368|    v369|    v370|    v371|    v372|    v373|    v374|    v375|    v376|    v377|    v378|    v379|    v380|    v381|    v382|    v383|    v384|    v385|    v386|    v387|    v388|    v389|    v390|    v391|    v392|    v393|    v394|    v395|    v396|    v397|    v398|    v399|    v400|    v401|    v402|    v403|    v404|    v405|    v406|    v407|    v408|    v409|    v410|    v411|    v412|    v413|    v414|    v415|    v416|    v417|    v418|    v419|    v420|    v421|    v422|    v423|    v424|    v425|    v426|    v427|    v428|    v429|    v430|    v431|    v432|    v433|    v434|    v435|    v436|    v437|    v438|    v439|    v440|    v441|    v442|    v443|    v444|    v445|    v446|    v447|    v448|    v449|    v450|    v451|    v452|    v453|    v454|    v455|    v456|    v457|    v458|    v459|    v460|    v461|    v462|    v463|    v464|    v465|    v466|    v467|    v468|    v469|    v470|    v471|    v472|    v473|    v474|    v475|    v476|    v477|    v478|    v479|    v480|    v481|    v482|    v483|    v484|    v485|    v486|    v487|    v488|    v489|    v490|    v491|    v492|    v493|    v494|    v495|    v496|    v497|    v498|    v499|    v500|    v501|    v502|    v503|    v504|    v505|    v506|    v507|    v508|    v509|    v510|    v511|    v512|glasses|\n",
            "+---+--------+--------+--------+--------+--------+--------+--------+--------+--------+--------+--------+--------+--------+--------+--------+--------+--------+--------+--------+--------+--------+--------+--------+--------+--------+--------+--------+--------+--------+--------+--------+--------+--------+--------+--------+--------+--------+--------+--------+--------+--------+--------+--------+--------+--------+--------+--------+--------+--------+--------+--------+--------+--------+--------+--------+--------+--------+--------+--------+--------+--------+--------+--------+--------+--------+--------+--------+--------+--------+--------+--------+--------+--------+--------+--------+--------+--------+--------+--------+--------+--------+--------+--------+--------+--------+--------+--------+--------+--------+--------+--------+--------+--------+--------+--------+--------+--------+--------+--------+--------+--------+--------+--------+--------+--------+--------+--------+--------+--------+--------+--------+--------+--------+--------+--------+--------+--------+--------+--------+--------+--------+--------+--------+--------+--------+--------+--------+--------+--------+--------+--------+--------+--------+--------+--------+--------+--------+--------+--------+--------+--------+--------+--------+--------+--------+--------+--------+--------+--------+--------+--------+--------+--------+--------+--------+--------+--------+--------+--------+--------+--------+--------+--------+--------+--------+--------+--------+--------+--------+--------+--------+--------+--------+--------+--------+--------+--------+--------+--------+--------+--------+--------+--------+--------+--------+--------+--------+--------+--------+--------+--------+--------+--------+--------+--------+--------+--------+--------+--------+--------+--------+--------+--------+--------+--------+--------+--------+--------+--------+--------+--------+--------+--------+--------+--------+--------+--------+--------+--------+--------+--------+--------+--------+--------+--------+--------+--------+--------+--------+--------+--------+--------+--------+--------+--------+--------+--------+--------+--------+--------+--------+--------+--------+--------+--------+--------+--------+--------+--------+--------+--------+--------+--------+--------+--------+--------+--------+--------+--------+--------+--------+--------+--------+--------+--------+--------+--------+--------+--------+--------+--------+--------+--------+--------+--------+--------+--------+--------+--------+--------+--------+--------+--------+--------+--------+--------+--------+--------+--------+--------+--------+--------+--------+--------+--------+--------+--------+--------+--------+--------+--------+--------+--------+--------+--------+--------+--------+--------+--------+--------+--------+--------+--------+--------+--------+--------+--------+--------+--------+--------+--------+--------+--------+--------+--------+--------+--------+--------+--------+--------+--------+--------+--------+--------+--------+--------+--------+--------+--------+--------+--------+--------+--------+--------+--------+--------+--------+--------+--------+--------+--------+--------+--------+--------+--------+--------+--------+--------+--------+--------+--------+--------+--------+--------+--------+--------+--------+--------+--------+--------+--------+--------+--------+--------+--------+--------+--------+--------+--------+--------+--------+--------+--------+--------+--------+--------+--------+--------+--------+--------+--------+--------+--------+--------+--------+--------+--------+--------+--------+--------+--------+--------+--------+--------+--------+--------+--------+--------+--------+--------+--------+--------+--------+--------+--------+--------+--------+--------+--------+--------+--------+--------+--------+--------+--------+--------+--------+--------+--------+--------+--------+--------+--------+--------+--------+--------+--------+--------+--------+--------+--------+--------+--------+--------+--------+--------+--------+--------+--------+--------+--------+--------+--------+--------+--------+--------+--------+--------+--------+--------+--------+--------+--------+--------+--------+--------+--------+--------+--------+--------+--------+--------+--------+--------+--------+--------+--------+--------+--------+--------+--------+--------+--------+--------+--------+--------+--------+--------+--------+--------+--------+--------+--------+--------+--------+--------+--------+--------+--------+--------+--------+--------+--------+--------+--------+--------+--------+--------+--------+--------+--------+--------+-------+\n",
            "|  1| 0.37797|-0.94808| 0.01346| 0.17893| 0.37795| 0.63571| 0.13943|-0.25607|-0.39341| 1.08947|-1.36048|-1.31529| 0.36119|-0.62857| -1.6529| 1.47167|-0.88741|-0.25942|-0.34414|-0.38914| 0.38425|-0.50553|-0.09451| 0.30568| -1.0757|-0.65924| 1.10918| 1.22234|-0.12479| 0.50198|-0.63932| 0.61505| 1.16747| 0.36921|-0.44398| 0.46192|-0.83207|-0.74952|-0.40722| 0.47676|-0.49025| 0.96342| 0.62002| 1.62286|-0.41622|-0.32908| 0.50767|-1.15255| -0.2988|-0.77552| 1.37172| 0.35445|-0.77999| 0.17749|-1.55149| 0.37408| 1.34311|-0.03759| 0.24895|-0.30284|-0.58959|-0.21468|-0.23906| 1.57851| 0.63372|-0.29029| 1.51731| 0.34035|-0.65004|-0.97841|  0.6202| 1.42972| 0.23463|-0.09207| 0.71882|-0.57192|-1.13176| 0.11802|-0.23903| 0.55314|-0.28699| 0.30153| 0.63447| 0.78673|-1.98901|-0.71549|-1.56751| 0.95337| 0.47641| 0.07396| 0.69711| 0.34523| 0.36468| 0.74195|-1.21493| 1.29861|-0.24692|-0.12682|-0.08777| 0.12545|-0.79656| 0.50021|-0.74516|-0.23557|-1.36852|-0.82759| 0.26058| 0.73254| 0.40433| -0.1307|-1.20977| 0.63637|  0.1673|-0.23841|-0.32623| 0.55959| 1.13289| 0.21683| 0.16411| 0.07739| 0.67614| 1.28507|-0.85105|-0.52003|-1.03331| 1.34169| 0.46066| 0.45133| 0.00423| 0.32041|-1.22669| 0.88718|-0.39471| 0.41877|-0.10183| 0.37829|-0.73055|-0.61548| 0.10961|-0.05624|-0.12372| 0.45067|-0.40442| 0.48357|-0.83383|-0.25234|-0.76535|  0.9927| 0.19206| -0.3825|-1.07033|-1.02467| 0.47111|-0.32496|-0.46735| 0.72413| 0.20201|-1.12464|-1.17203|-0.13222| -0.0213| 1.22916|-0.66626| 0.51807| 0.24285| 0.57143|-0.25755|-0.48301|  0.3898| 0.42449| 0.34878| 0.80635|-1.78821|  0.7954| 0.44683|-0.10447| 0.43037|-1.06641| 0.49249|-1.43782|-1.16506|  0.1914|-0.90361| 0.21259| 0.56534|-0.88444| 0.04903| 0.84513| 0.71355|-0.64048| 0.52607|-0.27042|-0.50296| 0.52843| 1.67627|-0.44852|-1.56136|-0.97498|-0.03436|  0.1363|-0.50165|-0.71443|-0.10532| 1.15229|-0.17938|-0.27908|-1.15321| 0.87157| -0.3243|-0.62597| 0.40743|-2.11953|-0.76772|-0.30588|-0.92189| 0.42624| 0.30636| 0.38792|-1.36856| 0.47557|-0.04147|-0.56578|-0.44605| 0.04227| 0.38582| 0.00888| 0.05456| 0.94309|-0.04198|-0.22515|-0.76609|  0.1528| 0.24749|-0.28927|-1.86034|  1.3804| 0.05008| 0.81032|-1.24563| 0.03603| 0.60654|-0.08543|-0.39697|-0.55231|-0.24756| 0.66438| 0.90638|-0.13216| 0.24734| 0.18664| 0.64678|-0.48083| 1.00874| 0.42392| 0.48869| 1.16728| 1.04212|-0.77265| 0.23265|-0.54624|  -0.098| 0.19892| 0.75913| 0.47129|-0.16612| 0.76538|-0.12458|-0.41276|-0.58352| 0.78327|-0.19525| 0.17321| 0.78087| 0.02003| 0.25382|-0.09291| -0.8545| -1.3395|-0.46793| 0.24616|-1.46633|-0.71407|-0.43374| -0.3626| 0.15364|-0.36294|-0.11555| 0.00969| 0.63599|  0.2024| 0.40865|  0.0604| 0.01746| -0.6462|  1.0504| 1.11319|-0.30983|-0.86587| 1.20897| 0.12887|-0.74832| 0.70023|-0.01799|  0.7538|-1.16216|-1.28317|-0.57258|-0.50547| 0.16099| 0.60126| 0.47496| 0.16996| 0.99246|-0.05954|-0.13722| 0.26235|-1.09001|-0.41133| 1.06517| 0.61326|-0.17961| 0.39856| 0.81491|-0.59806|-0.60501|-0.50334|-0.81826|-0.34426| 0.75135|-1.23184|  0.4801|-0.85981|-0.08391| 0.74168|-0.03208| 0.97185|-0.48948|  1.1116| 0.89996| 0.46359|-0.93279|-0.32391|-0.91953|-0.37432|-1.60744|-0.78364|-0.14483|  0.0396| 1.06271| 0.82579|-0.34627|-0.59719| 0.39585| -0.3351|-0.17612| 0.73618| 0.49149|  0.0858|-0.17848|-0.54053| 1.18255|-0.55866| 1.31338|-0.29215| 0.60478| 0.00907| 0.20135| 0.83719| -0.2681|-1.41061| 0.29062| 1.08146| 0.36871| 0.14566| 1.12593|-0.46958| 0.35747| 0.58619|-0.24269| 0.51951| 0.36978| 0.91539|-1.02925| 1.03066|-0.06427| 0.43056| 0.16021| 0.76546|-1.05058|-0.40007|-0.64131| 0.51221|-0.56072| 0.02978| 0.11699|-0.90819| 0.86452|-0.49377| 0.33237| 0.01044| 0.64749|-0.63854| 1.48823| -0.8821|-0.87498| 1.44741| 1.24616| 0.23477| 0.75635|  1.4817|-0.84222|-0.24261|-0.18338|-0.39629| 0.04229|-1.55106| 0.34587| 0.96189| 0.19175| 1.34128| 0.47244| 0.33008| 0.55929| 0.45491| 0.46605| 0.82189|-0.35795|-0.45466| 1.58349|-0.40847|-0.33599| 0.35035| 0.58171| -1.2652| 0.85511|-0.29834|-0.04852|  0.6093|  0.3109| 0.64761| 0.91965| 0.68684| 0.00158| 0.15168|-0.86001| 0.24785| 0.37891| 0.12798|-0.09472| 0.42075|  0.5673| 0.67849| 0.82122|-0.57066| 0.35201|    0.39|  0.4643| 0.20345|-0.15105| 0.99471| 1.95818|-1.06223|  0.3007|-1.18185| 0.76565|-0.21558| -0.0213| 0.53547|-0.54582| 0.40964|-0.10293|-1.05565|-0.39096| 0.54072|-0.71995| 1.11262|-0.11429| 0.85618| 0.17233|-1.06815| 0.04569|-0.13031| 2.07549| 0.47934| 0.69172| 1.37139|  0.4548|-0.96053| 0.06319| 0.09664|-0.34749| 0.09889|-0.87606| 0.82594| 0.52841| 0.84209| 0.16771| 0.59003| -0.2296|-0.04017| 0.15554|-0.41569|  0.6805|-0.03494| 1.32443| -0.9457| 0.02055|-1.23908| 0.43507| 1.08635| 1.69027| 0.61609|      0|\n",
            "|  2| 0.07609|-0.09774| 0.39666|-0.39026| 0.10606| 0.52774| 0.07105|  0.3372| 0.69917|-0.02842|-0.56431|  0.4206|-0.47533| 1.60025|-0.02106|-2.30193|-0.31614| -0.0805| 0.85041|-0.10574|-0.33177|-1.32102|-0.22244|-0.52076| 0.40012|-0.41339|-0.15176| 1.02155|-0.52834| 0.66718| 0.54844| 0.18323| 0.28764|-0.80084| -0.8504| 0.45097| 0.88317|-1.13375|-1.85301| -0.3671| 0.84539|-0.10506|  0.2275|-0.55865|-0.44548|-1.14204|-0.20972|-0.67772|-0.38041| -1.1325| 0.19826| 1.05086| 0.79206|-1.33586|-1.02708| 0.06363|-0.35928|-0.83273|-0.13405|-1.03436| 0.77339|-0.93254|-0.32218| 0.63016| -0.3936| 0.41549| 0.78122|-0.83361| -0.3085| 0.48572| 0.27133|-0.06507|-0.10312| 0.49639|-0.66175| 0.55848|-0.00713|-0.41044|-0.06843| 0.18303| 0.40188| 0.74204|-1.36309| 0.10642|-0.39895| 0.77368|-0.30937| 1.08612| 0.68325| 0.42583| 0.81515|-1.23187|-0.74733| 0.55619|-0.28839|-1.03704|-0.93234|-1.70046|-0.68236|-0.92464|-0.54233|-0.87502|-0.58788| 0.10587|-0.07803| 0.38978| -2.2059| 0.17728| 0.78644|-2.00028|-0.57706|-0.91364|-1.03183|-0.65211|-1.08937|-0.16304| 1.23256| 0.44014|-0.91649| 0.20023|-0.12051|-0.28131| 0.29541| 0.85274|-0.43075| 0.85586| 0.25753|-0.11972|-0.10508| 0.53906| 0.17111|-1.01878|-0.46825|  0.8797|  0.1144| 0.21921|-0.42763| 0.53456| 0.42411| 1.44578|-0.78214| 0.22217|-0.11599| 0.58146|-0.22918|-0.05419|-0.39207|-0.02757| 0.09882| 1.28853|-0.45892|-0.24671|-0.24789|-0.17794| 0.15117| 0.66983|-0.26137| 0.10034| 0.48614|-0.51153|-0.34656| 1.37467| 0.66363| 0.13556|-1.68224| 0.27748|-1.40626|-0.10908|-0.24593| 0.46472|-0.41561|-0.54976|-0.45074| 0.20833| 0.59297| 0.43492| 0.18458| 1.42618|-0.87414| 0.08556|-0.10085| 0.57775|-0.79558| 1.29509|-0.83579|-0.38804| 0.64413|-0.18856| -0.1628| 0.50833| -0.6993|-1.16639| 0.35598|-1.05122| 0.28137| 0.28872| 0.10856|-0.46074|-0.97783|-0.64854|-0.51675| 0.34895|-0.16903| 1.56442| 0.81472|-0.81176| 0.37822| 0.87796| 0.54409|-0.50908| 0.08597| 0.34115| 0.40822|-0.30573|  0.5592| 0.18219|-1.21531|-0.08035| 0.45147|-0.10222| 0.56765| 0.18671|-1.19725|-0.19335| -1.1857| 0.63802|-0.37873| 0.04032|-0.53492| 0.61235| 1.41702|   0.461| 0.16819| 0.61574| 0.00865| -2.1989|-1.07451|-1.14511|-0.45399| 0.72753| 0.73873| 0.80706| 0.28144|-0.32599| 0.10756| 0.78203|-0.09462| 1.19779|-0.13601| 0.16574|-0.43996|-0.57166|-0.56752|-0.08623| 0.61324| 0.38381| 0.11217| -0.4127| 0.37122|-0.17375|-1.40344|  1.6822|-0.22577|  0.3509|-0.86552|  -0.795| 0.06124|-0.11448|-0.41797| 1.19923|-0.21571|-1.64812| 0.12973| 0.83838|-1.08619| -0.1797| 0.55724| 0.15298| 1.61496| 0.25718| 0.18322|-0.54217|-1.14639| 0.76192| 1.23843|-1.02655| 0.15541|-0.33261| 1.48782| 0.09195| 1.04516| 0.31577|  0.4756| 0.05997|-0.07706|-1.11342| 0.85466| 1.09187| 0.30118| 1.06099| -0.3847| 0.14437|-1.89711| -0.2953| 1.82692|-0.53629|-1.46921|-1.48849| -1.4544| 0.48205|-0.34288| 0.11922| 0.41841|-0.83159|-0.81657| 1.61225| 0.51377|-0.33172| 0.34552|-1.34216|-0.12607| 0.60136|-0.07364| 1.19675| 0.51785|-0.21969|-0.50467|-0.41297| -0.8616|-0.82976| 0.84623|-0.46398|-0.66463| 0.58517| 0.06888|-0.64018| 0.77181|  0.1884| 0.38014| -1.0924| 0.16766| 0.30541| 0.16754|-0.24606|-0.89662|-0.45465| 0.06082| 0.40288|-0.71755|-0.71457|-1.54024| 1.24659| 0.52808| -0.2558|-0.20783|-1.34908| 0.19752| 0.09115| 0.24974| 1.02492|-0.24789|-0.07072|-0.17498|-0.53704| -0.1572| 1.28698|-1.14025|-0.13104|-0.92313| -0.2711| 0.73134| 0.81095| 0.92668|-0.97887| 0.97903| -0.1312| 0.47612| 0.00267|-0.19145|-0.76489| 0.33791|-0.56444|-0.79558|-0.21462|  0.8634| 0.05529|-1.37079| 1.20722| 0.63703| 0.98798| 0.31056| 0.82491| 0.53023|  0.4322|-0.49265|-0.95237|-0.10527|  0.5995| 0.19981|-0.64673|-1.03278|-0.23993| -0.8257|-1.10084|-0.68082|-0.43162| 0.02492| -0.6624|-0.13264| 0.10835| 1.20633| 0.32316| -0.5142| 2.25072| 0.44198| 0.16717|-0.67512|-1.55255|-1.44924| 0.89278|-1.17414| 0.06554| 1.03628|   0.527| 0.09674| 0.17118| 0.41626|-0.06922| 0.49854|-0.59399| 1.21987| 1.17899|-0.72666| 0.35834|-0.92763|-1.41446| 1.04832| 0.15992| 0.72156| 1.83534|-0.55568| 0.21172| 0.46724|-0.40574|-0.42214|-0.99931| -0.0548| 0.39919| 1.09413| 0.78859| 0.27245|-0.36915| 0.59571| 0.47968|-0.56669| 0.57892|-0.68439|  -0.307|-0.05451| 1.28493| 0.87617| 0.35958|-0.25383|  0.5401|-0.14235| 0.19807|-0.35728|-1.92904| 0.89797|-0.16654| 0.25275| 0.75856|-1.33041|-0.25966|-1.19259|-0.71514|-0.08903|-0.58853|-0.20697|-0.77025|-1.21129|-0.67575| 0.32509|-0.35147|-0.33581|-0.31505|-1.66721| 0.40666| 0.15053|-0.77809| 0.35837| -1.1095| 0.03764|-0.93728|-0.68952|-0.92334|-0.35401|-1.20552| 1.10199| 0.46268| 0.85954|-0.48484|-0.54585| 0.86624|-1.24953|-0.21511|-1.54146| 1.04765|-1.24035| 0.00866| -1.2764|-0.60496|      1|\n",
            "|  3| 1.19391|-0.68707|-0.68422|-0.36378|-0.60847|-0.40118| 1.45432| 0.00592|  1.6894|-0.98205| 0.67435|-1.27604| -1.3705|-0.91682| 0.23617| 0.53676|-0.26815|-0.66989| 0.46076|-0.04117| 1.34078| 0.46545|-0.25943|-0.22918|-0.49346|-0.53558| 0.69776| 1.15477| 0.01293|-0.86763|-0.08987|  0.5466| 0.09142|-0.21663|-0.28233| 0.15426|-1.02164|-0.24342|-0.18844|-0.64555| 0.97807| 0.48687| 1.05164| 0.27085| 0.45463| 0.42191|  0.4129| 0.27754| 1.17675|  0.1104| 0.07291| 1.16975|-0.18091| 1.29608| 0.36867|-0.14321| 0.41515| -0.8201| 0.70265| 0.06295|-0.14503| 0.50896|-0.04388|-0.22989|-0.45759|-0.27122| -0.1262| 0.66519| 0.56375|-0.85193| -0.7034| 0.97847|-0.49288|-0.21137| 0.94574|-0.90115|-1.01957| 0.34638|-1.55697| 0.70027|-0.28476|-1.34373| -0.9846| 0.72201|-0.20086|-0.79853| 1.22524| -0.1073| 0.59024|-0.40409|-0.36866|-0.22567|-0.03963|-0.82211| 0.50473| 0.81643| 0.03865| 0.49487|-0.45375|-0.27621|-0.45009| 0.02477| -0.0326| 0.89946|-0.34443| -0.0821| 0.10341| 1.31864| 0.97897|-0.08672| 0.34381|-0.69972|-0.29575| 0.76965| 0.27116|-0.16386| 1.03857|-0.02701|-0.71357| 1.24799|-2.24548|-1.07627| -0.1858|-0.68461|-0.03252| 0.12146| 0.86422| 1.20151| 0.28196|-0.01131|-0.53667| 0.03254|-0.64901|-0.21793|-0.31385| 0.66466|-0.58852| 0.08577| 0.42308|-0.03536|-0.26706| 0.26907|-1.57309|-1.10095|-0.26535| 0.58206|  0.9102|-0.31683|-0.48308| 0.99361|  -1.857| 0.25906|-1.33635| -0.0914|  0.3233|-0.22235|-0.31095| 0.03725|-0.72322|-1.25382|-0.31082|-0.11619|-1.62607|  0.0643|-0.95868| 0.32118| 0.11055|-0.82978|-0.95139| 0.24052| 0.65689| 1.61764| 0.11812|-0.19081| 0.67726|-0.35408| 0.13196| 0.09341| -0.4552| 0.30995| 0.32592| 0.30291|-1.27263| 0.02382| 2.23906|-0.65168| -0.2678|  0.1956|-0.94073|-1.65342| 0.76834| 0.16499|-0.11902|-0.10274| -1.2752| 0.27104|-1.16769|-1.16954| 0.26978|-0.62901| 2.64646|-0.31154|-1.33447|-0.19175| 1.27661|-1.57797|   0.765|-0.02156| 0.10254|-0.82104| 0.13999| -0.1842|-0.74235| 0.68714|-0.41355|-0.12824|-0.46901|-1.18025| 0.10999|-0.31848| 0.45356| 0.61951|-0.54287|-0.45105| 1.32827| 0.59809|-1.02075|-0.03658|-0.27272| -0.8986| -0.6903| 0.24292| 0.09009| -0.1541|-0.48872| 0.55644|   0.535| 0.02866|-1.30111|-0.80875| 0.07841|-0.43036|-0.97347| 0.21164| 0.52389|-0.33015| 0.34219| 1.13396| 0.55855|-0.08244|-0.20826| 0.10838| 0.64676| 0.12935|-0.06321|-0.56359| 0.52192|-1.23987|-0.12616|-0.88508|  1.0599|-0.02693| 0.57548| 0.51782| 0.45137| 0.41916| 0.18061| 0.62533|-1.20818| 0.33084| 0.66636| 0.82622|-0.54081| 0.49272|-0.08879| 0.78038|  0.4027|-0.29252|-0.43004| 0.68118|-0.19339| 0.18404|-0.74861| 0.21586| 0.05474|-0.32547|-0.32553| 0.21517|-0.15455| 0.32049| 1.04311| 0.22107|-0.50962| 0.19838| 0.64833|-1.56346|-0.83442| 0.52491| 1.07162|-0.09415|-1.92266|-0.15779|  0.9955| 0.64386| 1.33766| 0.01674|  0.0231|-1.35435| 0.16789| 0.09844|-0.39113| 0.36171|-0.25401| -1.8911|-0.61523|-0.81916| 0.47515| 0.73018| 0.20881| 0.16664|-0.10965|-0.29507|-0.52948|-0.09949| -1.5407|-0.30287| 0.40993| 1.02289| 1.23246|-0.26243| 1.54031| 1.30665| 0.14827|-0.29515| -0.5164| 0.18925| 1.01278| 0.19634|-0.81062| 1.41542| 0.35809| 0.11175| 0.65111|-0.36685|-0.35193|-0.03598|-0.61226| 0.39422| 0.42869| 0.66104| 1.04569| 1.36778| 0.14991|-0.03073| 0.31275|-0.69524|-0.74138| 0.42207|-0.01416|-0.72158|-1.17566| 0.27308|-1.01347|-0.26603| 0.39488| 0.13789|-1.42086|-1.44341|-1.31316| 0.13858| 0.14545|-0.10738|-1.70855| 0.05794| 0.28631|-0.42538|-0.85043| 0.39393|-0.51843| 0.02393| 1.35742| 0.96689|-0.78749|-0.89916|-0.35076|-0.86842|-0.05267|  0.7071|-0.63787|-0.84311| 0.18324|  0.8933|-0.20603| 1.36173|-0.22214|  0.0954| -0.2427|-0.78467|-0.60548| 1.06702|-0.24911|-0.82855|-0.35114| 1.70241| 0.05781| 1.05879|-1.27015|-0.96264|-0.47274| 0.53505|-0.00717| 0.31183|-0.74491| 0.98118| 0.78707| 0.17184| 0.38762| 0.37104|  0.2428| 0.28051| 0.38796| 0.03355|-0.63889| 0.64397|-1.35085| -1.5681|   0.094| 0.70309| 0.26996| 0.07707| 0.33524|-0.79801| 0.70644| 0.08378|-1.07679|-0.70121|-0.31541|-0.31915|-0.12206|-0.41396| -0.0349| 0.62194|-0.55871| 0.52285|-0.72429|-0.06852| 0.60977| 0.11621| 0.45972|-0.13153|-0.29109|  0.7052|-0.06651|-1.87219| 0.37536|-0.53178|-0.55563|-0.56303|-0.46159| 0.53476| 0.22795|-0.81188| 0.75491|-1.05693|-0.75527|  0.4633| 0.80945| 0.74189| 0.87984|-0.35052| -1.0817|  0.8191|-0.65124| 0.91472|-0.29778| 0.45507| 0.03296|-0.79752| 1.19759|-0.45417| 0.15993| 0.39516|-0.87621| 0.05737|-0.99432|  1.1991| 0.78989|-0.13908| 0.12384| 0.38121| 0.05699|-0.89445|-0.67448|-0.07669|-1.50409| 0.07962| 0.95116| 0.72782|-0.88516| 0.40735| 0.10415| 0.31639|-0.34801|-0.35893|  0.0233| 0.31548|-0.34923|-0.41772|-0.58175|-0.60177| 0.43555| 0.41982|      1|\n",
            "|  4| 1.34949|-0.31498|-1.30248| 0.50278| 1.66292|-1.06094|-0.70835|-0.24237|-0.15509|-0.04532| 0.97349|-0.21032|-0.71143| 0.59725|-0.51849| 0.00126| 1.22219|  0.5716| 0.41212| 0.90077|-0.80797|-1.20564| 1.40774|  0.4908|-1.05429|   0.263|-0.03849|-0.66792| -0.2926| 0.47713| 0.44967| 0.44411|-0.13465|-0.20365| 0.52841|-0.47348| 0.39295| 0.67695| 0.40861|-0.27174|  -0.293|-0.84736|-0.77912| 0.49243|-1.20856|-0.52951|-1.23407| 1.04745|-0.51419|-0.80816| 1.78861| 0.17318| 0.72663|-0.22456|-0.62232|-0.04338| 1.20983|-0.16165| 0.21622| 1.21289|-1.04571|-1.16898|-0.13027|-0.92567| 0.03106|-0.32682|-0.23222|    1.05|-1.25865|-1.04202|-0.56259| 0.28905| 1.62015|-1.34866|-0.67649|-0.21645|-0.20244|-0.05193| 0.62871| 0.26425|-0.39181| 0.46142|-1.05837|-0.07362|-0.87137|-0.08942| 0.48307| 1.32337| 0.75423| 0.39844|-0.70839|  1.9553|-0.43466| 0.67947|-0.68267|-0.09165| 1.49084|-0.60866|-0.36045| 0.29328| 0.22226|-1.35857|-0.90015| 0.85803|-0.64284|-0.36282|  0.8966| 0.33403|-0.39399|-0.59291|-0.03074|  0.4094| 0.61464| 0.42081|  0.8371|-0.87045| 1.01775|-0.41397|-0.75285| 1.30235|-1.28843| 1.54126| 0.29406|-1.09533|-0.83917|-0.44243| 0.21514|-0.21501| -0.6592| 0.95573| 0.42422| 1.03313|-1.13759|-0.17885| 0.70663|-0.93651|-0.24235| -0.3722| 0.20345|-1.07103|-1.08222|-0.20757| 0.26529| 0.73428| 0.10857| 0.48784| 0.80623| 0.04785|-0.02306| 0.37883| 0.45517| 0.80216| 0.40627| 0.46273|-1.02988| 0.51455| 0.06585| 0.22167|  -0.683| 0.34124|  1.0287| 0.21573| 1.14208|-0.40311|-2.02063|-0.74058|-1.15774| 0.31507|-1.48034| 0.86487|-0.27611|-1.11466|  1.6607| 0.52601| 0.21193|-0.50209| 0.76613|-0.28196|-0.29787|-0.61931| 0.11998|-0.30636| 0.53176| 0.53707| 0.27392|-0.63049|-0.63016| 0.10174| 0.13213|  1.0451|-1.08256| 0.05783|-0.90601|-0.41901| 0.94582|-0.78773|-1.00158|-1.00238|-0.18567| 0.58432|  0.2127| 0.94551| 0.50782|-0.26223| 0.63105|-0.62136|-0.22889|-0.68079|-0.01198|-0.21978| 0.27183|-0.40624| 0.32287|   0.475| 0.84851|-0.08875| 0.15569|-1.93493|-0.14377|-0.28218|-0.15193|-0.54396|-0.10112| 0.64865| 0.76151| 0.26252|  0.3457|  0.5111|-0.51925| 0.02564|-0.49742| 0.59138| 0.21394| 0.04931|-0.20213| 0.61848|-0.75592| 1.01388| 0.39842|-0.25612|-0.99586| 0.37471|-0.73422| 0.55987|-1.59845| 0.15594|-1.32761| 0.95445|-0.53732|-0.31474| 0.94248|  1.0838|-0.54192| 0.57241| 0.61271|-0.38601| 0.29199| 1.23445|-0.37536| -1.2974| 0.48453|-0.25561| 0.78543|-0.21849| 0.46852| 0.85312| 0.37677|-0.46012| 1.20734|  1.0437|-1.29766|-0.20705|-0.68763|-0.19201|-0.79755| 1.33807| 0.72111|-0.33502|-0.05918| 0.19408| 0.09952| 0.37541| -0.5629| -0.8983| 0.47978|-0.16727|-0.78234| 0.49691|-0.33002| 0.51295|-1.01856|-0.57527| 0.73633| 0.95184| 0.52408| 0.68622| 0.21456| 0.59534|-0.44633| 0.59834| 0.40509|-0.92829| 1.53223| -0.1207|-0.53206| 0.55277| 1.16542|-0.60705|-1.68479| -0.5781| -0.5671| 0.73494|-0.44461|-1.21721|-0.77445| 0.36187|-0.31689|-0.89278|-0.19497|-0.26892|-1.51679|-0.89714|-0.38111| 0.26536|-0.41823|-0.20687| 0.25035|-0.51512|-0.45213| 0.59692| 0.77943|-1.14018| 1.42396|-0.07211| 0.57801|-0.21323| 1.18122| 0.81664|-0.48586|-0.01795|-0.34935| 0.04262| 0.06186| 0.14722| -0.3781| 0.53271| 0.74635| 0.80305|-0.47319|-0.06866| -0.2047|-0.28172| 0.13672|-0.44942| 0.28157| 0.27881| 0.22211|-0.44388|-0.69877|-1.44571| 0.19559| 0.10146|-0.08813| 0.12821|-0.45635| 0.21668| 1.40907|-0.29796|-0.32225| 0.25553| 1.34305|-0.41235|-0.37124|-0.74958| 0.67126| 0.88037|-0.85175|-1.66619| 0.18947| -0.8218| 0.59692| 0.35052| 0.09349|-0.90151|-0.65658| 0.58738| 0.47196|-1.80482| 0.35261|-0.60921|-0.67921| 0.58003|-0.83226| 1.23133|-0.99099| 0.71515|-0.24057|-0.75824| 0.72947|  0.4223| 0.26059|-0.85376|-0.36767| 0.79308|-0.02467|-1.35787|-1.25499|-0.17928|-0.63689|  0.3521|-0.00224| 0.00516|  0.9361|-0.06172|-2.45574|-0.64017|-0.21697|-0.16509|  0.0851| 0.03623| 0.34679|-0.37181| 0.35536|-0.14624| 1.36182|-0.30101|-0.15842| 0.09698|-0.43104|-0.52182| 0.37299|-0.75044|-1.49704| 0.61047|-1.14598|-1.33913|-0.93308|   0.489| 0.92493|-1.08431| 0.40037| 0.95471|  0.1748|-0.04457| 0.68068|-0.57188| 0.79505|-0.63377| -1.5918| 0.07186|-0.22106| 0.94735|-0.99746| 0.06338|-1.41758|-0.84388|-0.88431| 0.91809|-0.44292| 0.39225|-0.11673|-0.47018|  0.0987| 0.62185| 0.29433|-0.89408|-1.18401| 1.91078|-0.51087| -0.2391| 0.12418| 0.10814|-0.64236| 0.65551|-0.17916|   0.557| 1.84589| 0.70722|-0.55871|-1.18265| 0.82509|-0.50715| 0.71948|-1.08462|-0.05607| 0.86918|-0.11338|  -0.737| -0.1213| 0.81417|-0.61391|-0.90671| 1.09301| 0.37716| 1.06373|-0.62199|-0.21279|-0.43245|-0.28904|-0.25435|-0.20458|-0.00398| 1.18449| 0.23942| 0.20774| 0.81792|-0.74814|-0.62521| 0.01689| 0.83997|-0.46986| 0.06755|      0|\n",
            "|  5|-0.03512|-0.34196|  0.1423| 1.50513|-0.14364| 0.49429| 0.07823|-0.04356| 0.42009|-0.88828| 0.13601| 0.26917| 0.11973| 0.04378| 1.06879|  0.1006|-0.83331|-0.64776| 0.26461| 0.65249|-0.41807|  0.6592| 0.11838|-0.00525|-0.74657|-0.97743|-0.71398|-0.08356|-0.82942| 0.60474|  0.1279|-0.41187|-2.18319| 0.27367| 0.54507| 0.26555| 0.67382|-0.24832| 0.43397| 0.50747| 0.59569| -0.4423|-1.54007|  0.5361| 0.93374| 2.57923|-0.53337|-0.31806|-0.16047| 0.36162| 0.23018| 0.08277| 0.52608|-0.21494| 0.43946|-0.75701|-0.01615| 0.11652|  0.0115| 0.13683|-0.14562| 0.24028| 0.92498|  1.1293|-0.22976| 0.34573| -0.6275| 0.57661|-1.26762| 0.67303| 1.00741|-0.40564| 0.94891|-0.26167| 0.00343|-1.11365|  0.7975|-0.92943| 0.23738| 1.16307|-1.06288| 0.08638|-0.85354|-1.66211| 0.09786|-1.25621|-0.61215|-0.52704| 0.00627|-0.27523| 0.25853|-0.91946|  0.8142|-0.81331|-1.30852|-0.11726|-0.64218|-0.56868| 1.02314|  0.0499| 0.90456| 0.38112|-0.15107| 0.34197|  0.0141| 0.44767| -0.2876|-0.32334| -0.1881| 0.91025| 0.36492| 0.58974| 0.29324| 0.27062| 0.83913|-0.47384| 1.10352| 0.80238|-0.71387| 0.15251| 0.03507|-0.40574|-0.68518|-1.39294|-0.56177| 0.06986|-0.39452| 0.86262| 0.14409|-0.90866|  -1.477|-0.28612|-0.40891| 0.43708|-1.19742| 0.64991| 0.98415| -0.2816|-0.03868| 0.43938| 0.60211| 0.07233|   0.558| 0.95515|-0.53289|-1.08325|-0.63777| -0.9824| 0.05423| 0.34556|-0.06476|-0.12743|-0.20747| 0.24413|-0.19251| 0.75446|-0.99626|-0.43134| 0.46584| 0.25943|-1.21115| 0.09309| 0.30669|-0.58124| 0.14208| 0.70601| 0.84191| 1.17568|-0.26768| 0.49174|  0.1631|-0.96027| 0.04328|-0.59108|-1.17797| 1.55053|-0.05716|-0.69939| 1.76466| 0.29463| 0.62469| 0.39492|-0.05625| 0.30022| 0.55157|-0.00161| 1.72615| 0.08225| 1.17531| 0.31659|-0.27463| -1.5544|-0.36356|-0.34125| 0.02967| 0.20543| 0.92614| 0.30318|-1.03028| 0.51503|-0.24445| -0.7307| 0.27694| 0.93211| 1.06218|-0.11013| 0.34962| 0.02088| -0.3468| 1.30531| 0.68872|-0.09745| 0.21538| -0.7214| 1.13741| -0.0782| 0.78987| 0.14814| 0.01818| 0.79789| 0.19637| 0.04723| 0.88246| 1.90332| 1.84186| 0.20836| 1.21776| 1.16574|  -0.999| 0.38471|-1.47759| 0.28747|  0.6787| 0.82906| 1.29287| 1.81149| 0.50568| 0.46201| 0.58214| 0.17662|-0.97307|-0.07207| -0.3218|  -0.369|  0.4217| 0.40688|-0.04162|-0.07615| 0.39379|-1.09501| 0.20498| 0.51771| 0.95811| 0.94626|-0.44283|-0.68277| 1.03296| 0.41084|-0.54228|-0.07493| 0.86829|-0.73057| 2.01865| 1.04966|  0.1431|-0.11126|-0.26122|  0.5817| 0.15924| 0.78323|-0.56513| 0.59485|-0.71504| 0.38156| 1.09098| 0.69849|  -1.073|  0.9326|-0.04461|-1.29539| 0.50747|-1.06965|-0.96073|-0.05564|-0.51313| 0.04556| 0.19679|-1.27022|-0.66286| 0.81306| 1.18526| -0.3048|-0.55253|-0.04278| 1.27765|-0.41268| -0.5812|-0.35453| 1.36115| 0.06489|-0.17642| 0.58204| 0.22111| 0.47974| 0.39026| 0.69678|-0.34625| 1.46485|-0.18934|  0.0628|-0.55582| 1.35808| 0.04557| 0.35722| 1.10863|-0.35215|-0.42412| 0.93121| 0.41827| -0.2437|-0.35935|-0.02157| 1.09632| 0.70369| 1.17062|-0.15684|-0.56806|-0.59475|-0.89014| 0.93466|-0.05205| 0.29318|-0.55117| 0.29997|-0.83603|-0.08805| 0.27169| 1.10303|-0.23217|-0.06934|-0.75052| 1.30575| 1.07214|-0.18851|-0.28558| 0.30755|-1.38737|-0.49139| 1.17979| 1.08662|  0.1903| 0.14824| 0.99469| -2.2051|-0.49927|  1.7178|-0.13792| 0.02412| 0.30884| 0.27207|  0.8657| -0.0952| 0.07302| 0.51844|-0.06356|-0.15981| 0.16255| 1.30176| 1.27989|-0.01257| 1.04278|-0.24429| 0.22837| -0.1479| 0.49649|-0.36914| 0.23359|-0.05853| -0.7039|-0.12865|  0.0352| 1.23473|-0.43034| 0.38806| 0.70255|-0.09081|-0.35714|-0.28853| 0.74844| -0.5992|-0.97922|-0.05328|-1.09174| 0.62877|-0.05496|-0.21381|-0.02481|-1.10475| 0.34256| 0.67326| 0.39988| 1.04791| -0.6041| 0.14915|-0.97191| 0.68213| 0.14298| 1.84145|-0.66739|-0.40687| 0.23861| 0.41038| 0.28794|-0.24879| 0.18848|-0.58027|-1.57262|-0.67978|-0.79964| -0.5457| 0.23737|-0.33324|-0.64103| 0.15903| 0.00484| 1.09456|-0.00706|-1.07644| 0.90015|-0.79272| 0.14417| 0.16013| 1.21767| -0.7073|-1.47571| 0.61207| 0.73954| 0.53568| 0.50989| 0.24635| 0.26853|-0.67365| 1.17185| 1.15714|-0.44178| 1.51289|-0.41411| 0.70976|-0.58926| 1.42256|-0.33936| 1.23552|  0.4702| 1.39383|-1.30467|-0.46744| -0.5418| 0.67885| 1.64391|-0.79956|-0.30115| 0.93729|-0.72594|-1.39976|-1.42227|-0.35165|-0.90458|-0.32971| -0.1782|-0.65345|-0.59638| 0.78145|  1.0839| 0.90449|-0.51652|-0.11353| 1.59131|-0.15053|-0.03551| 0.02906| 0.16957| 0.62629| 0.71465|-0.77525| 0.46366| 0.03279|-0.17744| 0.32256| 0.16237|-0.52918|-1.07961| 0.55594|  0.0777| 0.08003| 0.86164| 0.24552|-0.17842| 0.57825| 0.01275|-1.05442| -0.6113| 0.72826|-1.61306|-1.78407| 0.07465| 1.50182|-0.41289|-0.55908|-0.29702| 0.83641| 0.59756|-0.20298|      0|\n",
            "|  6|-0.46177|-0.29613| 0.61101| -1.0088| 0.29751|-1.08969|-0.85424|-0.13436|-1.53843|-0.75731|-0.34578|-0.61463|-0.45296|-0.94544| 0.99837|  0.5233|-0.96145|  0.3411| 0.01358|-0.50289|-0.08764| 0.38965|-0.03499|-0.14619|-0.80936|-0.93604| 1.04069|-0.46338| 0.16818| 0.99486| 0.03724|-0.35194|  0.2089|-1.22829|-0.19933| 0.39867| 0.51486|-0.59878| 0.12788|  0.6363|-0.37987|-0.50619|-0.03206|-0.82657| 0.17709| 0.35693|-0.99028|-0.32946| 0.06019| 0.33831|-0.06871| 0.72131| 0.83639| 0.03688|-0.45983| 0.19476|-1.14585| 0.17281|-0.31197|-0.93855| 0.47149| 0.71623| 0.85407|-0.34403| 1.23856|-0.79084| 1.56405|-1.39141| 0.02868| 0.84315|-0.56048|-0.24309|-0.54697|-0.61122|-1.63224| 0.34604|-0.40387| 0.05314| -0.4642| 0.58031| 0.77804| 0.26719|-0.01732| 0.24165|   0.927|-0.31929| 1.11288| 0.78262| 0.14059| 0.41427| 0.46257| 0.44573| -1.1087| 1.00231|-0.90474| 0.75682| 1.28011|-0.87954|-2.57945|-2.02234|  0.0997|-0.34576| 0.07124| 0.70966|-0.08439| 0.59265| 1.13428|-0.49854|  0.6299| 0.40792| 0.71457|-0.04906| 0.19156|-0.00292|   0.618| 1.17913| 0.07136| -0.7783|-0.11998|-0.32594| 1.09923| -0.0762| 0.17063| 0.28257|-0.13293|-0.39791|-0.76388| 0.04316| 0.77077|  0.1746|-0.34361|-0.26327| 0.18915| 0.01623| 1.50754| 0.02928| 0.29193|  0.1481|-0.24179|-0.39244| 0.84125| 0.31927|-1.11012|  0.9113|-0.67941| 1.07651| 1.37717| 0.47488| 0.08662| 0.50019| 0.10114|-0.33195|-1.10416|-0.15249|-0.29102| 0.06761|-1.14082|-0.24082| 0.15866|-0.11214| -0.6652|  0.9126|-0.35264|-0.03996| -0.2478|-0.59532| 0.42741| 0.40845|-0.62757|-0.15965|-0.32985|-0.12959|-0.72299|-0.23183|-0.40851| 0.62555| 0.91046|-1.08081| 1.22879| 1.15243| -1.6088|-0.60109|  0.1003|-0.32026| 0.42335|-1.50568|-0.89481| -0.2877|-0.79508| 1.21147| 1.17226| 0.28598|-1.01854| 0.95978|-0.76914|-0.74101| 0.94295| -0.6441|-0.88484| -0.1127|-1.35098|  0.4298|-0.40912| 0.04352|-0.32964|-0.67221| 0.13701|-0.16102| -0.2485| -0.1584| 0.25279| 0.37201| 0.34234|-0.38962| 0.00838| 1.63127| 1.43914|-0.03235| -0.5287|-0.09915|-0.50236|   -0.91| 0.84501|-0.96475| -0.4065|  1.5947|-0.73328|-0.38561|   0.083| 0.55756| 0.37837|-1.17997|-1.06459| 0.19253|-0.43077| 0.73038| 0.19166|-0.19693| 0.62367|-0.14147|-0.92663|-1.20301|-0.92846| 0.50763| 0.28447| 0.01341| 0.45489|-0.41156|-0.25547|-0.91254|-0.72694|-1.95646| 0.53796| 0.32192| -0.1033|-0.18989| 1.16876|-0.26373|-0.32876|  0.2372|-0.41114|-0.97902|-1.65986| 0.52819|-0.96585|-0.39336|-0.90265|  0.3719| 0.58434| 0.35908| 0.22884|-0.85825| 0.15613|-0.85514| 1.28473|-0.81672| 0.94208| 0.03741| 1.19922|-0.93572|-1.79238|-0.25896|-1.24933| 0.23841|-0.30786|-0.56108| 0.53116|-0.07148|-0.78188| -1.2974|-0.08686| 0.34771| 0.00682| 0.74863|-0.09598| 1.29567|-0.82837|-0.10493|-0.02344| 0.69641| 0.44366| 0.81872|-0.19028|  -0.786| 0.62087| 0.18143|-0.50983| 0.04805| 0.20744| 0.18281|   0.432| 0.89778| 0.59143| 1.13778|  0.8741|-0.43253| 0.04771| 0.14134| 0.30258|-0.34459|-0.94617| 0.58097| 0.13125|  -0.065|-0.55014|-0.70271|-0.37588| 1.02358| 0.20611| 0.22746| 0.20885|  1.0626|  1.2446| 0.17989|-1.42203|-0.61316| 0.19279| 0.99226|  -0.648| 0.53093| 0.87092| 0.73912| 0.45541| 0.58119|-0.71417| 0.47065| 0.55073|-0.67023| 0.47242|-0.65094| 0.53027| 0.32225| 1.63544|  0.3148|-0.46226| 0.13331| 0.14016| 0.48692|-0.12319| 0.88539| 0.96598| 0.14618|-1.38489|-1.00096| 0.90885| 0.35632|-1.45537|-1.01541| -0.5512| 0.34334|  0.5273| -0.1783| 0.14407|-0.61999|-0.47477|-0.48469| 0.51542|-0.06142|-0.08977|-0.40501| 0.85541| 0.93927| 0.00117| 0.00688|-1.41933|-1.04805| 0.65697| 1.47958| 0.89757|-0.04119| 1.38357|-0.03288|-0.23732|-0.48537| 1.20668|-0.94287|-0.43909|-0.40202| 1.03653| 0.35828| 0.10656| 0.22297|-0.73363|-0.04893|-0.13607|-1.49148| 0.56697|-1.51142|-0.88906|  0.9697| 0.80208| 0.20578|-0.02558| 0.77648| 1.13085| 0.79675| -0.7588|-1.08081| 0.37368| 0.31635| -0.0751|-0.89234|-1.14144| 0.86763|-1.21984|-0.86583| 0.30223|-0.05162|   0.086| 0.14887|-0.66989|-0.24202| 0.57954| 0.78516| 1.94775| 0.03608|-0.37089|-1.56546|-0.26171|  0.3238| 0.16185|-1.82756| 0.75823|-0.09024| 0.13481| 0.56894|-0.16123| 0.84072| 0.86437|-0.13682| 0.51006|-1.57317| 0.58595|-1.37754|  1.0566|  0.4254| 1.09212|-0.11617| 1.00471|  0.9767|-0.54182| 1.07672|-1.76358|-0.48186| 0.71773|-0.09951|-0.29114|-0.42453|-0.86217| 0.16626| -0.5726|-0.38972| 0.49412| 0.13055| 0.76501|-0.18768| 0.25231|-0.77514|  -0.109|-0.72226| 0.17467|-0.96278|-0.39707|-0.34318| 0.69381|-0.15092|-0.02572| 0.59333| 1.30138|-0.42971|-0.30781|-1.43924|-0.47904|-0.08013| 0.55905|-0.09015|-1.26285|-0.80081|-0.62889|-1.22597|-0.09255| 0.25952|-0.35821|  1.2636|-0.16501|-0.92636|-0.33684| 0.51239|-0.12769|-0.51985|-0.11441| 1.15465|      1|\n",
            "|  7|-0.47879|-0.89301|-1.21926| 1.30133|-1.01324|-0.26255|-1.36692|-0.25257| 0.28072|-0.29767| -0.5484|-1.47257| 0.56838| 0.41275| 0.18479|-0.53068|  -0.203| 0.53784| 0.83995| -0.0924| 0.56465|-0.33136| 0.71921|-0.85551| 0.08267| 1.23437| 0.44236| 1.18063| 0.44438|-0.13996|-0.68365| 1.28755| 1.32834|-0.33164| 0.01941| 1.02083| 0.40897| 0.27777|-0.31376| 0.53452| 0.89795|-0.22332|-0.06983|-1.44955| -1.7906|  0.0049| 0.43768|-0.38881|-0.46188|-0.62964| 0.08385|-0.09659|   0.761|-0.65289| 1.23576|-0.89719|-0.85582|-0.79059| 0.35795| -0.6805| 0.32568| 0.45558| -0.4311| 0.65476| 1.40963| 1.38637| 0.56473| 0.50302|  -0.297|-1.05849|-0.85036| 0.30242|-0.05017|-0.82516| 0.72608|-0.04177|-0.21095| 0.42106|-1.49929|-1.46449| 1.90536|  0.2045| 1.26772|-0.70455| 0.63108|-0.47915| 0.09038|-1.17398|-0.10362| 0.20187| -1.1325| 0.25296| 0.48591|-0.30067| 0.13476| 0.67007| 0.64037|-0.98053|-0.63209| -0.2561|  0.2604| 0.10066| 1.40686| 0.41379|-0.61094| 0.42965|-1.25925| 0.08338|-0.78207|-0.53103| -0.1707| 0.58658| 0.50197| 1.30689|-0.55758|-0.62608| -1.4051|-1.17745|-0.72733| 0.53982| 0.07853| 1.09422|-0.06781| 0.73929|-0.52314| -1.9394| 0.65295| 1.67405| 0.31645|-0.58164| 0.11234| 0.22868| 1.22021| 0.02627| -0.0581| 1.64259|-0.32166|-0.64063|-0.86774|  0.8143| 0.00205| 0.00812|-0.60371| 0.38259|-0.62106| 0.29681|-0.66818|-0.09993|-1.19512| 0.07006| 0.43118|-0.37682|-0.38616|-0.58824| 0.16481|-1.13158| 0.12363|-0.61005|-0.43278| 1.10636|-0.46961|-0.25542|-0.08934| 0.22674|-0.44165|  -1.105|-0.96499|  0.4103|-0.70672| 0.96529|-0.87743| 1.53042|-0.04278| 0.04475|  1.8094| 0.16262|-0.72523|-0.37666|-1.52843|-1.45332|-0.53221|-0.60424|-0.49604| 0.57963|-1.16902| 0.41396| 0.19045|-0.16044|-0.86637| 0.61159|-0.39964| 0.51843|-0.24195|-1.02754| 0.67613|-0.27594|-0.16175|-0.69433| 0.58086| 0.58536|  0.5214|-0.53118| 0.11177| 0.26147|-1.33417| 0.14992| 0.79467|-0.04972| 0.77708|-0.82541| -0.0285| 1.07798| 0.78736| 0.18356|-0.91682| 0.38669|-0.42657| 0.37026| 1.07638|-0.98305| 0.50444|-0.89658|-0.69185| -0.0758|-0.40919|  0.7876|-0.92074|-0.61398|-0.39346| 0.55112| 0.33304|  0.3863| 0.04065| 0.01091|-0.43823|-0.80373| 0.72101| 0.17333|-0.55649|-1.05993|-0.11427|-1.44735|  0.2319|-0.70603|-1.05827|   0.029| 0.51938|-0.50582|-0.93845| 0.01318|-0.42667|-0.03238|  0.6139| -1.6355| 0.11585|-0.05058| 1.77655|-0.14808| 0.96852| 1.96127|-0.54743|-1.40208|-0.69037|-0.72015| -0.0147| 0.20529|-1.60645|-0.51557|-0.56814|-0.32544| 0.04115|-0.96508|-0.32548|-0.93629| 0.32993|-0.56808| 0.21593|-0.26344| 0.35743| 0.14678|-0.45044| 1.19006| 0.17897|-0.85062| 0.65936|  0.0346| 0.05684| 0.06566|-0.20981|-0.50025|-1.01502|-0.17152| 0.48839|-0.58304|-0.52751|-0.25924|-0.33675|-0.58497|-0.18937|-0.22322|-0.29944|-0.45044|-0.13663|-0.52252| 0.55897| 0.36613| 0.03708| 0.39207|-0.12359|-0.11686| 0.20912| 0.13484| 0.59763| 0.28735| 0.26573| 0.35648| 0.30237|-0.86988| 0.42073| 1.24529| 0.34552|-0.51431|-0.14061| -0.5348| 0.06483|-0.21499| 0.84868|-0.12593| 0.63867| 0.33378|-1.45873|-0.60124|-0.50374| 0.66381|-1.20542| 0.77162| -0.6921| 0.90575|  0.6708|-0.73633|  0.1853| 0.00949| 0.37325| 0.82626|-0.33168| 0.17796|-0.05774|-0.70333|-0.19342| 1.11852| 0.84788|-0.23197| 0.58428|-0.37891| 0.15264| -0.6779|-0.79425|-0.47732|-0.83328| 0.50636|-0.23338|-0.61653| 0.75203| 0.32165| 0.38651|-0.89429| 0.61826|-0.37949|-0.34421| 0.89513|-0.25864|-1.19189| 0.60121|-0.63787| 0.87389|-0.09242|-0.04217| 0.91019| -1.0646| 0.32449|-0.76666|-0.60724|-0.39597| 0.03266|-0.54678| 0.38459| 1.20692| 1.08858| -0.8345| 0.77728|-1.52639|-0.31902| 0.05531| 0.60223|-1.39978|-1.01993| 0.82629|-0.54947|-0.11017| 0.87098| 0.49876|-0.81816|-0.39542| -0.4833|-0.13381| 1.18107|-0.38889|-0.71056|-0.56134|-0.20121|-0.24501| 0.45014| 0.63646| 1.50996| 0.54941|  0.8384|-0.24634| 0.19014| 0.97881| 0.27846|-0.26015|-0.38229|-0.05492| 0.97115| 1.12755| 0.96544|-0.25575|-0.83198|-0.75251| 1.75982|-0.07564| 0.24565| 0.20778|-0.65618|-0.16421|-0.80759| 0.55898| 2.28555| 0.40135| 0.30175| 0.33648|-1.36797| 1.22777| 0.53665|  0.5528|-0.27127| 0.00787|-1.06015| 1.28465| 0.14058| 1.09328|-0.62972|-0.70492|-0.04475|-0.04103| 0.98914|-0.25645|-0.34002|-0.42428|-0.12181| -0.0117|-0.48335| 0.43261|-0.71472| 0.62004|-0.31155|-0.15529|-0.60471| 0.64928| 0.08471| 0.34587| 0.67828|-0.56152| 0.92057| 0.10713|-0.11963|-0.56903|-0.63219|-1.40253| -0.7947|-0.04616| 0.96461| 1.13225|-0.23626|-0.61789| 0.85935|-0.56084| 0.98172|-0.45664|-1.35713| 0.51248|-0.13904| 0.62671|-1.89335|   0.066|-0.19433|-0.09186|-0.45668|-0.71179|-0.44149|-0.42915|-0.99022|-0.08681| 0.08739| 0.24023|  0.2228|-0.07514|-1.06438|-1.02746| 0.77484| 1.01003| 0.16091|      1|\n",
            "|  8| -0.2778| 1.19527| 0.13443| 0.03244|-0.98221|  0.0489|-0.40746|-1.52098|-1.26127| 1.09206| 0.31728| 0.34518|-0.02311|-0.60435|-0.63904|-0.48331|-1.06049|-1.11225| 0.00147|-1.59075| 0.61866| 0.41796| 0.51023|-0.13483|-0.67081|-0.96084|-0.86797|-1.13516| 0.46865| 0.64449| 0.19466| -0.0743| 0.04801|-0.54352|-0.35104|-0.88253|-0.65219|-0.24851|  0.3958|  0.6104|-0.19356|-0.90579|  0.5383|-1.24923| 0.37429|-0.03677| 0.88216|-0.43559|-0.68394| 0.89775|-0.25208|-0.22433|-0.54437| 0.40845|-0.21682| 0.36019| 1.31566|-0.04421|-1.13065| -0.8438|-0.66293| 0.42221|-0.11556| 1.24164| 0.39594| 0.11326|-0.27401|-0.26807| 0.13173|-1.36854| 0.35617|-0.50476| 0.02009| 0.26774| 0.44185| 1.96665|-0.37798| 0.74299| 0.40216| 0.01348|-0.41887|-1.04086| 0.10105| 0.78144|-0.02201| 1.32123| -0.8613|-0.29506|-0.11072|  0.5742|-0.24844| 0.42915|-0.46358| 0.42319|-0.08731| 0.35299| 0.68758| 0.31201| 0.17198| 0.31726|-0.60501| 0.81191| 0.07431|-0.00415|-0.31181| 0.54374| 0.84574|-0.44054| 0.47695| 0.08783| 1.51911|-0.23848| 0.29399|-0.70252| 0.24801|-0.79396|-1.59023|-0.82838| -0.5973|  0.2007| 0.59481| 1.94058| 0.00881|-1.07745|-0.24685|  4.4E-4|-0.96661|-0.46322| 0.82855|-0.61007| 0.96377|-1.21157| 0.01695|-0.00999|-0.01791| 0.05515| 1.41407| 0.02617|-0.12081|-0.83729|-0.43329|-1.18923| 1.29776|-0.24759| 0.95146|-1.90124| 0.28533| -0.5918| 1.03529|-0.40676| 0.83745| -0.7719|-0.31162|-1.41986| -0.8809| 0.39126|-0.72421| 0.08414|-0.92288| 0.53983| 0.89627|-0.22814|-0.29163| 0.46317| 1.00618| 0.25983| 0.54883| -0.5125|-0.30656| 0.20064| 0.01657| 1.68801| 0.04922| 0.46009|-0.14336| 0.51185| 0.71322| 0.18976|-1.54345| 1.43751|-0.10118| 0.36118|-0.51084| -0.4783| -0.1947| -0.0355|-0.03027| 0.17647| 0.34395| 1.02611|-1.23265| 0.54652| 0.31937|  0.9864| 0.00729| -1.1121| -0.6146|-0.25487|-0.06907| -0.3845|-0.55565| 0.85076| 0.15701| 0.47606|-0.29949|  -0.648| 0.35473| -0.1653|-0.18185|-0.28895| 0.48624|-0.64883| 0.35013| 0.68891| -0.0276| 0.65559| 0.29303| 0.38557| 0.97679|-0.21298|-0.43243| 0.19219|-0.23592| 0.21344|-0.75816|  0.7938|-0.36064|-0.33256| 0.28657| -0.9141| -0.2647| 0.59331|-0.07906|-0.78347|-1.07965| 0.05937|  0.4021|-0.26231|  0.2326|-0.56145| 0.62216|-0.68976| 0.29605|-0.67447|-0.34268|-0.56373|-0.11967| -1.3193| -0.6355| 1.62461|-0.79804| 0.07753| 1.67809| 0.77854|-0.81823| -9.0E-5|-0.71937|-0.40957| 0.12444| 0.47407| 1.17352|-0.24389| 0.26198| 0.87911| 0.28617|-0.58041|-0.51657|  0.3368|-1.34241|-0.40657|  -0.016|-0.00519| 0.31576| 0.51937| 1.27294|-0.64283|-1.00632|  0.0304|-0.89686|-0.09516|-0.02934|-0.21315| 0.16344|-1.07249|-0.60022|-0.27833| 1.07255|-0.16211|-0.10661|-0.92183| -0.3261| 1.11597|-1.81395| 0.74547|  -0.818| 0.51836|-0.34225|-0.29844|-0.42382|-0.22881| 0.72558| 1.35201|-0.68694|-0.61271| 0.31432| 0.02848|-0.76277| 0.48977| -0.7648|-1.74932|-0.63686|-1.65214| 0.90422| 0.52976|-1.11525|-1.25273|-0.72286|-0.45789| 0.87887| 0.10641|-0.17202| 1.00011| 0.31371| 0.90816|-1.15355|-0.33601| -1.0787| 0.42282|-0.48541|-0.38571| 0.06273| 0.40532| 1.02045| 0.31721| -0.7459| 0.17818|-0.02106| 0.49232|-0.60182|-0.45124| 1.19653| 0.66617| 0.91779|-0.94007|-0.08607|-1.41303| 0.15585| 1.69689| 0.10203|-0.60135|-0.05873| 0.36218|-0.22397|-0.09941| 1.63793| 0.29127| 0.60496| 0.48983|-0.07554|-0.83415| 0.24834| 0.66983|-0.21506|-0.15184|-0.10714|-1.13031|  0.7716| 0.77057|-0.29536|  -0.904|-1.13514|-1.27438| 0.79387|  -0.452| 1.78617| 0.12674| 0.10002| 0.24309|-0.27994|  -1.192| 0.03457| 0.94565| 1.23451|-0.66456|-0.14442|  6.5E-4|-0.09411| -0.7522| 0.06552| 0.08211| 0.67535|-0.53012|-0.61757| 0.10184|-0.51319| 0.90246| 0.48754|-1.22072|-0.65441| -1.6903|-0.02489|-2.21173| 0.50615| 1.29088| 0.50322| 0.63893|   0.733| 0.01104|-0.68933|-0.25875|-0.68018| 0.34916|-0.68683| 0.90429| 1.10822| 0.13177| 1.32708|-0.74997|-0.50305|-0.94303|-1.36539|-0.89185|-0.39376|-0.75573|-0.34216| 1.15335|-0.18456|-0.58119|-1.14812| 0.72179|  0.4249|-0.10065| 1.24469|-1.64011| 0.87764|  -1.351| 1.09789|-2.02441|-0.22504| -0.1342|-0.74751| 0.07606| 0.92644|-0.37423|-0.36504|-1.26924|-0.06734|-0.78488|-0.07546| 0.63155|-0.79832| 1.76713|-2.07465|-1.24431|-0.48727| 0.80867|-0.80793|-0.81316| 1.35153|-0.14671| 0.28442|-0.03958| 0.04437|-1.30677|-0.17927|-0.60905| 0.41752|-0.28829| -0.3793| 0.66305|-0.03304| 0.53504|-0.88976|-0.26709|-1.33367| 0.93258| -1.1532|-0.03786|-0.53585| 0.14366| 0.77398| 0.35829|-0.83305|  0.2854| 0.19209| -0.3535| 0.07326| 0.59627| 0.35039| 0.16709|-0.28205|-0.05409| 0.16718|  0.7722| 0.47139| 1.19657| 1.17687| 1.28586|-0.34224|  1.5313|-0.03915| 1.21575|-0.01771|-1.59254| 0.54478| 0.40396|-0.05492|  0.1973|-0.03659|   0.433|-0.96573| 0.64797|      1|\n",
            "|  9| 0.15766|-0.25867|-1.04032|-0.27115|-0.73369|-0.48371|-0.56941|-0.32896|-0.53752| -1.2071|-0.97684| 0.05646| 0.86861| 0.04418| 0.02928| -0.4383| 1.25032| 1.38869|-0.80769| 0.14287| 0.97355|-0.07325|-1.37324|-1.12729|-0.50055| 0.67424| 0.16576|   0.196|-0.54347| 0.82026|-0.13179|-0.12322| 0.17528| 0.89499|-0.10381|-0.76043| 1.62785| -0.0849| 1.05391| 0.71609|-0.48596|-0.47773|  0.6626|-0.16184| 0.07075| 0.94655| 0.49904| 0.05877|-0.09535|-0.59265|-0.56024| 0.06397|  0.4026|-0.57168|  0.2012|-0.16905|-0.54419| 0.65466|-1.24412| 0.61052|-1.04071|-0.36343|-0.32097|-0.23109|-0.69737| 0.89313|-0.13622| 0.00244|-0.72205|-0.35041|-0.17625| 0.09798| 0.82755| 0.30356|-0.25038|-0.26384|  0.3227|-0.62762| 0.93059|-1.34648|-0.21763| 0.57044| 0.29247|-1.06623| 0.87136| 0.63423| 0.23468|-0.34001|-1.22556|  1.2743|-0.73671| 0.31735|-0.34946| 0.58325|-0.76458|-0.49485| 0.32698|-0.19492| 0.40171|-0.62282|  0.4088|-0.23293|-0.94899| 0.42655|-0.49498|-0.08856| 0.05898|-0.57077| 2.17043| 0.25879| 0.33774| 0.03957|-0.32424| 0.07024| 0.56423| -0.3599| 0.04237| 0.31806| 0.21113| -0.7618|  0.8142| 0.14178|-0.12405| 0.62868| 0.26941|-1.04828|-0.49153|  1.2288| 0.38921| 0.01563| 1.49251|-1.21417|-0.28088| 0.61455| 1.24943|-1.13762| 0.52598| 0.26998|-0.95517|  0.6252| 1.65455|-0.94027|-0.18232| 0.21505|-0.19039| 1.41927| 0.45142|-0.71328|-0.86931|-0.81138|-0.35609|-0.36605|-0.39512| 0.08191| 0.56972| 0.30292| 0.12639|-0.26388|  0.6708| 1.59053| 0.67418| 0.71073|-1.14962|    0.04| 2.30713| 1.35057| -0.2151| 0.42723| -0.4791|  0.2067|-0.75181|-0.22079|-0.06019| 1.01204| 0.82593|-0.59887| 0.79602|-0.21209|-0.21101| 0.78225|-0.19084|-0.32979| 0.61024|-1.34664|-1.34967|-0.21783| 1.02153|-1.65495|-0.15137|-0.20089|-0.08427| 0.94981| 0.90854| 0.08949| 2.02665|-0.88884| 0.81757|-0.89238| 0.68682|-0.01537|-0.30879|-1.11853| 0.51212| 0.03495| 1.57563| -0.3425|-0.94711|-0.74399| 0.12489| -1.0037| -0.0643| 0.49107|-0.12004| 0.68356| 0.02596| 1.22416|-0.88878|-0.43749|-0.60216|-0.42933|-0.06628|-1.02313|-0.36861|-0.77953| 0.13007| 0.03768| 0.14172|-0.49252| 0.83793| 0.01204| 0.28858| 0.02238| 0.01856| 0.90216|-0.26856|-1.40715| -0.5794| 0.98412| 1.02605|-0.87869| 1.25763| 0.54791| 1.01285|-0.27772| 0.27951| 0.22301| 0.52266| 0.33556| 1.19971|-0.93818|-0.00794| -0.9927|-0.16981|-0.46375|-0.45467|-0.26078|-1.14876|-0.82699|-0.46736|-0.90299|-0.12258|-0.09938|-1.12737| 0.85828|-0.05478| 0.33971| 0.60904| 0.22182| 1.18353|  -0.925| 0.57578|-0.28081|-0.34342| 0.26647| 0.60307| 0.72504| 0.67523| 0.24644|-1.24635|-0.38592| -0.1844|-0.29958| 0.72828|-0.28189|-0.51892| 0.20343|-0.52908|-0.36422|-0.50212|  0.4152|-0.16817| 0.78219|-0.85366|-0.60135| -0.5057|-0.79108| 1.00273|-0.00206| 0.39135|-0.36641|-0.77711| 0.51908| -1.4315|-0.31599| 0.77735|-0.12689| 0.46555| 0.48747|-0.27074|-0.40785| 0.64986| -0.8514|-0.51874|-0.34101|-0.21709|-0.12622|-0.23713|-1.30053|-0.39191| 1.17384|-0.49156|-0.45506| 0.92583|-1.59391|-0.25796| 0.13238| 1.57284|-0.21871|-1.00126|-0.22275| 1.28319| 0.27835|-0.14679|-1.17712| 0.26223|-0.43925| 0.28454|  0.5089|-0.91026| 0.45345| 0.28619| 1.51959|-0.75915| 0.16903| 0.14566| 0.20109| 0.46972| 0.25747|-0.06416| 0.31173|-0.45006|-0.39327|-0.29259|-0.21634| 0.40897|-1.18486|-0.21701|-2.07693| -0.0591|-1.04293| 0.21064| -0.4234| 1.04593|  0.8239|-0.32984| 0.50343| 0.03531| 0.89927| 0.00998| 0.35475|  0.2889| 1.10476| 0.67256| 0.02128| 1.14259| 0.22184| 0.45783| -0.5069|-0.03511|-0.52559| 1.12607| 0.40895|-0.21691|-0.07054|-0.76433|  0.7757| 0.64288|-0.18052|-0.36356|-1.31622|-1.31952|-1.27988|  0.5125|-0.31445|-1.22296| 1.64985| 0.42521|-1.82993| 2.27704| 0.61729|-0.83901|-0.91815|-0.71985|-0.70582| 0.47546|  0.4628| 0.06998| 0.27397|-0.93362| 0.22294| 1.66445|-1.23735|-0.61452|-0.39203| 0.57459|-0.46662|-0.37874| 0.05861| 0.22891|-0.95958| -0.7972| 0.83808| 0.16645|  0.8004|-0.69366|-0.33927| 0.09171| 0.74929| 0.63636|-0.75538| 0.31522| 0.12081|-1.71116| 0.87446| -0.1593|-0.51108| -0.4119| 0.31114| -0.7851|-0.73672|-1.42474|-0.43835| -3.4E-4| 1.53773|-0.74163| 0.33308|-0.65613|-0.43523| 1.44316| 0.48771|-0.84552|-0.79691| 2.19683| 0.38906| 0.22764|-0.69653| 0.46137| 0.61416| -1.3728|-1.55178| 0.06127|-0.71978| 0.41732| 0.69863| 0.69199|-0.49331| 0.09241|-0.09546| 0.43156| 0.30355|-0.16276|  0.6575|-0.18927| 1.08219| 0.47816|-0.66351| 0.33465|  0.3044|-0.90195| 0.02211|-1.01678|-0.53134|-0.02955| 0.35967| 0.54298|-0.53878|-0.36974| -0.0422| 0.50158|-0.76927| -0.1354| 0.04624|-0.04329| 1.16472| 0.23753| 0.08999| 0.01422|-0.32633|-0.44225| 0.53856| 0.32836|  1.0768|  1.0666| 0.15983| 1.16205| 0.15619| 1.11097|-0.64861|-0.05478|-0.50529| 0.10281| 0.01353|      0|\n",
            "| 10| 0.57303| 0.00301| 0.74221| -0.1298| 0.42092|-0.56008| 1.21466| 0.14197|  7.0E-5|-0.90732|-0.69116| 0.16811|-0.62571| 0.17861|-0.71189| 0.51678| 0.41236|-0.69727|-0.46009|-1.61623| 0.42464|-1.32192|-1.38658|-0.66038|-0.34469| 0.96678|-0.81306| 0.56663|-0.32422| 0.48252| 0.24596| 0.56855| 0.69984|-0.51655| 0.64423|-0.76241| 0.02536|-1.24528|-1.09557| 0.45736| 0.26348| -0.2167|-0.30852|-0.33329|-0.87684| 0.21251|-0.75458| 0.91603| 0.56449|-1.00826| 0.24219|-0.92817|-0.12661|-1.27969| 0.00676| 1.01251|-0.50639| 0.02421|   0.594| 0.77303| 0.11883|-0.95746|-0.25372|-0.83105| -0.7213|-0.56075|-0.58653|-0.40598|-0.12446| -0.4275| 0.55696| 0.19457|-0.37281| 0.58057|-0.85771| 1.49336| 0.31286|-0.15237|  -0.025|-1.38219| -0.0889| 0.19881| 1.00627|-0.93122|-0.17697| 0.83847| 0.83495| 0.41285|-0.44976| 0.08601| -0.5874|-0.13826|-0.38289| -0.0687|-0.31859|-1.52585|-0.11014| 0.09142| 0.28835|  0.0621|-1.00106|-0.90641|-0.10839|-0.42528| 0.17184| 0.11483| 0.78874|-0.28077|-0.49946| 0.45652|-1.33971|-0.26417| 0.12732|  1.4763|-0.65231| 0.49763| 0.23479| 0.05475| 0.34382| 0.29702| 0.44052| -0.5193| 0.51111|-1.19081| 0.94114| 0.35613|-0.22749|-0.05294| 0.45065| 0.77275|-1.48055| 0.60674|-0.49538| 0.01263|-0.52346| 0.61562| 1.03464|-0.30114| 1.09737|-0.05398|-0.33191| 0.68851|   0.267| -0.6638|-0.60569| 0.64533|-0.49299|-1.06247|  0.7517|-0.09158|-0.10917| 0.08577|-0.38333|-0.04434| 0.75928|-0.01619| 1.44101|-1.07559|-0.37174| 0.55589|-0.81467| 0.34262| 0.71688| 0.62027| 1.30699|-0.00752|-0.26228| 1.64238|-0.29518| 0.71783| 0.77289|-0.20786|-0.07234| 0.17152| 0.21795| 1.16052|-0.12625| 0.51607|-0.19654| 2.14796|-0.41182|-0.72403|-1.03843| 0.29841|-0.10367| 0.73667| 0.90976| 0.61396|-0.25191|-0.84627|-0.19826|-0.25441|-0.32622|-0.67105|  -0.067|-1.69381|-0.81467| 0.30383| 0.39471|-0.63867|-0.40311| 0.77666| 1.19929| 0.71735|-0.67541|-0.43093| 0.06566| 0.68497| 0.43727| 0.75009| 0.50455| 0.56727|  0.5157| 0.97386|-0.44142|-0.00891|-0.74098|-0.26012|  0.6672|-0.96316| 1.75415|-1.52791| 0.49965|-0.56139|-0.50584|  0.7909|-0.24016|-0.35874|-0.73744| 0.39296|-0.95923|-0.45827|-0.35235|-1.07202| 0.78462| 0.41881|-2.25631| 0.15258|-0.16152| 0.96346|-0.66633| 0.18686| 0.51198|  0.4363|-0.90941|-0.38211|-0.16814|-0.22421| 0.87408| -0.4042|-1.39164| 0.32975| 1.06587|  0.3358|-1.43483|-1.26236|  0.3011|-0.97227| 1.18091| 0.21153|-1.25628|-0.32173|-2.36111|-1.11951| 0.56913|-1.71491| 1.04945|-0.26827| 0.10465| 0.54053| 1.18534| 0.12878|-0.57505| -0.5504|-0.65172|-0.05994| 0.04811| -1.0239|  0.2569|-0.17152|-0.10138|  0.4414| 0.11095|-0.02179|-0.10535|-1.48765| 0.50171| -0.5185| 0.82127|-0.40751| 1.10074|-0.21372|  0.3961| 0.29477| 0.69978| -0.3155| 0.75065|-0.21622| 0.27955| 0.71103|-0.87144|-0.82372|-0.48223| 1.12152|-1.02891|  0.4173| 0.92143|-0.12421| 0.68277|-0.27505| 0.48295| 0.40662| 1.20533| 0.57961| 0.62851|-0.27745| 0.15716|-0.00623| 1.13021|-0.82586| 0.24779| -1.2009|-0.85717| 1.11598|-0.70045|-0.44124| 0.90215| 0.48886|-0.13638| 0.70168|-0.03485|-0.33183| 0.01722|-0.44673| 0.05809| -0.1915|-0.47588|-0.31405| 0.64101| 0.27904|-0.66707| 1.66082| 0.68579|-0.82916|-0.81024|-0.38331|-0.97132| 0.00982|-1.11131| 0.09289| 0.42671| 1.00069| 0.56325| 0.37845|-0.00382|-0.24872| 0.21385|-0.22995| 0.61273|-1.01335| 0.30791|-0.37507| 0.29577| 0.50238| -0.0396|  0.8111|-0.11169| 0.22018| 1.15374|-0.48986| 0.56513|-0.04192| 0.94289| 0.41197| 0.62322|-0.15121| 0.43652|-0.23101| 1.40234|-0.68368|-0.74315| 0.42953| -0.6954|-0.39584|-0.14159|-0.76055|  0.6282|  1.3215| 0.53237|-0.04067| 0.11287| 1.16714| -0.4432| 0.05439| 0.82889|-0.06391|-1.67235| 0.20659|-0.34951| 0.27863|-0.30541|-1.17018|-1.21776| 0.33216| 0.44654| 0.88135|-0.96134|  0.7847| 0.46822| 0.65319| 0.27236|  0.0744|-0.91037| 1.17354|-0.57303| 0.11767| 0.26506| 0.67007| 1.11621|-0.25173| 1.43882|  0.9304| 0.48838| 0.74679| 0.73045| 0.93634|-1.33128| 0.39678| 1.73879|-1.31373|  0.0226|-0.89057|-0.41646| 0.79906| 0.94079|-0.33515| 1.40177|-1.44339|-0.74109|-0.12454| 1.34503| 0.80892|  0.0257| 0.63768|-0.39693|  0.8762|-0.16715|-0.13195|-0.24691|-0.49661|-1.25684| 0.60053|-0.53696| 0.65437|-0.45598|-0.37636|-0.64385|-1.16461|-0.60663| 0.50877| 1.04031|-0.06701|-0.26345|  0.0787|-0.32768| 0.68665| 0.76389| 0.31806|-0.56691|-0.47623| 0.05548| -0.4352|-1.17953| 0.10054| 1.26037|-0.41863| 0.40617|  0.0831| 2.38725| 0.99675| 0.79973| -1.2129| -0.8082| 0.34122| 0.79363|-1.57645|-0.28183|-2.01715| 1.73139| 0.36637| 0.88277| 0.90754| 0.13826|-0.61067| 1.46011| 0.20775|-0.35111| 0.43202| 0.29378|-1.55553| 1.25342| 0.00348| 0.08605| 0.04712|-0.28374|-0.38019|-0.47001| -0.3391| 0.06841| 0.52389| 0.17299| 1.34879|      1|\n",
            "| 11|-0.48579|-0.89722| 0.03763| 0.88727|-0.41142| 0.12227|-0.03298|-1.13123|  0.3067| 0.36606|-0.09223|  0.8155|  0.8792|-0.08209|-0.33111|-0.61853|-0.55954| 0.52793|-0.71429| 0.62227|-0.60799|-1.89118|-0.80023| 0.55195|-0.11412| 0.85915| -0.1813|-0.86728| 0.13831|-1.10959|-0.38676| -0.1841|  0.5108| 0.83905| 0.75417| 0.43988| -1.8431| 0.05197|-1.01684| 0.09802|-0.99407| 1.02706|-0.45697|-0.00813| 0.44731| 0.30204| 0.22543| 0.20178| 0.58399| 0.09601| -0.6375| 0.70206| 1.22425|-0.30155| 1.44745|-0.24653| 0.47686|-1.88534| -1.7161|-0.88894|-0.71516| -1.6345|-0.73782|-0.73769| -0.3497| 0.35607| 0.12178|-0.54754| 0.08847|-1.49373| 0.20126|  0.4524| 0.39749|-0.18693|-0.00142|-1.27348| -1.1601| 0.19749| 1.28964| 1.24548| 0.40781|-0.10867| 0.76346| 1.22501|-0.33827| 0.31914| 0.16641|-0.63396|-0.14695| 0.46297|-0.11419|-0.62152| 0.74384|-0.19921| 0.04414|-0.24065|-0.22418|-0.09526| 0.73505|-0.56097|-0.32256|-0.10709|-1.57397|-1.17268| 0.68285|-0.25415|  0.0762|-0.78243|-0.51485| 0.03909|-1.39164| 0.96752| -0.6726|-0.46614| 0.54112| -0.8259|-0.40512| 0.26601| -0.3542| 0.53177|  0.1735|-1.17953| 0.65839|-0.21258|-0.67327| 0.47625| 0.48635|-0.14847|-0.32377| 0.90383| 0.52628|-0.54291| 0.89449| 0.46164|-1.15264|-1.32348| 0.11954|  0.1809| 1.10739|-0.09105| 0.61904| 0.78078| 0.18449|-1.08192|-0.09782| 0.39283| -0.8514| 0.19836|-0.43896| 0.40341|-0.68487| 0.92458|-0.75736|-0.49642| 0.60369|-0.52747|-0.20852| 0.18687| 0.50138|-1.08523| 0.85884|-1.07989| -0.0029|-1.27228| 0.40202| -0.1305| 1.04203|-1.09156| 0.38401| 0.57633|-0.37157| 0.16531|-0.62848| 0.00994| 0.98534| 1.08249|-0.18435| 1.03461| 0.91869| 0.50261| 0.11512|-1.30849| 0.99141|-0.68425|-0.66028| 0.29837|  1.4059| 1.03037|-0.68575|  7.1E-4|-1.85286| 0.15957| 0.68064|-0.54585| 1.71657| -0.4729|-0.11396|-0.03067| 0.49652|-0.11687| 0.10285|-0.30019|-1.28346|-1.55834| 1.26957|-1.54731|-0.13842|-0.12631|-1.35034|-0.16422| 0.78156| 0.00557| 1.37396| 1.01723|  1.8182| 1.47721| 0.13975| 0.79947| 0.71473| -0.0672|-0.33192| 0.33509|-0.73003|-0.51405| 0.39049|  1.0638|-1.29376|-0.22021| 0.78526| 0.54267| -1.0766|-0.09757|  1.5479|-0.34895| 0.38651|-0.14017| -0.6279|-1.49564| 0.49122| 0.52782|-1.05876|-0.61818|-0.62039| 1.46333| 0.22106|-1.92093|-0.20254|-0.40544|-0.83493|  -0.358|-0.16284|-1.14752| -0.9641|-0.24566|-0.73508|-0.53686|-1.15035|   0.673|-0.19184| 0.20362|-0.98258| 0.15383| 0.62603| 0.85616| 0.68345|  0.3386| 1.08429|-0.25264|-0.12589|  0.4249|-0.45515|-1.51441|-0.07407| 0.32867| 0.26694| 0.49342| 0.13533|-0.65516|-0.45142| -0.0296|-0.42292| 0.71166|-0.66564|-0.88168| 1.31176| 0.41574|-0.81032|-0.39651| 0.46365|-0.05066| 0.83492|-0.30081|-0.31515|-0.64981|  -1.917|-0.23319| 0.27565| 1.44652|-0.72043|-0.15913| 0.31086|-0.46236| 0.46152|-0.82304| 0.85038|  0.1954| 0.02959| 0.02546| -1.8611|-0.41793|-1.15792| 0.09584|  0.6861|-0.04829| 0.76565| 1.20141|-0.83835|-0.54155| 0.22178|-0.20106|-0.72401| 0.86944|-1.08516| 0.34365| 0.77231|-0.25551|-0.24106| 0.54915| -0.4135|-0.76068|-0.27681|-0.63832|-0.10114| 0.26775|  0.0405|  0.9037|-0.30511|-1.33518|-0.22874| 1.27857|-1.26191| 0.06693|-0.50626|-0.38163| 0.15182|-0.98076| 1.12926|-0.25073|-0.74893|-0.97766| 0.23083| -0.6449| 1.01387|-0.78409| 1.56409| 0.84853|-0.16514|-0.18253|-0.51556|-1.72347|-0.01949| 2.01342| 1.22019|-0.68034|-0.44082|  0.5128| 0.64896| 0.28322| -1.6888|-0.54634|-1.70897| 0.54739|-1.31051|-0.51377|-0.52296| -0.8824| 0.43163|  1.4016| 0.31445|-0.05942| 0.77447|-0.31563|-0.14411| 1.58896|-0.13021| 0.42168|-1.22831|  0.1732|-1.17246|-1.03996|-1.49231| 0.17636| 1.36388|-1.04467| 0.20054|-1.11231| 0.42371| 0.21648|-1.34035|-0.11201|-0.17931|-1.15233| 0.47675|-0.07205| 0.94861|-0.02692|-1.94455|-0.12977| 0.44768|-0.21156| 1.15114| 1.22288|-0.79748|  0.5068|-1.00938|-0.32131|-1.71483| 0.45084|-0.07163|-0.27931|-0.54242|-0.06913|-1.62181|-1.81535| 1.67922| 0.49837| 0.24762|-0.02914| 0.02791|-0.71005| 0.18026| 0.28702|-1.55147| -0.5327|-0.15393|-1.53456| -0.4518|-1.04617|-0.40932| 0.16739|-1.37463| 1.00637| -0.4346| 0.11818| -0.0199|-0.00242| 0.34976|-0.09376|-0.90313|-0.98091|  0.1891| 0.67142|-0.79473| 1.84891| 0.42157|-0.01271|-0.19172| 0.37894| -1.1418|-0.03552| 0.78828| 0.67742|-0.41476|-0.29049|-0.74042| 0.25257|-1.26911| 1.32341| 0.45014|-0.53151|-0.70062|-0.64143| 0.71671| 1.46352|-0.29061|-0.72086|-0.97164| 0.70251| 0.32272|-0.57266|-0.63356| 0.30193|-0.00224|-0.00258| 1.38948|-0.04767|-0.81943| 0.06954| 0.75283|-1.18487|-0.02822| 0.26872|  0.1155|  1.0213|-0.19989|-0.38749| 0.16359| 0.67761|-1.34817|  0.0377| 0.06071| 0.95656| 0.21786|-0.03558| 0.80771|-0.56805| 0.09258|  0.0188| 0.64201| 0.49643| 0.58291| 0.02105|      0|\n",
            "| 12|-0.01516|-0.09949|-0.73091| 1.01861|-0.81056| 0.38579|-0.01368|-1.43729|-0.83675| 1.34636|-0.48212|-0.77077| 0.50187|  -1.302|  0.3377|-1.00752| 0.50863| 1.55623| 0.43845|-1.06894| 0.37623| 0.18596|-0.64166|-1.31682|-0.23451| 1.01635| -0.8129| 0.88521|-0.41329| 0.70097| 0.15568|-0.55035| 0.62908|-0.57654| 0.41604|-0.29059| 0.12021|-0.77479|  1.6963| 1.00541|-0.18406| 0.17265|-0.42762| -0.1153|-1.22674| 0.16544|  0.7141|-0.64937|-0.37328| 0.02984| 0.16191| 0.18463| 0.05986| 0.52065| 0.05111|-0.40512| 0.23101| -0.4214| 0.66991| 0.21457|-0.07938| 1.44349| 0.12203| 1.31881|-0.66169|  0.8807|  -0.389|-0.59384|   0.179| 0.36435| 0.19935|-0.00591| 0.38405|-0.77048|-0.58382| 0.78779|-0.13469|-0.06537|-0.06761|-0.75441| 1.29807| -0.5887| 0.72092|-0.99364| 0.85465|-0.49928|-0.42354|-1.93689|-0.12178|-0.19452|-0.31915|-0.71864|  0.7768| 0.07491| -0.4018|-0.16406|  0.2632|-1.42043| 0.05267| 0.21591|-0.08819| 0.02891| 0.97828|-0.59921|-1.46518| 0.30187|-0.56359| 0.35762| 0.82024|-0.51746| 0.14128| 0.58683| 0.45081| 0.53615|-0.37955|-1.44618|-1.05972|-1.40124|-0.28792|-0.22691| 0.42228|-0.42643|-0.57932| 0.56149|-1.13385|-1.16992| 1.87463|-0.66065|-0.52457|-1.03429|-0.52396|-0.31446| 1.20514| 0.05424| 0.40065| 0.33817| -1.8269|-0.32415|-0.87454|-0.51394|-0.30732|-0.29561|-0.38321| 1.02168| 0.03478| 1.11605|-0.97909| 0.05639|-0.63967| 0.72347|-1.45005|-0.65889| 0.07654| 0.42081| 0.50346| 0.23328| 0.72947|-1.03534| 0.07669| 1.55698|-1.77895|-0.00315|-0.43819| 0.26186|  1.0379| 0.53457|-1.27001| 0.40263|-0.71132| 0.34048| 0.33762| 1.51827|-0.13131|-0.52506| 2.10621| 1.06813|-0.74399| 1.02481| 1.02468| 0.77881|-0.07397|-0.34384|-1.24354| 1.39682|-0.94614| 0.56497| 0.14168| 0.05893|-0.50249| 0.35284|-0.45905|-0.43952|-1.34009|-0.77019|-0.58374| 0.03636| 0.13569|-0.65591| 0.13659| 0.29864|-0.10212| 1.66672|  0.7091| 0.50198|-1.44968|  0.3012| 0.02765| 0.02136|-0.36563| 0.16686| 0.02443| 0.55507|-0.40512| 0.75036|-1.39427| 0.51685|-0.46344|  0.8063|-0.09776| 0.20976| 1.12429|-0.45208| 0.10929|-0.08734|-0.36711|  1.1983|-1.44947| -1.0538| 0.01796| 0.25371|-0.25556| 1.21058|-1.12414|  1.1763| 0.49416| 1.05132| 0.92994|  0.2599|  0.3399|-0.32081|  -0.165|-0.41137| 0.40503|-0.58754| 0.59452| 0.44204| 1.00579|-0.83109| 1.12154| -0.4629|-0.68035| 0.31392| 1.01743|-0.75904| 0.17639|-0.75861| 0.73092| -0.2121| 0.56727| 1.79765| 0.62883| 0.64925| 0.48103|-1.58086| 0.59873| 0.38227|  0.4532|-0.73906|-0.72416|-0.85315|-0.55281| -1.1125| 0.34731|-0.44678|-0.16085|-1.35406|-0.60738|-0.62376| -0.3997|-0.74626| -0.8631|   0.676|-0.82841|-0.64126|  0.3679|-0.27328|-0.23509|  0.4508| 0.10361|-0.72436|  1.4437| -0.1935| 0.29761| 0.22058| 0.90907| 0.47209| 1.15365|-0.32712| 0.15291|-0.71568|-0.10912|-0.35232| 0.53624|-0.30417|-1.03589| 0.56293|-0.34732| 0.25511| 0.38199| 0.74215| 0.58584|-0.32102|-0.10332| 0.47852|-0.24596| 0.38262| 0.48469|-0.60483| 0.99308| 1.09836| 0.47802|-0.92772|-0.02236| 0.69135|-0.65033| 0.21471| 0.43613| 0.82473| 0.91507| 1.18342|-0.02229|-0.39546|-0.66514| 0.04473| 0.10261| 1.18962|  0.4523| 1.44831| -6.3E-4|-0.12368|-0.39738| 1.46063| 0.40221| 0.31107|-0.32946| 0.58953| 1.29496|-1.06334| 0.16877|-0.16646|-1.68868| 0.48267| 0.01542|-0.24632| 0.13392| 0.60935|-1.04328| -0.6334| 0.52991|-0.59299|-0.58152| -1.0571| 0.45925|-0.10968| 0.11201|-0.74737| 0.38615| -0.4323| 0.37084| 1.09742|-0.34987|-0.24998| 0.65084|-1.10615|-0.22271|  1.0364| 0.03872| 0.84034|-0.38999|-0.39504|-0.76005|-0.81113|-0.54556|-0.92213| -0.6432|  -0.776| 0.10648|  0.4749| -0.2478|-0.04603| 0.14269|-0.70954| 0.43609| 0.91788|-0.69995|-0.45882|-0.92886| 0.08832|-0.06895|-0.23674| 0.43189|-0.61197|-0.30978|-0.18071|-1.28165|-1.08376| 0.44535|-0.44487|-0.64335|-0.62494|-0.40633| 0.18331| 0.56473| 0.74673| 0.18605|-0.09282| 0.29223| 0.27126| 0.08803|-0.94103| 0.20904|-0.15143| 0.04548|-0.73761| 0.29504|  0.3799| 0.81455|-0.38832|  -0.503| 0.14224| 0.75345|  0.6761|-0.32558|-0.94932|-1.82778| 0.23321|  0.8023| 2.48984| 0.96005|-1.44468| 0.10998|-1.19782| 1.09391|-0.53235| -0.1623| 0.87488| 1.21412|-0.11278| 1.18513|   0.243| 0.89633|-0.02612| 0.83569| 0.63924|  0.5854| 0.36137|-0.28652|-0.71016| 0.32424|-0.10697|-0.10191| 0.26261| 0.05781|-0.13853| 0.12287| 1.00492|-0.16629| 0.24325|-0.17259|-0.39696|-0.04911|  0.7213|-0.42339|  0.5245| 0.23839|-1.21379|-0.37383|-0.67121| 0.96108| 0.24811| 0.81329| 0.57349| 0.32664|-0.42955|-0.74548| 0.15396|-1.26863|  1.1307|-0.30893|-0.82535| 0.97025|-0.77733| 0.98642|-1.50407|-0.21032|-0.36467|-0.46888|  0.3974| 0.42242| 0.01813|-0.36304|-0.47344|-0.13509|-0.81339|-0.62407|  0.3672| -0.4441|-1.12045| -0.9034| 1.47683| 0.53443| 0.08193|      1|\n",
            "| 13| 0.39534|-0.49538| 0.31347| 0.77584|-0.73367|-0.35886|-0.37256|-0.09474| 1.24533| 0.17764|-0.74525|-0.14729|  0.7203|  0.3387| 0.50656|-1.85411|  0.0532|-0.81769|-0.13875|-1.11448| 0.55073|-0.74081| 0.02046|-0.60588| -0.6653| 0.50581|-0.14205| 0.12604|-0.25544| 0.87398| 0.80861| 0.55818|-0.86349|-0.54476| 0.66055|-0.46407| 0.13341| 0.23118| 0.22807|-0.65244|  1.5075| 0.47839| 1.31194|-1.33052| 0.27551|-0.85106|-1.62393| 0.44121|-0.18134| 0.87059|-1.23994|-0.03711|-1.16628| 0.75702|-0.15401| 0.81231| 0.12995|-0.30085| -0.4793|-0.38556| 0.08218| 0.06407| 0.42593|-0.25637|-0.19972| 0.22972|-0.09863|-0.64901| -0.5017|-0.05088|-1.49331| 1.67785| 0.20343|-1.15962| 1.06564|-0.51357| 0.11486|  0.6693|-0.61924| 0.67084|-0.85364|-0.97136| 1.02672| 0.50893| 0.61742|-0.33453|-0.45644|-1.35298|-0.77008|-0.53799|-1.06138| 0.22803| 0.79639| 0.09017|-0.50521| 0.77949|-0.84947| 0.20523|-0.08801|-0.56409| 0.16005| 0.37978|-1.00559| -0.1147|-1.01696| 0.81288|-0.35537| 0.67129|-1.03066|-1.84553| 0.72026| 0.47263| 0.22772| 0.35438| 0.16461|-1.00628|-0.15652|-0.04762| 0.86362| 0.03021| 0.35555|-0.59794|-0.11518| 0.00657|-0.34824|-0.66264|-0.48495| 0.54104|-0.35941| 1.87283|-0.46229| 0.17409| 0.36495|  0.5311|-0.09356|-0.14228| 0.48707|-0.23353| 1.01943|-0.88579| 1.42865|  0.5414| 0.60667| 1.58968|  0.1037| 1.87236| 1.91475| 1.02307|-0.08526|-0.76783|-0.64087|-0.19938| 0.19387|-0.58329| -0.2943|-0.28467| -0.3305| 1.40186| 0.43465|-0.38603|-1.41479|-0.59884|-0.36899| 0.28054|-0.62626|-0.08555| 0.48715| 0.70289| 0.09533| 0.03292| 0.45559|-1.31818|-0.22689|-1.07845| 0.00943|-0.59517| 0.11305| 0.04384|-0.82759| 0.11709| 1.22377| 1.79872| 0.18861|-0.31081|-1.10546| -0.7952|-0.64963| 0.07657| 0.09821|-0.09872| 0.57739|-0.96355| 0.24339|-1.50951| 0.73765| 0.12237|-0.18358|-0.32931|-0.71355|-0.01339| 0.78429|  0.7878| 0.81765|-0.59146| 0.60804|-0.09939| 0.53625| 1.38242|-2.07897|-0.01413|-0.17483| -0.0118|-0.20269| 0.89723|-0.91294|-0.12087|-0.56134| -0.4898|-0.02435|-0.14139|-0.72457|  0.0126|-0.18991|-0.70322| 0.26915| -0.1513|-1.04735|-0.00349|-0.03383|  0.0298| 2.31485|  0.5115|-0.26646| 0.31356|-0.26457|-0.22189| 2.31455|  -0.183| 0.18948| 0.21301| 0.21653| 0.02874| 1.08805|-0.54595|-0.06468| 0.46463|-1.07667|-0.22309| 0.65209|-0.71874|-0.05374| 0.31051|-0.09114|-0.19766| 0.99818|-0.91002| 0.11606| 0.41559|-0.48699|-0.03501|-0.57756|-0.32783| 0.57069|-0.01284|-0.06123|-0.84609| 0.74592| 1.26779|-0.14816| 0.88371| 0.21494| 0.21307|-0.36762|-0.56823|-0.07438| 0.97304| 0.52991|-0.64575| 0.28823| -0.4781| 0.64063|-0.89868| 0.75053|-0.28434| 0.30372| 1.05208|-1.47582|-0.46683| 1.21549|  0.3843|-0.61952|-0.64932|-0.59555| 0.31145| 1.31227|-0.59679|-0.04826| 1.29629|-0.70401| 1.50061|-1.25599| 1.06302| 0.63043| 0.62143|-0.05458| 0.50134| 1.03145|-0.20111| 0.23725| 0.47582|-0.61832|-0.26775| 0.20342|-1.96645|-0.02383| 0.06147| 0.96097|-1.88741| 0.13943|  0.2351|  0.3456|-0.70002|-0.54851| 0.68515|-1.10039| 0.88637|-0.13829| 0.34861| 0.75711|-0.04672|-0.04998|-0.31589|-0.14919|-1.60563|   1.077|-0.72507|-0.32881|-0.02845| 0.72914|-0.21747|-1.24305|-1.41599| 0.34359| 1.62102|-1.43953| 1.84418| 0.73645|-0.02457|-0.46934|-0.38504| -0.0697|-0.38986| 0.70668|-0.62692| 1.19831|-1.62499|-0.31345|-1.28404| 0.18304|-0.46405|  -0.555| 1.50294|-0.62346| 0.39133| 0.78838|-0.24875|-0.07512|-0.65682|-1.46923| 0.15423|-1.31887| 0.76293|-0.35255| 1.30323|-0.49838|-1.01016|-0.47857| 0.44816| 0.57291| 0.16308|-0.52419|-0.86534| 1.54286|  0.5338| 0.45771| 1.72243| 0.28322| 1.37404|  0.2536| 0.57537|   0.977|  0.5079| 0.07649|-0.68685| 0.56479|-0.13391| 0.79912| 0.60241|-0.41686|-0.01307| -1.9864|-0.05397| 0.13625|-0.36129| 0.07059| 0.27024| 0.35849| 0.00888|-0.57185|  -1.423| 1.44491|-0.22016| 0.65816| 0.35246| 1.09331| 0.01745| 0.44682|-1.02072| 0.01189| 0.38261|-0.06851| 0.79927|-1.42835| 0.42302|-0.07246| 2.61862|-1.06879|-1.23233| 0.96446| 0.43394|   0.459|-0.22355|-0.91871|-0.53933| 0.09909|-1.39702|-0.72225| 0.60264| 0.87357| 0.36981|-0.94479|-0.34853| -1.0222| 0.27489|-0.37048| 0.24887|-0.15824| 1.23476|-1.31264|-1.41788|-0.06406|-0.14904|-0.19816|-0.71058| 1.39416| -1.0073|-0.18878| 0.20721| 0.56281| 1.48863| 0.38082|-0.03056| 0.72438| 0.69767|-0.15568| -0.8535|-0.63021| 0.21491|-0.58042| 0.52532| 0.34106| 0.35377| 0.50089|-0.18882|-0.12902| 1.03864| 0.87246| 0.31009|-1.13412| 1.17832| 0.62916|-0.48158|-1.20525| 0.68665|-1.04365| 0.02683| 0.38158| 0.56377|-0.72597| 1.57712| 0.76957| 0.65534| -0.3589|-0.18729| 1.93369|-0.27798|-0.75476|-0.01282|-0.21749| 0.24055| 0.69516| -0.4112| 0.33777| 0.47655| -0.3208|  1.1916| 2.30862|-0.05045|-0.28544| 0.34211| 1.56586| 0.81873|      0|\n",
            "| 14| 1.67019|-0.26873|-1.37284|-0.58554|-1.10387|  0.1272|-0.49021| 0.04736|-0.35936|-0.88861| 1.09739| 0.42141|-0.50798|-0.16775| 1.21998|-0.47031|-0.94557|-0.02438| 0.53838|-0.68691| 0.20247|-0.76862|-0.37375| -0.0652|-0.41765|-0.73278|-0.56892| 0.07723|-0.76466|-0.46791| -0.5545| 0.55241| 0.40837| 0.93998|-0.31648| 0.27611| 0.96702| 0.76027|-1.02172|-0.27338|-1.68575| 0.87036| 0.81437| -0.3491| 0.69182| 0.79508| 0.18281|-0.71174| 0.14084| 0.75797|-0.06019| 1.24415| -0.1114|-0.07978| -0.0767| 0.66419|-1.08399| 1.60829|-0.60923| 0.68346| -0.0137|-1.35044| 1.09194| 0.20522| 0.27605|-0.56849|-0.35515| 0.01934| -1.4417|-0.57587| 0.46165|-0.76546|-0.21138|-0.79038| 0.22616| 0.40747| 0.32111| 0.30483|-0.10132|-0.49969| 0.74991| 0.40374|-0.39618|-0.62052|-0.57516|-0.19062|  1.1322|-0.32741|-0.26204| 0.25824| 1.05989| 0.45688|-0.04045| 1.64186| 0.69102|-0.75542| 0.65413| 1.52251|-0.54628| 0.35392|-0.31071|-0.84071|-0.39326|-0.35042| 0.32419|-0.63109| 0.49401|-0.06909| 0.41732|-0.53461| 0.17305|  0.7375| 1.14541| 0.67631|-0.01599| 0.70557| 0.34059| 0.87582|-0.88551|-0.67808|-0.11183|-0.05065|-0.05052| 0.46317|-0.12949|-0.01062| 1.55343| 0.72091| 0.39324| 0.43505| 1.49612|-0.77343| 0.92036| -0.9155|-1.81845|-0.36409| 1.82166| 0.26248| 0.82516| 0.12494| 0.48445|-0.32116| 1.07788|-1.29984|-1.32348| 0.04144|-0.26668| 0.95599| 0.28135|  0.5211| -0.7815|-0.26082|-0.98186|  -0.633| 0.66805| 0.58791| 0.38452|-0.16224| 0.04972| 1.20794| 0.58334|-0.18027|-0.08505|-0.58392| 0.57004| 0.36778| 0.62245|-0.65494| 0.12153|  1.1001|-0.07829|-0.10521|-0.83705|-0.40891| 0.36954| 0.49933| -0.3483|-0.35684| 0.47041|-0.71257|-0.22617| 0.29889|-0.27523|-1.31012| 0.75019|-1.01054| 0.73243| 0.92404| 0.81919| 0.67402|-0.31799| -0.3311| 0.42703|-0.47559| 0.10081|-1.55344|-0.54122| 0.96095| 0.42322| -0.7792| 0.63405|-1.08904| 0.69758| 1.06056| 0.75523| 0.22128| 0.41588| 0.49995| 0.26399| 0.15617|-0.08015| 1.70845| 0.53085| -0.9956|-1.11882|-0.49986|  0.3981| 0.39042|-0.66819| 0.66869| -0.4823|-1.60794| 0.75648|-2.07684| 1.41307| 0.75978|-0.17137|-0.15706| 0.95862|-0.73366|-1.24558|-1.22019| 0.69485| 0.19472|-0.01851| 0.18075| 0.51156|-0.07247|-1.56608|-0.72817|-0.25515|-0.48482|-0.55945| -0.5534| 0.15603| 0.85337|-0.21913| 0.32366|-0.41386| 0.49663|-0.75225|-1.14877| 0.39259| 1.47922| 0.09147|-0.67001|-0.42945| -0.4721|-1.41843| 0.46548|-0.95918| 0.05602| 0.35389|-0.33019|-0.20114|-0.02297| 0.25601|-0.40163|  0.4001| 0.76397|-0.02182| 1.57611|  0.3566| 0.35891|-0.62947|-0.33042| 1.03393| 0.47912|-0.39214|-1.43616| 0.45558| -0.8385| -0.1046| 1.41907| 0.03649| 0.45432| 0.23473|-0.18723| -0.9729| 0.50642|-0.77824| 0.97117|-1.50473|-0.91853| 0.42499| 0.26956|-0.38967| 0.09674| 0.89584| 0.32307|-0.59189|  0.3886| 1.37614|-0.46825|-0.10334|-0.52294|-2.28437|-0.64604| 0.75082|  1.3485|-0.59546| 0.00973| -0.2126| 0.98615| 1.12264| 0.48112|  0.2686| 0.79609|-0.57066|  1.1557| 1.98851|-0.54244|  0.0288|-0.33284| -0.4283| -0.2831| 0.23688|-0.01156| 0.80322|-0.51268|  0.2143| -0.4598|-0.59084| 0.96918| 0.65924| -0.6177|-1.32207| 0.57792|  1.3848| 0.98378| 1.33534| 0.11861| 1.90719| 0.81859| 0.24921|  0.2976| 0.21498| 0.98332| 0.33526| -0.2966| 0.74374|-0.77225|-0.08276|  0.7642| 0.10109| 0.77306| 2.73874|-1.01204|  -0.454|-0.06778|-0.99687| 0.02433| -0.5551|-0.00804|  0.1393|-1.21481| 0.96349|-1.53584|-0.45771| 0.93307| 0.76754| 0.48022|-0.99258| -0.3077| 0.27789| 0.52075| 0.82481|-0.51476|-0.98565|-0.55391| -0.3609|-0.42391| 0.70243|-0.50042|-0.70225| 0.88144|-0.87488| 0.70101| 0.36666| 0.63901|-0.19842| 0.60307|  0.6681| -0.0528|-0.01848|-0.20038|-0.48407| 0.12973| 0.34314| 0.30238|-0.74474|-0.34263| 0.24666|-0.10222| -0.2508|-0.10734| 0.22606|-1.11187|-0.54084|-0.62876|-0.29147| 0.87826|-0.60084|-0.05773|-0.46552|  0.5948|-0.43292|  -1.366| 1.14024|-1.45984| 0.50644|-0.55234|-0.36425| 0.16489|-0.61544| 0.06612|-0.55269|-0.01286|-1.01675| 0.01385|-0.20922| 0.67892|-0.09739|-0.09115| 0.63733|-0.29342| 0.84015|-0.69315|  -1.129| 0.18649| 0.68326|-0.07624| 0.69771|-0.91094| 0.80571|-1.38713|-0.20078| 0.28365| 1.23505| 1.02825|-0.11032| 0.53936| 0.49492| 0.17869| 1.96174| 1.70058| 0.44805|-0.40943| 0.70957| 0.04921| 0.31498| 0.23548|-0.37913|-0.96167| -0.9094| 0.29719|-0.21493|-0.08481|  0.2943| 1.05297|-1.11447| 0.33904|-0.04754|-1.40358|-0.39189| 0.97856|-1.17327|-0.17346|-1.43774|-0.49999| 0.95085|-0.27317|-0.60364|-0.57985|-0.47851| 0.43977|-0.61072| 0.52851|-0.75067|-0.91109| 0.43803| 0.53823| 0.30805| 0.33969|-0.08258| -0.4497|  0.1539| 0.64317| 0.87969| 0.11242| 0.03532| 0.53711|-0.39949|-0.70541| 1.98971| 0.00499| 0.84759| 0.12447| 0.09061|-1.67907|-0.11377|-1.01124|      1|\n",
            "| 15|  0.5627| 1.95055| 0.85091| 0.90098| 0.74518|-1.23043|-0.40093| 0.84618|-0.65531| 0.73867|-0.42156|-0.29084| -0.0473| 0.84536|-0.12043| -0.0795| -0.7038| 0.48528| 1.11663| 0.56694| 0.53795|-0.74689| 0.59891| 0.77276| 0.38058| 1.21383| 0.10824|-0.92989|-1.37946| -1.1401|-1.23005|  0.7846| 0.36528| 0.36839|-0.35744| 0.28975| 0.35173| 1.14575| 0.31466|-1.71409|  0.8692|-0.21167|-0.75666|-1.09686| 0.78133| 0.31718|-0.82802| 0.23518|  0.3305|-1.25196|-1.98639|  0.2145|-0.38173|-0.84561| 0.28131| 0.10531|-0.36655|-0.99355| 0.62436| -0.0314| 0.40084|-1.08656|-0.57681|-0.08704|-0.14369|-0.17728|  0.4821| 0.16175|-1.15422|-0.14581| -1.6136| 0.09366| 0.64201|-0.50653|-0.49138| 0.76648| 0.91543|-0.54027| -0.4782|-0.45391| -0.2777|-1.76724| 0.05236| 0.29354| 0.42158| 0.72919| 0.98293| 0.46646|-0.91657|-0.05619| 0.34004|-0.00972|-0.70692| 0.50082|-0.71806|-1.09008| 1.54725|  0.5307| 0.38454|-0.41374| 1.12097| 0.31888|  0.0859|-0.37776|-0.26595| 0.06744| 1.02545|-1.65481|-0.20007|-1.33004| 0.23245| 0.14617|-0.81509| 0.76192|  0.8076|-0.11243| 2.25256| 0.56123|-0.05438| 0.07767| 0.08253| 0.64892| 0.56228|-0.20223| 0.54359|-0.30624| 0.13774|-1.13827|-1.42796| 1.00036| 0.28245|-0.04429| 0.08878| 0.49172|-0.15638|  1.5487|-0.11492| 0.86561| 0.16559|-0.16301| 0.13766| 0.17246| 0.17373|-1.25463| 0.61143|-0.58049| 1.16289| -0.0493| 0.72184| 0.59558| 0.63643|-0.51958|-0.11518| 0.10809|-0.52263|-0.37486|-0.87987|-0.07869| 0.83194| 0.32093| 0.51387| 0.18721|-0.28567| 0.34324| -1.3804| 0.35002|-0.06924| 0.08596|-0.19274|-0.38412|  1.2788| 0.65124|-0.04957| 0.17656| 0.24206| 1.12251|-0.56182|-0.55698| 0.28298| 1.22361| 0.84237|-0.77724| 1.05289| 0.25709| -0.3391|-0.06755| 0.28467| 0.17175|-0.24261| 0.62626| 0.07112|-0.21244|-0.21129| 0.17199| 1.36032| 0.31842| 0.06556| 0.72262|-0.72741| 1.02986| -0.1453|-0.60248|-0.35874| 1.06203|-0.98261| 0.35844|-0.85476|-0.48025| 0.02931|-0.03328| 0.07858|  0.3472| 0.48307| 0.10868| 0.12678| 0.39739|-0.13517| 0.59822| 0.12174| 0.80624| 0.19753| 1.07597|-0.35894|-0.71488| 0.78122|-0.14969|-0.78255| 0.73872|-0.65454| 0.01558|-0.67189| 0.10026| 0.90421|-0.25948|-1.31843| 0.88329|-1.27315| 0.60395|-0.86929| 0.95088| 0.53917| 0.38495| 0.41279| 0.02211| 1.54907|-0.12124| 0.42105|-0.72036|-0.52879|-2.05863|-0.39467| 0.35552|  0.4888| 0.17327|-0.12488| 0.72545| 1.09287| 0.09665| 0.85301|  0.3712| 2.04454|-2.07377| 0.59818|-0.93819|-0.07843|-0.35194| 0.72182| 1.11697|-0.69783|-0.08836|-0.29903|-1.26284| 0.87951|-1.16976| 0.10487|-0.33498|-0.41818| 0.20871|-0.89602|-0.30231|-0.04571|-0.96492| 1.14679|-0.45921| 0.50037|-0.45365| 0.99121| 0.56183| 1.33987| 0.13005| 0.68523|-0.15484|  0.7957| 0.69934| -0.2612| 0.18479| 0.83014|-0.34615|-0.31511|-0.14813| 0.96687| 0.32919|-0.75412|-0.31838|-0.48134| 0.31791|-0.53758| 1.54136| 0.21695|    0.23|   1.418|-0.93365| 0.51114| 1.37804| 1.06705|-0.90322|-1.07183| 0.39061| 0.93222| 1.07145|  0.9613|  0.8715|-1.43438|-0.55861|-0.13171| 0.39737| 1.38205| 0.32121| 0.27741|-1.47686| 2.20091|-1.14652| 1.07344|-0.83193| 0.14824| -0.1301|-0.12366| 0.61565| 0.09165| -0.0116|-0.13295| 0.46742| 1.20316|-0.14816| 0.47274|-0.01946|-0.42512| 0.94765| 1.28664| -0.2739| 0.74513|-0.15595| 1.28516| -0.0444| 1.31729|-0.07861|  -0.053| 0.21811| 0.85011| 1.14132|-0.04561|-0.55262| 1.13658|-0.70778|-0.74806| 0.07255|-0.14675| -0.9123|-0.39014| 0.09364| 0.06528| 0.27762|-0.24096| 0.54874| 1.32624| 0.19289| 0.79297|-0.36264|-1.03898| 1.32337| 0.11839|-0.18024| 0.53271|-0.43345| 0.69908| 0.94644| -0.7359|-0.19336|-0.21994|-0.33463| 0.82091|-1.05198| 0.67652| 0.99567| 0.40915| 0.85359| 0.52378|-1.08261| 0.22334| 0.97405| 0.30897| 0.29649| -0.0606|-0.29699|-0.62938|-0.39047|-0.88154|-0.15136|-1.22637|-1.23966| 0.07491|-0.53685|  0.8615| 0.86221|-0.12119| -0.8749| 0.61453| 0.05465|-0.28495|-1.23945|-0.09742| 0.77252| 1.62281| 0.97168|-0.30975| 0.51645|-0.29003|-0.03298| 0.19622| 0.70018| 0.66269| 0.89295| 0.64017|-0.32928| 0.60885|-0.62488|-1.48489| 1.06677| 0.34377|  0.5364|   1.045| 0.14021|-0.22746| 0.12043|-1.08525| 0.37923|-0.51354|-0.87116|-0.82366| 0.40075| 1.09452|-1.24474|-0.44048|  0.1557| 2.07129| 0.16476|-0.62965| -1.0305|-0.69977| 0.96421| 1.23923| 1.34406| 0.61061| 1.78507| 0.33309| 1.21695|-1.17051|-0.76302| 0.45094| 1.31606| 0.74015| 0.95975|-1.00975| 1.27504| -0.0537|-0.31872| 0.78033|  0.2528|-0.27085| 0.99497| 0.45199| 0.10904|-1.03483| 0.88652| 0.77394|-0.69047|-0.65565|-0.24033| 0.41133|-1.00747|-0.34679| 2.04124|-1.43015| 0.41745|-0.04724|-0.42656|-0.83151|-0.76154| 0.78288|-0.64399|  0.5753| 1.38265|-0.32552|-0.83979|-1.27952|  0.3373| 0.52609| 0.20991|-0.31021|-0.26191|-0.57857|-0.19262|      1|\n",
            "| 16| 0.41036|-0.52681|-0.12558| 0.56092|-0.13386| 0.96998| 0.41518|  0.1145| 2.07528| 0.00277| -0.7224| 0.46526|-1.53821| 0.66706| 0.98632| -0.8754|-0.40609| 0.51094|   0.657|-1.00217| 0.09813|-0.28501| 1.03603|-0.32011|-1.22533|-0.11394| 1.04536|-2.36628| 0.48569|-0.01199| 0.26576| 1.06774|-0.43479|-0.47329|-0.16831|-0.96036|-0.12856| 0.95483| 0.01969|  0.6415|-0.26114|-0.63007| 0.92581| 0.15468|-0.55177| 0.31525| 0.79788|  0.3278| 0.20318| -0.5476|-0.45698|-0.26467|-1.17785|  1.0566| 0.35694| 0.40947| 0.14126|-0.06376| 0.71555|-0.09127| 0.73722|-1.18791|-0.16754|-0.94621| 0.22233| 0.46479| 0.38953| 0.33978|-1.16566| 0.03704| -1.0352|-0.83166|-0.00716|-0.77497|-0.23402|-0.70921|-0.02823| 0.07607|-0.30803|-0.15237|-0.48269| 0.10556| 0.46875|-0.21337|-0.28303| 0.00461|-1.16487|-0.53447| 0.41059| 0.30873| 0.67733|  0.6836| 0.55053|-0.83331| 0.16754|-0.07933| 0.45655|-1.50684|-1.01127| 0.70034|-0.20499|-0.63448|-0.40788| 0.43263| 0.86072|-0.32502|-0.32769|-1.51081|-0.27375|-0.43579|-0.02371|   0.548| 0.79772|-0.40813| 0.43778|  0.2428|-0.44052|  1.2485|  0.6177|-0.37735|-0.15046| 0.36626| 1.79134| 0.76603| 0.10401|-0.81759| 1.04606|-0.95534| 0.44709| 0.21563|-0.07207|-0.57579|-0.27041|-0.20518| 0.04151| 1.62091| 0.08965|-1.30395|-0.89669|-0.64969|-0.20844|-1.32202| 0.13326| 0.88212| -0.8444|-0.96073| 0.16204| 0.64317|-0.59222| 1.11339| 1.58603| 0.35047| 1.17397|-0.51802|-0.08861|-1.07555| 0.38342| 0.25949|-1.18673| 0.37294| 0.16467|-0.35853|-1.14612|-0.42553| 1.51619|-0.24704|-1.38004|-0.14858| 0.33756|-0.07873| 0.28017|  0.2197| 0.96779| 0.70322| 0.99348| 0.20419|-0.26177| -1.1634|-0.06986| 0.79435|-0.12731|-0.15032|-0.74699| 0.22319|-0.37188|-1.43784|-1.11301| 0.73354|-1.37917| -0.9145| 1.28184| -0.7471|-0.35871| 0.62447|-0.84817| 0.60241|-0.14564|-0.38668|-0.99168|-0.97388|-0.62605|-0.20024|-0.99331| -0.4009|-0.15833|-0.51637| 1.42601|-0.10847| 1.88519|-1.60166| 1.25336| 0.24058|-0.37988| 0.16579|-0.19571| 1.22335|-1.02225| 0.67642| 0.93861|-0.60599|-0.16399|-0.18931|-0.05076| 1.78566|-1.48262|-1.28221| 0.54513| 1.10918| -0.9049|-0.00223|-0.15201| 1.42217| 0.36321|-1.11248| 0.26766|-0.57501| 0.68404| 0.15178| 0.28019|-0.51735|-1.63957| 0.33355| 0.17993| 0.82875| 0.55743|-0.11818|  0.8164|-0.55811| 0.70473|-0.69893| -0.0165|-0.41294| 0.02569| 0.15206|-0.03558|-0.81535|-1.39168|-1.50494|-0.12725| 0.61458| 0.07652|-0.82518| -0.1439| -0.3519|-0.31994|-0.42428| 0.65544| 0.48807| 0.34175|-1.28214|-0.08867|-0.22237| 1.00064| 0.47654| 0.46416|-0.69612| 0.55307| 1.20213|-0.49405| 0.06218|-1.17158| 0.83444|-0.23549| 0.82533|-1.04443|-0.25352|  0.3289|-0.22591| 0.78417|-0.40995|-0.64476| 0.64323| 0.34765|-0.05848|-0.06478| 1.72148| 0.90602| 0.98694| -0.7312| 0.27708| 0.54751| 0.73373|-0.31305|-0.02418| 0.37084| 0.76596| 0.04184| 0.65525|-1.44528|-0.85479| 0.51134|-0.44678| 0.04786| 1.08216| 1.52134|-0.13595| -0.0339| 0.19554|-0.45072|-0.49169| 0.30355| 0.32484| 0.22426|-0.81616|-1.39139| -0.4591| 0.29317| -2.6248| 0.84008| 0.84708| 1.37429| 1.40847| 0.54563| 0.44903| 2.15945|-1.24216| 0.49195|-0.01191| 0.76012| 0.38501| 0.05015|-0.95268| 0.70807| 1.05927|-0.88557| 0.32263| 0.80631| 1.37651|-0.32549|-0.46492| 1.32554| 0.73335|-0.80883| 0.16478|-0.61628|-0.68414|-0.25651|  0.3891|-0.76441|-1.80512| 0.26156|-0.84458|-0.89461| 0.03669| 0.64737|-1.18428|-0.63394| 1.04008| 0.11439|  -0.708|-1.13923|-0.32696|-0.18258|  0.8558|-0.79179| 0.07884|-0.06482| 0.66473|-0.68311| 0.84428| 0.41148|-0.26824| 0.75684|-0.29344|-0.90767|  0.5636| 0.37596|-0.51422|-0.09695| -0.1752|-0.56087| 0.49346| 0.38719|-0.90409| 0.06861| 0.77927| -0.0356| 0.51751|-0.66131| 0.40972|  0.1243| 0.81693|-0.03286| 0.84332|-0.36753| 0.08223| 0.25149| 0.96508|-2.09149| 0.86674| 1.13695| 0.71324|-0.98682|-0.20891|-0.71314|-0.04537| 0.31285|-1.82895|-0.40966| 1.89002|-0.60869|-0.61158|-0.33683| 1.06316| 0.47697| 0.31167| 0.48007| 1.57344|-0.77491|-0.69137|-0.32076| 0.94205|-0.20804|-0.10743|-0.27987| -0.4496|-0.21771| 1.25277| 0.24204|-0.85293|-0.15132|  0.0533|-0.55246| 0.53568|-0.49467| 1.06488| 0.37996| 0.52031|-0.36661|  -1.515| 1.79255| 0.12852| -0.2793|-0.02039| 0.44965|-0.36923| -0.8514| 0.31358| 1.04913| 0.39306| 0.76817| 1.09083|-0.83351| 0.05389|  -0.832|-0.46644| 1.16765| 0.72542|-0.42446| 1.39139|-0.01505|-0.52226|-1.01805|  0.1657| 0.83941|-0.06482|-0.19242|-0.31381| 0.22736| 1.02248|-0.11069|  0.4635|-0.62661| 0.51747| 0.79311|-0.72044|-0.01912| 0.85424| 0.82025|-1.42707|-0.07696| 0.06068| 0.42392| 0.75598|-0.67461| 1.75563|  0.5388|-0.56372| 1.20471| 0.71719|-0.07056|-1.09559| 0.55899| 1.23922| 0.57563| 0.79262|-1.16185|-0.72351| 0.09149|-1.06204| 1.31323|-0.10709|      0|\n",
            "| 17| 0.25106|-0.27318|-0.19425|-1.08981|-0.37763|-0.28641|-0.73087|-0.29838|-0.12257|-0.60165|-0.92719| 1.33601| 0.44357| 1.22459| 0.16686| 0.06636|-0.17335|-0.04434| 1.01926| 0.32637|-0.77381|-0.40092| 0.99375|  0.0738|-0.94505|-0.45206| 0.78105| 0.27566|-0.17638|-0.86479|  0.8532| 1.80664|-0.87024| 0.22127|-0.91872|-2.07764|-1.11916|-1.27229| 1.04521|-0.60543|-1.40744| 0.13596| 0.05331| -1.2697| -0.3062|-0.25587|-1.36764|-0.37705|-1.95504| 0.71317| -0.3152| 0.91989|   1.913| 1.31119| 0.89479|-0.86784| 0.50819|-0.94791|-0.64779|-0.82309| 0.58772| 0.18655|-0.42972| 1.01899|-0.57996| -0.0088| 0.70148| -0.1072|-0.52798| 0.97481| 0.29578| 1.01192| -0.2023| 0.99005|-0.18568| 0.52206| 0.08176| 0.59001|-0.90189| 0.16659|-0.70531| 0.25887| 1.06794|  -0.145|-0.40482| 0.50729| 0.02206|-0.00677|-0.73696|-0.20933| 0.10528| 0.04242|-0.39873|-0.11225| 0.25029| 0.56747| 0.23555|-0.31638| 0.03507|-0.10735|-0.56716|-0.96552| 0.14989| 0.25462|-0.10643| 0.32575|-0.23169|-0.04262|-1.14284| 0.19307|-0.55416| 0.08146| 0.00725| 0.24368|-0.43273|-0.39646| 0.34973| 0.49654|-0.52237| 0.89812|-0.35623| 0.05472| 0.34756|-0.50102| 0.11786| 0.76445| 0.13262|-0.49344|-0.48412| 0.39038|-0.17497| 1.58227| 1.48206|-0.32697| 0.00988| 0.07361|-0.41861| 0.68031| 0.62057|-1.14904|-0.21016| 0.85998| 0.74311| 0.93768|  0.5172|-0.17902| 0.24585| 0.11594|-0.16846| 0.29228|-0.56893|-0.24005| -0.7615|-0.31913|-0.11614|-0.58767|-1.11238|-0.31304|-0.31505|-0.05129|-0.14363| 0.78938|-0.66168| -0.7729| 0.47356| -0.1143|-1.30627|  0.9339|-1.23662| 0.45294| 0.28518| 0.11509| -0.6552|-0.14061|-0.36558|-0.91755| -0.7348| 0.60818|  0.0921| 0.09725|-0.16857| 0.31224| -0.7687| 0.67743|-1.25599|-0.20363|-0.58195|-0.45671| 0.15539|-0.49518| 0.68562|-1.52493|-0.27514| 1.82402| 0.04497|-0.75138| 1.25288|-0.02717| 0.22079| 1.61062| 0.08679|-0.05374| 0.34739| 0.39807| 0.95571| 1.10496| 0.60743| 0.08574| 0.35119|-0.36531|-0.55679| 0.90052|-0.06981| 0.22966|-0.54311| 1.02582| 0.65959| 0.03395|-0.46269| -0.4813|-0.40321|-0.09466|-0.66772| 1.08101|-0.50649| 0.08092| -2.2787| 0.26299|  0.5022|-0.46696| 0.56997| 0.58245|-0.23129|-0.14884| 1.70341| 0.57197| 0.15965| -0.1739|-0.16602|-0.65676| 0.50158| 1.73985| 1.36557| 0.07763| 0.79752| 1.13701| 0.64448| 0.46094|-0.16419| 0.57464| 1.32297|-1.82788|-0.27799|  0.1844|-1.06261|-0.50523| 0.14084|-1.77076| 2.80687| 0.24988|-0.53892| 0.95801| 0.47707| 0.54315| 1.10987|   0.015| -1.1414| 0.35594| -8.5E-4| -0.7526| 1.03614|-0.98175|  0.6346| 0.43539| 1.16099| 1.29027| 1.36682|-0.40102| 0.34576| 0.13293|-0.88554|-0.09975| 0.43316|-0.70336|  0.5929| 1.96868| -0.2679| 0.73921|-0.13847| 0.77442|  0.6807|-0.69077|-0.71789|-0.67629|-0.51774|-0.43672| 0.39523| -1.0678| 1.02237| 0.11379|-0.44086|-0.34505| 0.37154| 1.36638|-1.65694| 0.00363| 0.51915| 0.09675|-0.90007| 1.00542|-1.09132| 0.22845|-1.05325| 0.09723|-0.21432| -1.3435|   0.586|-0.28545| 0.44337|-0.96626| 0.87701| 0.42161|-0.05482|  1.1073|-0.83685| 0.10867| -0.5164|-1.49002| 0.48849|-0.62027| 0.87762|-1.10493| -0.1702|-0.03035|-0.58351|-0.72763|-0.57182|-1.23728|-0.71661| 0.14955| 0.86853|-0.72258| 0.51394| 0.06313| 0.83387|-0.97211|-0.05916|-1.60385| -0.3541| 0.18023| 0.62475|-0.37278| 0.81187| 1.00777| 0.13871|-0.44171|-0.31916|-0.25835|-0.69314| 0.12886|-0.45377| 0.68588|-0.58777| 0.03871|-0.15243| 0.37379| 0.13954| 0.56531|-0.10829|-0.27844| 0.04234| 0.58173| 0.49552|-1.18983| 0.38153|-0.23857| 0.80231| 0.05797|-0.83201| -0.8523|-0.86858|-0.34308|-2.05108| 0.31186|-0.74348| 0.60604| 1.16191| 0.40972|-0.27253| 0.06939|-0.91783|-0.15064|-2.42758|-0.01875|  0.2429| 0.60616| 1.10571| 0.84807| 0.69576|-0.86825| 0.40779| 0.39401|-0.24337| 0.08414| 0.69142| 0.95591| 1.30864| 0.81996|-0.67447| 0.26499| 1.37371|-0.80464| 0.24946| 0.29367| 0.26209| 1.06986|-0.20117|-0.04209|-0.46608| 0.44494| 0.40816| 0.14862|-1.37498|  0.1662|-0.06599| -0.5919|-0.90337| 0.98667| 0.04706|-0.36831| 0.55782| 1.49358|-1.05714|-0.76721|  0.4063| 0.03266|-1.59514|-0.49458| 0.97972| 0.62356| 0.92092|-0.69375| 0.86593| 0.27788|-0.89186|  0.6739|-0.47607| 0.76326| 0.15104| 0.54764|-0.11002| 0.74326| 0.57568| 0.69845| 0.18066|  0.4704| 0.19622|-0.32755|-1.45551|-0.98437|-0.66302| 1.83913|-0.21051|-1.06527|-0.69129|-0.71549|-0.09469|-0.35501| 0.33849| 0.74523| 0.21362|-0.62561| 0.64885|-0.19083| 0.36464|-0.18288|  1.1282|-1.27663| 0.81688|  0.5534| 0.76285| 0.61254| 0.00746|-0.24178|-0.88056|-1.22129|  0.5883| 0.40529|-0.89481|-0.20928| 0.34577|-1.18657| 1.46491|-0.91989|-1.13096| 0.08497|-0.26406|  0.0575| 0.85107| -1.0324| 0.97513|-0.16087|-0.20241|-0.43408| 0.76963| 0.90933|-0.27116| 0.22133|-0.02242|-0.61235|-0.22105|-0.66523|      1|\n",
            "| 18| -0.1004|-0.63785| 0.03149|-0.92916|-1.05188| 0.12802|-0.03664|-0.17185|-0.72735|-0.23437|-0.23108| -0.2303| 0.99833|-1.13136| 0.10397|-0.37191|-0.65633| 0.69842|-0.12238| 0.03531|-0.61208|-0.18336|-1.53477| 1.28502|-0.00406| 0.14364| 0.21167| 0.27384| 0.76516|-0.15295| 0.73979| 0.14596|-0.23341| 0.43916| 0.11567|-0.04493| 0.72258| 0.55478|-0.52946|-0.56665|-0.09729|-1.31805| 0.08456|-0.53333| 0.17329| 0.22779| 0.35938| 0.11786|-1.30197| 0.70921|  0.6187|-0.25811| -0.3824| 0.06221| 1.15723| 0.75008|-0.52596| 0.33495| 0.17549|-0.59967|-1.84075|-0.40735| 1.72457|-0.10963| 0.32379|-0.34536| 0.94804|-1.76845| 0.37728| 0.30981|-0.44845|-0.80271|-0.92877|-0.32295| 0.84826|-0.94656| -0.9152|  0.8178|-0.80076|-0.48323|-0.61622| 0.75998| -0.2095| 0.95097|-0.70827|-0.09069| 0.60227| 0.03271|-0.06762|  0.6875| 0.76509| 1.61545| 0.30215|-0.88284|-0.81964| 1.53428|-0.47221|-0.05463|-0.55197| 0.64772| 1.78436| -0.3805|-0.99052|-0.17205|-0.07844|-0.27409| 0.35294|-0.73018|-0.95833| 0.33547|-0.98045| 0.32106| 0.05386|-0.74902|-0.07503| 0.12142|-0.07268|-0.68768|-1.38796|  0.8052| 0.20469| 0.70679|   0.193| 0.29367| 0.20643|-0.86122| 0.26598| -1.3144| 0.05079| -1.5485|-0.57637|-0.31078|-0.25348| 0.65326|-0.00431| 0.38482| 0.37804|  0.4554| 0.33138| 0.91967| 0.03042|-0.58887| 0.78095|-0.89142|-0.19872|-0.52779|-0.60745|-0.08566| 0.60574|-0.27885| 0.05691|-0.95921|-0.63123| 0.09392| 0.23156| 1.50946|-0.16399|-0.99789| 0.92648|-0.17908|  0.4912|-0.11968|  1.3118| 0.52134| 0.15253|-0.06875| 0.30905| 0.84019| 1.66536| 0.17798| 0.14034| 0.18937|  0.4649|-0.54511| 0.27658|-0.07952| 0.82318| 0.87297|-0.83543| 0.10025| 0.53751|-0.69966| 0.52151| 0.33317|-0.20947|-0.06151| 1.96155|-0.63344|-0.41439|-1.09982|-0.01876|-1.20754|  0.3078|-1.03437| 0.26992| 0.02614| 0.49012|-0.82824|-0.91826| 1.16564| 0.57268|-0.56042|-0.09017| -0.4344| 0.23244| 0.39628|-0.39317|-0.23064|-0.72298|-0.99098| -1.1236|-0.17183|-0.61932|-0.56293| 0.42976| 0.06184| 0.02244| -0.7871|-0.88523|-1.16344| 0.29737|-0.26759|-0.86961| 0.37453| 0.12256| 0.31748| 1.82076| 0.79983| 0.51101| 0.25369|-1.21989| 0.32506|  0.3455| 0.79164| 0.12657|-0.44789|-1.12592|-2.16331|-0.29862|-0.41944| 0.23512|-1.05295|-0.28516|  0.5481|-0.38323| 0.34228| 1.37884| 0.06305| 0.71515|-0.74471| 0.48577| 0.59905| 0.32233| 1.40968|-0.69551|-0.22627| 0.90272|-0.75169|-0.09927| 0.09667|-0.37971|  0.6554|-1.34031| 0.23033| 0.15992| 0.21471|-1.19659| 0.38782| 1.15832| 1.01809| 0.42338|-0.62331| 0.65965|-0.16552| 0.71528| 0.51917|-0.85444|-0.73309|-0.73427| 0.12553| 0.79601| 0.17472|-0.43353| 0.53422| 0.44342|-0.86285|-0.25778| 0.03666| 1.20846| -0.5162| 0.68911|-0.65672| 1.13831|-0.36652|-0.19631| 0.31851|-0.08035|-0.80614|-1.02866|-0.55343|-0.17517|-0.65237| 0.90521|-0.44842|-0.62262| 1.07049| 0.94135|-0.84653| 0.51867| 0.33717| 0.39816|-0.79338| 0.12279| 0.04849| 1.44471| 1.02261| 0.19822| 0.98648| 0.21895|-0.22702|  0.4474| 0.16445| 0.29645| 0.43512|-0.19536| 0.78695|-0.67807|-0.53866|-0.85266| -1.3015|  0.6815|-0.32157| -0.6607| 0.52297| -1.0983|-0.72562|-0.05121|-0.10344| 1.22204|-0.37851| -0.4896|-0.68051|  -0.257| 0.78157| 0.66221|-1.24157|-0.68471| -0.9239| 0.32425|-0.44314| 0.13454|-0.61802|-0.41528|-0.01325| -0.0989|-0.71586|-1.41152|-1.37426|-1.02847| 1.05022|-1.36041| 0.94226|  1.1677| 0.54954|-0.57636| -0.5013|-2.06623| 0.13053|-0.91278|-0.98352|  0.5689|-1.68197| 1.04472| 0.17735| 1.37649| 0.80652| 0.84736| 0.22918|-0.01972| 0.45854|-1.18369|-0.59011|-0.34317| 0.45808|-0.56027|-0.12082|-0.61872| 1.20217|-0.37804| 0.02539|-0.16756|-0.82409|-0.59023|-0.48097|-0.04295| 0.46245|-1.02315| 0.29698|-0.08935| 0.64951|-0.51604|-0.78475|-1.24746|-0.21467|-0.92097| -1.1735| 0.24538| 0.09655|-0.65159| 0.64205| 0.44021|-0.56012|   0.386| -1.6755|-0.99328| 0.02491|-0.96142|-0.00214|-0.41967| 0.86181| -0.2322|-0.74161|-0.80997|-0.13734|-0.06366|-1.18842|-0.58547| 0.48449|-0.04942| -0.7793| 0.57991| 0.65721| 0.37207| 0.09571|-0.17038| 0.87941| 0.09036|  0.3041| 1.16258|-0.12136|-0.39806|-0.74479|  0.6361|-0.09762|-0.01188| 0.26197| 0.09798| 1.61028| 0.08444|  0.3875| 1.05957| 0.20735| -0.0811|-0.98523| 0.10688|-1.24537|-0.78769| 0.70942| 1.10353|-0.76126| 1.09328| 0.69067| 0.31799| 0.73849|-0.33455|-1.24556|-0.00926| 0.41387|  1.6622| 0.18519|-0.13211|-0.52743| 0.19509| 0.87503|-1.38627|-0.25016|-0.04451|-0.76043| 0.72778|-0.26869| 0.03143| 1.39946| 0.37408|-0.02515| 0.08744|-0.41246|  0.8643| 0.29343| 0.15954| 0.26019| 0.07055|-0.45475| 0.62146| 0.63523|-0.44709|-0.32868| 0.40349| -0.3341| 0.10812| 0.75703| 0.95207|-1.07603|-0.68229| 0.30841|-0.74879|-1.08639|-1.32687| 1.19646|-0.84037|-0.76371| 0.32014|-1.03241|      0|\n",
            "| 19| 1.44832| 0.27383| 0.21353|-0.50728|-0.77022|-0.72265|-0.60941|-0.34766| -0.1816|-0.38009|-1.07261| 0.18382|-1.41119| 1.31442| 0.33694|-0.42014|-2.41366| 0.43607| 0.43982|   0.228|-0.89739| 1.01949|-0.94688| 0.17441| 0.17724|-0.08772| 0.30372|-0.66471| 0.72323| 0.36975| 1.00744| -0.7614|-1.04707|-0.06839| 0.70214|-0.76677| 0.33849|-0.26111|-0.56316| 1.83119| 0.96983|-0.01567|-0.29202|-0.12304| 1.21665| 0.40522|-0.98013|-0.11155|-0.33781| 0.26084|-0.08244|-0.93871|-0.14156|-0.09139| 0.13358|-0.02778|-1.06114| 0.08101| 0.05387|-1.11993| 1.39149|  0.9529|   0.947| 0.94339| 0.03889| 0.14681|-0.13956| 1.32868| 0.91051| 0.00246| 0.76397| 1.12293| 0.91903| 0.55255|-0.02518| 0.05759| 0.00264|  0.4789| 0.20649|-0.00519| 0.21232| 0.87452|-0.01233| 0.29076| 0.53051| 0.68183| 0.31271|-0.74261| 1.16377|-0.64566|-0.70309| 0.50612|-0.24622|-0.20181| 0.81176|-0.08375| 1.89014| 0.51352|-0.57375|-1.21507|-1.29564| 1.01078|-1.01457|-0.20133|-0.52497| 1.19984| 0.51236| 0.00541|-0.53142| 0.91095|-0.43327| 0.15127|-0.08953| 0.21682| 0.05998| 0.61923| 1.36683|-0.59243| 0.50205|-0.51829| 0.12585|-0.43547|-0.44256| -0.2343| 0.86317|-0.96325|-0.25409|-0.19345|  1.0284| -0.5822|-0.15456| 0.49252| 0.51141| 2.26166| 0.23826|-0.13638| 0.35366| 0.50286| 0.69268|-0.23217| 0.26619|-1.43817|-0.81696| 0.88019| 0.11043|-0.15279| 0.27284|-0.06268| -0.5164|-0.27558| 1.34683|-0.18528| -1.4071|  0.0261|-0.40761| 0.83926| 0.67018| 0.76154| 0.26965|-0.43304|-0.95452|-0.52546| 1.26108| 0.85807|-0.51915| 0.43727| -0.3785|-0.18432|-0.91445| -0.6553| 1.15754|-0.43046|  0.2233|-0.81238|-0.34921| 0.30662| 0.02103|-0.01676|-0.63764|-0.40963| 0.67942|-0.52889| 0.18911|-0.94011| -0.2861| 0.88344| 0.42046| 1.12047|  -0.855|-0.21243|-0.38278| 1.06307|-0.23659|-0.01208| 0.11145| 0.79878| 0.84444|-0.54942| 0.22593| -0.1113|-0.27681| 0.51305| 0.73162| 0.77472|    1.31|-0.82162| 0.99133|  0.6858|-0.51897|-0.53529|-0.50168|-0.46903|-0.44517| 0.26382| 0.47942|   1.052|-0.91444|-0.19579| 0.48985| 0.81387|  -0.353| 0.34897| 0.34654|-0.83148|-0.84752|-0.83168| 0.41178| 0.34308|-0.96907|-0.89126| -1.3062|-0.39325|-0.44105|-0.46477|-0.51668|-0.28856| 0.96454|-0.44842|-0.58288| 0.40762|-0.56684|-0.15876|-0.64577|-1.06422|-0.09737| 1.09267|-0.14071| 1.16102| 0.15435| 0.17341|-0.39452| 1.38454| 0.53476| 0.26448|-0.83176| 1.24515|-0.62656| 0.45849| 0.21525| -0.4125|-1.96744|-1.91713|-0.38766| 1.06356| 0.60918| 0.40779|-0.69167|-0.41062|-0.66204|-1.27967|-1.77451|-1.04364| 0.77976|   -1.18| 0.13401|-0.23234| 0.17629|-0.77104| 1.25468| 0.36503|-1.89973|-0.46281|  0.8676|-0.06098| 0.78615| 0.54437| 0.84875|-0.09962|-0.67474| 0.14646| -0.4863|-0.72811|-0.89826| 0.02761|-0.32533|  1.7515|-0.50672|-0.79198| 0.22736|-1.19529|-0.63801| 0.00977|-0.42027| 0.94087|-0.54348|-1.60881|-0.56323|-0.40394| 0.14397| 0.60807| 0.55626| -0.2396| 0.76965| 0.52245|-1.07112| 0.27693| 0.35121|-0.72231|-0.53192| 1.04677|-0.69735| 1.29374|-0.42032| 0.12678|-0.71559| 1.05401|-0.40265|-0.09973|-0.78056| 0.68064| 0.45472|  0.2634|-1.17533|-0.01715|-0.13882| 0.22148| 0.40241| 0.08803| 0.29836| 0.20853|-0.23069|-0.27561| 1.51085|-1.12896|-0.09687| -0.2531| -0.5152|-0.29594|-0.20768| 0.64394| -1.2185|-1.02301|-0.37228| 0.12097|-0.21647|-0.27334| 0.60146|-0.44862| -0.8417|-1.08635| 0.21805|-0.51847|-1.49559| 0.22113|-0.53478|-0.30588|  0.1329| 0.49105|-0.31278| 0.49458|-1.14074|-0.33176|-0.99862| 1.17355|-0.31004|  -0.427|-0.51068|-0.58076|-0.07974|-0.33605|-1.45635| 0.77372| 1.25977|-0.69559| 0.07568|-0.54842|-0.32671| -0.9381| 0.50716| 0.52076| 0.32065|-0.91057|-0.46473| 0.72281| 0.51614|-0.18693|-0.05313| 0.22319|-0.58079|-1.16001| 0.18428| 0.97807| 0.05966|-0.72111|-0.40563|-0.63444| 0.41976| 0.98904| 0.10521| 0.96701|-0.15185| -1.2753| 0.06568|-0.26024| 0.67617|-0.01759| 0.38212| 0.16901| 0.14418| 0.64026|-0.68589| 0.45516| 0.72209|-0.62071| 0.51877| 0.19567|-0.36549|-0.20984|-0.27078| 0.11799| 1.64212| 0.78748|-0.90926| 0.99257| 0.31682|-0.23358| 0.50676|-0.13538| 0.44614| 0.04218| -0.0355| 0.59936| 0.44006|-0.17499| -0.0842| 0.12579| 0.62017| 0.30036| 0.46965|  0.8576|-1.23242|  0.3974|-0.11097| 0.20731|  1.1329|-0.12804|-0.04443|-0.10406| 1.68262| 1.00776| 0.31693|-0.31729| 0.44242|-0.84443|-1.41589| 1.54475| 1.17957|-0.17468|-0.05922| 0.15366|-0.84252|-0.42231| 0.89061|-0.95412|-0.25683|-1.66257| 0.78378| 0.41961|-0.90754| 0.12777| 0.48627| 0.08487| 0.57319| 0.14236|-0.30225|-0.37528|-0.44356|-0.24503|-0.68477| 0.08174| 0.88918|-0.13545|  1.2902|-1.04656|-0.63805|-0.53203| 0.39521| 0.20195|-0.81314|-0.17002| 0.77075| 0.68074|-0.71738|-0.46083|-0.24743|-1.17874| 0.72561| 1.18497| 0.60179|  0.7894| -0.1268| 0.29302|      1|\n",
            "| 20| 1.03923|-0.04257| 1.69819|-0.86188|-0.58439| 0.06312| 0.26304| 0.49903|-0.22466|-0.66106|-0.81465| 0.70342| 0.32795| 0.14927| 0.33803|-0.15167| 0.33383| 0.02454| 0.45989|-0.05749| 1.13333| 0.95102|-0.14905| 1.65425|-1.06393| 0.36894|-1.18753|-0.21609|-0.05825| 1.22208|-0.00882|-0.87923|-1.14775| 0.08635| 1.02441| 0.09063| 0.47287|-1.33649| 0.85026|-0.56484|  0.4047|-0.27085| 0.41513| 0.28366| 0.78255|-0.20786| 0.69941| 0.51863| 0.85761|  1.4891|-0.36746| 0.33254| 0.76213|  0.6034|-0.06736| 0.44784|-0.01282| 1.14164|-0.68549|-0.03739|-0.15275|-0.70712|-0.96301|-1.63278|  0.4767|-0.20965|-0.98306| 0.94427|-0.30619| 0.15334| 0.13874| 0.74091|-0.48014| 0.18248|-0.85842|-0.78631| -0.8219|-0.28155| 0.72555|-0.61624| 0.21047| 1.06833|-0.20138|-1.26419|-1.03737| 0.04246|-1.16113| 1.07331|-0.65691| 0.80147|-0.02656| 0.96026| 0.23892| 0.65826|-0.40464| 0.73189| 0.70965| 0.10527| 0.35242| 1.78901| 0.69262|-0.82673|-0.52517|-0.40367|-0.24634|-0.09543|-0.47667|-0.16361| 1.41199|-0.41356|-0.75311|-0.72695|-1.30469| 1.01224| 0.83132|-0.39065|-0.12877| 0.40776| -0.4968| 1.00038|  1.5451|-0.62166|  0.1752|-0.25653|-0.81686| 0.48057| 1.67003|   0.485| 0.06791| 0.26682| 0.06786|  1.0869| 1.03809|-0.88556|-1.49528| 0.23326|-0.52273|-1.03728| 0.11565|-0.74377| 0.17714|-0.36583| 0.11724| 0.92967| 0.87152|-0.72031| 0.74648|  0.2893| 0.08919| 0.39297| 0.38804|-0.50717|-0.67523| 0.46054| 0.73164| 0.01693|-0.50598| 0.11815| 1.14647| 0.86961|-0.03111|-0.53223|-0.77797|-0.21574|-0.16516|-1.80844| 0.03899|-0.65411|-1.68417|-0.52253| -0.5388|-0.60193|  1.6054|-0.77619|-0.27928| 0.13388| 0.52807|  0.5868|-0.71954| 1.62235| 0.48703| 0.32968| 0.21269|-1.14736| 0.79425|  0.6955| 0.65413|-0.05331| 0.40646|-0.82959|-0.57892| 0.03183|-0.53426|-0.59916| 0.13857| 0.84103| 0.46202|-0.89977|-0.41877| 0.69423|-1.07451| -0.8898| 1.65141|-0.38486| 1.02892| -0.4787|-0.03245| 0.14176|  1.0514|  0.9103|  0.5198| 0.47308| 0.09634|-0.26571| 0.69026| 0.44026| 0.72729| 0.07387| 1.26152|-0.10729| 0.35377| 1.09583| -0.0314| 0.40956|-0.45194| 0.31515|-0.62557|-1.14545|-0.83501|-0.31736|-0.26563|-0.03983| 0.77228|-0.55683| 0.39431| -1.7951| 1.04839|-0.89727|-0.78082| 0.73458| 0.03298|-0.19837|-1.48081|-0.05075|-0.64275| 0.38654|  0.6549|-0.21003| 1.04469| 0.33479|-1.08991|-0.22186| 0.07579| 0.18178|-0.04237| 0.27367|-0.27731| 0.21815|-0.41224| 0.91746|-0.64333|-1.15656|-0.13066|-0.26737| 0.13703|  0.4322|-0.05023|-0.75992| 1.96039|-0.61426| 0.24486|  0.0791| -1.1594|-1.10802| 1.34454| 1.02673| 0.26464|-0.56162|-0.03307|-0.49143| 0.82764| 0.38848|-0.18773| 1.13141|-0.34497| 0.09863|-0.34378|-0.16844|-0.17062| 0.09436|-0.04492|-0.72334|-0.58873|   -0.15|-0.35342| 0.35164|-0.07656| 0.56211| 0.52805|  0.1086|-0.04086| 0.46704| 0.66042| 0.01717| 0.08749|-0.92459|-0.16449| 1.48432|-0.37197|-0.23378| 0.90543| 0.54575|-0.81019| 0.05099|-0.18666|-0.09408| 0.01064|-0.55376| -2.0671| 0.92846| 0.21237|-0.66094| 0.17163| 0.08203| 1.03291| -0.0606|-0.78808|-0.24973|-0.14175| 0.87876|-0.80926| -0.8334|-0.95808|-0.67747| 0.33272| 0.38287| 0.01942| 0.15725| 0.81092| 1.33943|-0.63656|-0.09015|-0.50743| -0.0791|-0.85192| 0.19613| 0.82784| 0.46979| 1.14373| 1.47897|  0.5979| 0.26386|-0.22075| 0.09471| 0.78641|-0.44356| 0.43064|  0.4732|  0.3474| 0.58704| -1.4366|-1.67833|-0.47325|-0.88909|-0.29472|-1.11799| 0.75225| 0.12552| -0.6952| 0.24981| 0.65806| 0.08038| 0.86455| 0.44905| 0.45295| 0.18665|  0.4784|  0.8986| 1.04751| 0.55388|-0.27608| 0.56548|-0.80581|-0.89593|-1.14064|-0.83942| -0.6885|-0.16559| 0.04593| 0.62822|-1.60725|  0.9645| 0.99326|-0.08392|-0.09379|-0.47134|-0.64472|-0.91156|-0.86614|-0.63505| 0.12489|  -0.047| 0.25027| 0.68494| 0.19873| 0.97317| 0.18417| 0.62334| 0.02314| 0.28277| 1.22561| 0.49965|-0.05096| 0.33961|-0.16071|-0.27295|-0.48068|-0.77854|-0.50292| 0.16974|-1.17837| 0.16366| 0.79523|-1.25232| 1.25282|-1.30361|-0.07931| 0.51586| 0.53638| 0.32886| 1.14866| 0.76283| 0.20831|-0.32136|-0.37388|-0.48045|  0.5093| 1.25005| 1.50244| 0.34351|-0.41063| 0.12194| 0.98092| 0.12535| 0.26507| 0.33759| 0.84984|-0.42826|-0.17798|-1.15722|-0.04264| 0.49241|-0.46945| 0.40647|  0.0223|-0.96307|-0.85207| 0.24307|   0.855| 0.77484|-0.22996|   0.877| 0.97911|-0.14339| 1.74383| 0.33345|-0.11537|-0.51673| 0.05008|-1.11513| 1.35027|-0.16712| 0.34502|-1.01389| 0.65672|-0.39629| 0.80456|-1.56367| 1.04463| 0.44445| 0.48196| 1.05312| 0.92543|  0.8205| 0.21352|-0.64921| 0.62184|-0.34504| 1.35194| 0.59745|-0.35008| 0.69722| 0.29418| 0.92289|-1.01802| 0.08863|-0.23106| 0.52421|-0.95844| 1.16534|-0.11914|   0.578|-0.42615|-0.95919| 0.26355| -0.9066|-0.10817|-0.73267| -0.7036| 0.31537|-1.06907| 0.46218|      0|\n",
            "+---+--------+--------+--------+--------+--------+--------+--------+--------+--------+--------+--------+--------+--------+--------+--------+--------+--------+--------+--------+--------+--------+--------+--------+--------+--------+--------+--------+--------+--------+--------+--------+--------+--------+--------+--------+--------+--------+--------+--------+--------+--------+--------+--------+--------+--------+--------+--------+--------+--------+--------+--------+--------+--------+--------+--------+--------+--------+--------+--------+--------+--------+--------+--------+--------+--------+--------+--------+--------+--------+--------+--------+--------+--------+--------+--------+--------+--------+--------+--------+--------+--------+--------+--------+--------+--------+--------+--------+--------+--------+--------+--------+--------+--------+--------+--------+--------+--------+--------+--------+--------+--------+--------+--------+--------+--------+--------+--------+--------+--------+--------+--------+--------+--------+--------+--------+--------+--------+--------+--------+--------+--------+--------+--------+--------+--------+--------+--------+--------+--------+--------+--------+--------+--------+--------+--------+--------+--------+--------+--------+--------+--------+--------+--------+--------+--------+--------+--------+--------+--------+--------+--------+--------+--------+--------+--------+--------+--------+--------+--------+--------+--------+--------+--------+--------+--------+--------+--------+--------+--------+--------+--------+--------+--------+--------+--------+--------+--------+--------+--------+--------+--------+--------+--------+--------+--------+--------+--------+--------+--------+--------+--------+--------+--------+--------+--------+--------+--------+--------+--------+--------+--------+--------+--------+--------+--------+--------+--------+--------+--------+--------+--------+--------+--------+--------+--------+--------+--------+--------+--------+--------+--------+--------+--------+--------+--------+--------+--------+--------+--------+--------+--------+--------+--------+--------+--------+--------+--------+--------+--------+--------+--------+--------+--------+--------+--------+--------+--------+--------+--------+--------+--------+--------+--------+--------+--------+--------+--------+--------+--------+--------+--------+--------+--------+--------+--------+--------+--------+--------+--------+--------+--------+--------+--------+--------+--------+--------+--------+--------+--------+--------+--------+--------+--------+--------+--------+--------+--------+--------+--------+--------+--------+--------+--------+--------+--------+--------+--------+--------+--------+--------+--------+--------+--------+--------+--------+--------+--------+--------+--------+--------+--------+--------+--------+--------+--------+--------+--------+--------+--------+--------+--------+--------+--------+--------+--------+--------+--------+--------+--------+--------+--------+--------+--------+--------+--------+--------+--------+--------+--------+--------+--------+--------+--------+--------+--------+--------+--------+--------+--------+--------+--------+--------+--------+--------+--------+--------+--------+--------+--------+--------+--------+--------+--------+--------+--------+--------+--------+--------+--------+--------+--------+--------+--------+--------+--------+--------+--------+--------+--------+--------+--------+--------+--------+--------+--------+--------+--------+--------+--------+--------+--------+--------+--------+--------+--------+--------+--------+--------+--------+--------+--------+--------+--------+--------+--------+--------+--------+--------+--------+--------+--------+--------+--------+--------+--------+--------+--------+--------+--------+--------+--------+--------+--------+--------+--------+--------+--------+--------+--------+--------+--------+--------+--------+--------+--------+--------+--------+--------+--------+--------+--------+--------+--------+--------+--------+--------+--------+--------+--------+--------+--------+--------+--------+--------+--------+--------+--------+--------+--------+--------+--------+--------+--------+--------+--------+--------+--------+--------+--------+--------+--------+--------+--------+--------+--------+--------+--------+--------+--------+--------+--------+--------+--------+--------+--------+--------+--------+--------+--------+--------+--------+--------+--------+--------+--------+--------+--------+--------+--------+--------+--------+--------+--------+--------+--------+--------+--------+--------+--------+--------+--------+--------+-------+\n",
            "only showing top 20 rows\n",
            "\n"
          ]
        }
      ]
    },
    {
      "cell_type": "markdown",
      "metadata": {
        "id": "X05K_xEhcZPF"
      },
      "source": [
        "#Feature preprocessing\n",
        "\n",
        "\n"
      ]
    },
    {
      "cell_type": "code",
      "metadata": {
        "id": "6I-yr-hBf94S"
      },
      "source": [
        "from pyspark.sql.functions import col\n",
        "df_pyspark = df_pyspark.select(*(col(c).cast('float').alias(c) for c in df_pyspark.columns))"
      ],
      "execution_count": null,
      "outputs": []
    },
    {
      "cell_type": "code",
      "metadata": {
        "colab": {
          "base_uri": "https://localhost:8080/"
        },
        "id": "eQRvp5tMf98U",
        "outputId": "4932c734-d08a-4c57-df1e-7566435cead8"
      },
      "source": [
        "df_pyspark.printSchema()"
      ],
      "execution_count": null,
      "outputs": [
        {
          "name": "stdout",
          "output_type": "stream",
          "text": [
            "root\n",
            " |-- id: float (nullable = true)\n",
            " |-- v1: float (nullable = true)\n",
            " |-- v2: float (nullable = true)\n",
            " |-- v3: float (nullable = true)\n",
            " |-- v4: float (nullable = true)\n",
            " |-- v5: float (nullable = true)\n",
            " |-- v6: float (nullable = true)\n",
            " |-- v7: float (nullable = true)\n",
            " |-- v8: float (nullable = true)\n",
            " |-- v9: float (nullable = true)\n",
            " |-- v10: float (nullable = true)\n",
            " |-- v11: float (nullable = true)\n",
            " |-- v12: float (nullable = true)\n",
            " |-- v13: float (nullable = true)\n",
            " |-- v14: float (nullable = true)\n",
            " |-- v15: float (nullable = true)\n",
            " |-- v16: float (nullable = true)\n",
            " |-- v17: float (nullable = true)\n",
            " |-- v18: float (nullable = true)\n",
            " |-- v19: float (nullable = true)\n",
            " |-- v20: float (nullable = true)\n",
            " |-- v21: float (nullable = true)\n",
            " |-- v22: float (nullable = true)\n",
            " |-- v23: float (nullable = true)\n",
            " |-- v24: float (nullable = true)\n",
            " |-- v25: float (nullable = true)\n",
            " |-- v26: float (nullable = true)\n",
            " |-- v27: float (nullable = true)\n",
            " |-- v28: float (nullable = true)\n",
            " |-- v29: float (nullable = true)\n",
            " |-- v30: float (nullable = true)\n",
            " |-- v31: float (nullable = true)\n",
            " |-- v32: float (nullable = true)\n",
            " |-- v33: float (nullable = true)\n",
            " |-- v34: float (nullable = true)\n",
            " |-- v35: float (nullable = true)\n",
            " |-- v36: float (nullable = true)\n",
            " |-- v37: float (nullable = true)\n",
            " |-- v38: float (nullable = true)\n",
            " |-- v39: float (nullable = true)\n",
            " |-- v40: float (nullable = true)\n",
            " |-- v41: float (nullable = true)\n",
            " |-- v42: float (nullable = true)\n",
            " |-- v43: float (nullable = true)\n",
            " |-- v44: float (nullable = true)\n",
            " |-- v45: float (nullable = true)\n",
            " |-- v46: float (nullable = true)\n",
            " |-- v47: float (nullable = true)\n",
            " |-- v48: float (nullable = true)\n",
            " |-- v49: float (nullable = true)\n",
            " |-- v50: float (nullable = true)\n",
            " |-- v51: float (nullable = true)\n",
            " |-- v52: float (nullable = true)\n",
            " |-- v53: float (nullable = true)\n",
            " |-- v54: float (nullable = true)\n",
            " |-- v55: float (nullable = true)\n",
            " |-- v56: float (nullable = true)\n",
            " |-- v57: float (nullable = true)\n",
            " |-- v58: float (nullable = true)\n",
            " |-- v59: float (nullable = true)\n",
            " |-- v60: float (nullable = true)\n",
            " |-- v61: float (nullable = true)\n",
            " |-- v62: float (nullable = true)\n",
            " |-- v63: float (nullable = true)\n",
            " |-- v64: float (nullable = true)\n",
            " |-- v65: float (nullable = true)\n",
            " |-- v66: float (nullable = true)\n",
            " |-- v67: float (nullable = true)\n",
            " |-- v68: float (nullable = true)\n",
            " |-- v69: float (nullable = true)\n",
            " |-- v70: float (nullable = true)\n",
            " |-- v71: float (nullable = true)\n",
            " |-- v72: float (nullable = true)\n",
            " |-- v73: float (nullable = true)\n",
            " |-- v74: float (nullable = true)\n",
            " |-- v75: float (nullable = true)\n",
            " |-- v76: float (nullable = true)\n",
            " |-- v77: float (nullable = true)\n",
            " |-- v78: float (nullable = true)\n",
            " |-- v79: float (nullable = true)\n",
            " |-- v80: float (nullable = true)\n",
            " |-- v81: float (nullable = true)\n",
            " |-- v82: float (nullable = true)\n",
            " |-- v83: float (nullable = true)\n",
            " |-- v84: float (nullable = true)\n",
            " |-- v85: float (nullable = true)\n",
            " |-- v86: float (nullable = true)\n",
            " |-- v87: float (nullable = true)\n",
            " |-- v88: float (nullable = true)\n",
            " |-- v89: float (nullable = true)\n",
            " |-- v90: float (nullable = true)\n",
            " |-- v91: float (nullable = true)\n",
            " |-- v92: float (nullable = true)\n",
            " |-- v93: float (nullable = true)\n",
            " |-- v94: float (nullable = true)\n",
            " |-- v95: float (nullable = true)\n",
            " |-- v96: float (nullable = true)\n",
            " |-- v97: float (nullable = true)\n",
            " |-- v98: float (nullable = true)\n",
            " |-- v99: float (nullable = true)\n",
            " |-- v100: float (nullable = true)\n",
            " |-- v101: float (nullable = true)\n",
            " |-- v102: float (nullable = true)\n",
            " |-- v103: float (nullable = true)\n",
            " |-- v104: float (nullable = true)\n",
            " |-- v105: float (nullable = true)\n",
            " |-- v106: float (nullable = true)\n",
            " |-- v107: float (nullable = true)\n",
            " |-- v108: float (nullable = true)\n",
            " |-- v109: float (nullable = true)\n",
            " |-- v110: float (nullable = true)\n",
            " |-- v111: float (nullable = true)\n",
            " |-- v112: float (nullable = true)\n",
            " |-- v113: float (nullable = true)\n",
            " |-- v114: float (nullable = true)\n",
            " |-- v115: float (nullable = true)\n",
            " |-- v116: float (nullable = true)\n",
            " |-- v117: float (nullable = true)\n",
            " |-- v118: float (nullable = true)\n",
            " |-- v119: float (nullable = true)\n",
            " |-- v120: float (nullable = true)\n",
            " |-- v121: float (nullable = true)\n",
            " |-- v122: float (nullable = true)\n",
            " |-- v123: float (nullable = true)\n",
            " |-- v124: float (nullable = true)\n",
            " |-- v125: float (nullable = true)\n",
            " |-- v126: float (nullable = true)\n",
            " |-- v127: float (nullable = true)\n",
            " |-- v128: float (nullable = true)\n",
            " |-- v129: float (nullable = true)\n",
            " |-- v130: float (nullable = true)\n",
            " |-- v131: float (nullable = true)\n",
            " |-- v132: float (nullable = true)\n",
            " |-- v133: float (nullable = true)\n",
            " |-- v134: float (nullable = true)\n",
            " |-- v135: float (nullable = true)\n",
            " |-- v136: float (nullable = true)\n",
            " |-- v137: float (nullable = true)\n",
            " |-- v138: float (nullable = true)\n",
            " |-- v139: float (nullable = true)\n",
            " |-- v140: float (nullable = true)\n",
            " |-- v141: float (nullable = true)\n",
            " |-- v142: float (nullable = true)\n",
            " |-- v143: float (nullable = true)\n",
            " |-- v144: float (nullable = true)\n",
            " |-- v145: float (nullable = true)\n",
            " |-- v146: float (nullable = true)\n",
            " |-- v147: float (nullable = true)\n",
            " |-- v148: float (nullable = true)\n",
            " |-- v149: float (nullable = true)\n",
            " |-- v150: float (nullable = true)\n",
            " |-- v151: float (nullable = true)\n",
            " |-- v152: float (nullable = true)\n",
            " |-- v153: float (nullable = true)\n",
            " |-- v154: float (nullable = true)\n",
            " |-- v155: float (nullable = true)\n",
            " |-- v156: float (nullable = true)\n",
            " |-- v157: float (nullable = true)\n",
            " |-- v158: float (nullable = true)\n",
            " |-- v159: float (nullable = true)\n",
            " |-- v160: float (nullable = true)\n",
            " |-- v161: float (nullable = true)\n",
            " |-- v162: float (nullable = true)\n",
            " |-- v163: float (nullable = true)\n",
            " |-- v164: float (nullable = true)\n",
            " |-- v165: float (nullable = true)\n",
            " |-- v166: float (nullable = true)\n",
            " |-- v167: float (nullable = true)\n",
            " |-- v168: float (nullable = true)\n",
            " |-- v169: float (nullable = true)\n",
            " |-- v170: float (nullable = true)\n",
            " |-- v171: float (nullable = true)\n",
            " |-- v172: float (nullable = true)\n",
            " |-- v173: float (nullable = true)\n",
            " |-- v174: float (nullable = true)\n",
            " |-- v175: float (nullable = true)\n",
            " |-- v176: float (nullable = true)\n",
            " |-- v177: float (nullable = true)\n",
            " |-- v178: float (nullable = true)\n",
            " |-- v179: float (nullable = true)\n",
            " |-- v180: float (nullable = true)\n",
            " |-- v181: float (nullable = true)\n",
            " |-- v182: float (nullable = true)\n",
            " |-- v183: float (nullable = true)\n",
            " |-- v184: float (nullable = true)\n",
            " |-- v185: float (nullable = true)\n",
            " |-- v186: float (nullable = true)\n",
            " |-- v187: float (nullable = true)\n",
            " |-- v188: float (nullable = true)\n",
            " |-- v189: float (nullable = true)\n",
            " |-- v190: float (nullable = true)\n",
            " |-- v191: float (nullable = true)\n",
            " |-- v192: float (nullable = true)\n",
            " |-- v193: float (nullable = true)\n",
            " |-- v194: float (nullable = true)\n",
            " |-- v195: float (nullable = true)\n",
            " |-- v196: float (nullable = true)\n",
            " |-- v197: float (nullable = true)\n",
            " |-- v198: float (nullable = true)\n",
            " |-- v199: float (nullable = true)\n",
            " |-- v200: float (nullable = true)\n",
            " |-- v201: float (nullable = true)\n",
            " |-- v202: float (nullable = true)\n",
            " |-- v203: float (nullable = true)\n",
            " |-- v204: float (nullable = true)\n",
            " |-- v205: float (nullable = true)\n",
            " |-- v206: float (nullable = true)\n",
            " |-- v207: float (nullable = true)\n",
            " |-- v208: float (nullable = true)\n",
            " |-- v209: float (nullable = true)\n",
            " |-- v210: float (nullable = true)\n",
            " |-- v211: float (nullable = true)\n",
            " |-- v212: float (nullable = true)\n",
            " |-- v213: float (nullable = true)\n",
            " |-- v214: float (nullable = true)\n",
            " |-- v215: float (nullable = true)\n",
            " |-- v216: float (nullable = true)\n",
            " |-- v217: float (nullable = true)\n",
            " |-- v218: float (nullable = true)\n",
            " |-- v219: float (nullable = true)\n",
            " |-- v220: float (nullable = true)\n",
            " |-- v221: float (nullable = true)\n",
            " |-- v222: float (nullable = true)\n",
            " |-- v223: float (nullable = true)\n",
            " |-- v224: float (nullable = true)\n",
            " |-- v225: float (nullable = true)\n",
            " |-- v226: float (nullable = true)\n",
            " |-- v227: float (nullable = true)\n",
            " |-- v228: float (nullable = true)\n",
            " |-- v229: float (nullable = true)\n",
            " |-- v230: float (nullable = true)\n",
            " |-- v231: float (nullable = true)\n",
            " |-- v232: float (nullable = true)\n",
            " |-- v233: float (nullable = true)\n",
            " |-- v234: float (nullable = true)\n",
            " |-- v235: float (nullable = true)\n",
            " |-- v236: float (nullable = true)\n",
            " |-- v237: float (nullable = true)\n",
            " |-- v238: float (nullable = true)\n",
            " |-- v239: float (nullable = true)\n",
            " |-- v240: float (nullable = true)\n",
            " |-- v241: float (nullable = true)\n",
            " |-- v242: float (nullable = true)\n",
            " |-- v243: float (nullable = true)\n",
            " |-- v244: float (nullable = true)\n",
            " |-- v245: float (nullable = true)\n",
            " |-- v246: float (nullable = true)\n",
            " |-- v247: float (nullable = true)\n",
            " |-- v248: float (nullable = true)\n",
            " |-- v249: float (nullable = true)\n",
            " |-- v250: float (nullable = true)\n",
            " |-- v251: float (nullable = true)\n",
            " |-- v252: float (nullable = true)\n",
            " |-- v253: float (nullable = true)\n",
            " |-- v254: float (nullable = true)\n",
            " |-- v255: float (nullable = true)\n",
            " |-- v256: float (nullable = true)\n",
            " |-- v257: float (nullable = true)\n",
            " |-- v258: float (nullable = true)\n",
            " |-- v259: float (nullable = true)\n",
            " |-- v260: float (nullable = true)\n",
            " |-- v261: float (nullable = true)\n",
            " |-- v262: float (nullable = true)\n",
            " |-- v263: float (nullable = true)\n",
            " |-- v264: float (nullable = true)\n",
            " |-- v265: float (nullable = true)\n",
            " |-- v266: float (nullable = true)\n",
            " |-- v267: float (nullable = true)\n",
            " |-- v268: float (nullable = true)\n",
            " |-- v269: float (nullable = true)\n",
            " |-- v270: float (nullable = true)\n",
            " |-- v271: float (nullable = true)\n",
            " |-- v272: float (nullable = true)\n",
            " |-- v273: float (nullable = true)\n",
            " |-- v274: float (nullable = true)\n",
            " |-- v275: float (nullable = true)\n",
            " |-- v276: float (nullable = true)\n",
            " |-- v277: float (nullable = true)\n",
            " |-- v278: float (nullable = true)\n",
            " |-- v279: float (nullable = true)\n",
            " |-- v280: float (nullable = true)\n",
            " |-- v281: float (nullable = true)\n",
            " |-- v282: float (nullable = true)\n",
            " |-- v283: float (nullable = true)\n",
            " |-- v284: float (nullable = true)\n",
            " |-- v285: float (nullable = true)\n",
            " |-- v286: float (nullable = true)\n",
            " |-- v287: float (nullable = true)\n",
            " |-- v288: float (nullable = true)\n",
            " |-- v289: float (nullable = true)\n",
            " |-- v290: float (nullable = true)\n",
            " |-- v291: float (nullable = true)\n",
            " |-- v292: float (nullable = true)\n",
            " |-- v293: float (nullable = true)\n",
            " |-- v294: float (nullable = true)\n",
            " |-- v295: float (nullable = true)\n",
            " |-- v296: float (nullable = true)\n",
            " |-- v297: float (nullable = true)\n",
            " |-- v298: float (nullable = true)\n",
            " |-- v299: float (nullable = true)\n",
            " |-- v300: float (nullable = true)\n",
            " |-- v301: float (nullable = true)\n",
            " |-- v302: float (nullable = true)\n",
            " |-- v303: float (nullable = true)\n",
            " |-- v304: float (nullable = true)\n",
            " |-- v305: float (nullable = true)\n",
            " |-- v306: float (nullable = true)\n",
            " |-- v307: float (nullable = true)\n",
            " |-- v308: float (nullable = true)\n",
            " |-- v309: float (nullable = true)\n",
            " |-- v310: float (nullable = true)\n",
            " |-- v311: float (nullable = true)\n",
            " |-- v312: float (nullable = true)\n",
            " |-- v313: float (nullable = true)\n",
            " |-- v314: float (nullable = true)\n",
            " |-- v315: float (nullable = true)\n",
            " |-- v316: float (nullable = true)\n",
            " |-- v317: float (nullable = true)\n",
            " |-- v318: float (nullable = true)\n",
            " |-- v319: float (nullable = true)\n",
            " |-- v320: float (nullable = true)\n",
            " |-- v321: float (nullable = true)\n",
            " |-- v322: float (nullable = true)\n",
            " |-- v323: float (nullable = true)\n",
            " |-- v324: float (nullable = true)\n",
            " |-- v325: float (nullable = true)\n",
            " |-- v326: float (nullable = true)\n",
            " |-- v327: float (nullable = true)\n",
            " |-- v328: float (nullable = true)\n",
            " |-- v329: float (nullable = true)\n",
            " |-- v330: float (nullable = true)\n",
            " |-- v331: float (nullable = true)\n",
            " |-- v332: float (nullable = true)\n",
            " |-- v333: float (nullable = true)\n",
            " |-- v334: float (nullable = true)\n",
            " |-- v335: float (nullable = true)\n",
            " |-- v336: float (nullable = true)\n",
            " |-- v337: float (nullable = true)\n",
            " |-- v338: float (nullable = true)\n",
            " |-- v339: float (nullable = true)\n",
            " |-- v340: float (nullable = true)\n",
            " |-- v341: float (nullable = true)\n",
            " |-- v342: float (nullable = true)\n",
            " |-- v343: float (nullable = true)\n",
            " |-- v344: float (nullable = true)\n",
            " |-- v345: float (nullable = true)\n",
            " |-- v346: float (nullable = true)\n",
            " |-- v347: float (nullable = true)\n",
            " |-- v348: float (nullable = true)\n",
            " |-- v349: float (nullable = true)\n",
            " |-- v350: float (nullable = true)\n",
            " |-- v351: float (nullable = true)\n",
            " |-- v352: float (nullable = true)\n",
            " |-- v353: float (nullable = true)\n",
            " |-- v354: float (nullable = true)\n",
            " |-- v355: float (nullable = true)\n",
            " |-- v356: float (nullable = true)\n",
            " |-- v357: float (nullable = true)\n",
            " |-- v358: float (nullable = true)\n",
            " |-- v359: float (nullable = true)\n",
            " |-- v360: float (nullable = true)\n",
            " |-- v361: float (nullable = true)\n",
            " |-- v362: float (nullable = true)\n",
            " |-- v363: float (nullable = true)\n",
            " |-- v364: float (nullable = true)\n",
            " |-- v365: float (nullable = true)\n",
            " |-- v366: float (nullable = true)\n",
            " |-- v367: float (nullable = true)\n",
            " |-- v368: float (nullable = true)\n",
            " |-- v369: float (nullable = true)\n",
            " |-- v370: float (nullable = true)\n",
            " |-- v371: float (nullable = true)\n",
            " |-- v372: float (nullable = true)\n",
            " |-- v373: float (nullable = true)\n",
            " |-- v374: float (nullable = true)\n",
            " |-- v375: float (nullable = true)\n",
            " |-- v376: float (nullable = true)\n",
            " |-- v377: float (nullable = true)\n",
            " |-- v378: float (nullable = true)\n",
            " |-- v379: float (nullable = true)\n",
            " |-- v380: float (nullable = true)\n",
            " |-- v381: float (nullable = true)\n",
            " |-- v382: float (nullable = true)\n",
            " |-- v383: float (nullable = true)\n",
            " |-- v384: float (nullable = true)\n",
            " |-- v385: float (nullable = true)\n",
            " |-- v386: float (nullable = true)\n",
            " |-- v387: float (nullable = true)\n",
            " |-- v388: float (nullable = true)\n",
            " |-- v389: float (nullable = true)\n",
            " |-- v390: float (nullable = true)\n",
            " |-- v391: float (nullable = true)\n",
            " |-- v392: float (nullable = true)\n",
            " |-- v393: float (nullable = true)\n",
            " |-- v394: float (nullable = true)\n",
            " |-- v395: float (nullable = true)\n",
            " |-- v396: float (nullable = true)\n",
            " |-- v397: float (nullable = true)\n",
            " |-- v398: float (nullable = true)\n",
            " |-- v399: float (nullable = true)\n",
            " |-- v400: float (nullable = true)\n",
            " |-- v401: float (nullable = true)\n",
            " |-- v402: float (nullable = true)\n",
            " |-- v403: float (nullable = true)\n",
            " |-- v404: float (nullable = true)\n",
            " |-- v405: float (nullable = true)\n",
            " |-- v406: float (nullable = true)\n",
            " |-- v407: float (nullable = true)\n",
            " |-- v408: float (nullable = true)\n",
            " |-- v409: float (nullable = true)\n",
            " |-- v410: float (nullable = true)\n",
            " |-- v411: float (nullable = true)\n",
            " |-- v412: float (nullable = true)\n",
            " |-- v413: float (nullable = true)\n",
            " |-- v414: float (nullable = true)\n",
            " |-- v415: float (nullable = true)\n",
            " |-- v416: float (nullable = true)\n",
            " |-- v417: float (nullable = true)\n",
            " |-- v418: float (nullable = true)\n",
            " |-- v419: float (nullable = true)\n",
            " |-- v420: float (nullable = true)\n",
            " |-- v421: float (nullable = true)\n",
            " |-- v422: float (nullable = true)\n",
            " |-- v423: float (nullable = true)\n",
            " |-- v424: float (nullable = true)\n",
            " |-- v425: float (nullable = true)\n",
            " |-- v426: float (nullable = true)\n",
            " |-- v427: float (nullable = true)\n",
            " |-- v428: float (nullable = true)\n",
            " |-- v429: float (nullable = true)\n",
            " |-- v430: float (nullable = true)\n",
            " |-- v431: float (nullable = true)\n",
            " |-- v432: float (nullable = true)\n",
            " |-- v433: float (nullable = true)\n",
            " |-- v434: float (nullable = true)\n",
            " |-- v435: float (nullable = true)\n",
            " |-- v436: float (nullable = true)\n",
            " |-- v437: float (nullable = true)\n",
            " |-- v438: float (nullable = true)\n",
            " |-- v439: float (nullable = true)\n",
            " |-- v440: float (nullable = true)\n",
            " |-- v441: float (nullable = true)\n",
            " |-- v442: float (nullable = true)\n",
            " |-- v443: float (nullable = true)\n",
            " |-- v444: float (nullable = true)\n",
            " |-- v445: float (nullable = true)\n",
            " |-- v446: float (nullable = true)\n",
            " |-- v447: float (nullable = true)\n",
            " |-- v448: float (nullable = true)\n",
            " |-- v449: float (nullable = true)\n",
            " |-- v450: float (nullable = true)\n",
            " |-- v451: float (nullable = true)\n",
            " |-- v452: float (nullable = true)\n",
            " |-- v453: float (nullable = true)\n",
            " |-- v454: float (nullable = true)\n",
            " |-- v455: float (nullable = true)\n",
            " |-- v456: float (nullable = true)\n",
            " |-- v457: float (nullable = true)\n",
            " |-- v458: float (nullable = true)\n",
            " |-- v459: float (nullable = true)\n",
            " |-- v460: float (nullable = true)\n",
            " |-- v461: float (nullable = true)\n",
            " |-- v462: float (nullable = true)\n",
            " |-- v463: float (nullable = true)\n",
            " |-- v464: float (nullable = true)\n",
            " |-- v465: float (nullable = true)\n",
            " |-- v466: float (nullable = true)\n",
            " |-- v467: float (nullable = true)\n",
            " |-- v468: float (nullable = true)\n",
            " |-- v469: float (nullable = true)\n",
            " |-- v470: float (nullable = true)\n",
            " |-- v471: float (nullable = true)\n",
            " |-- v472: float (nullable = true)\n",
            " |-- v473: float (nullable = true)\n",
            " |-- v474: float (nullable = true)\n",
            " |-- v475: float (nullable = true)\n",
            " |-- v476: float (nullable = true)\n",
            " |-- v477: float (nullable = true)\n",
            " |-- v478: float (nullable = true)\n",
            " |-- v479: float (nullable = true)\n",
            " |-- v480: float (nullable = true)\n",
            " |-- v481: float (nullable = true)\n",
            " |-- v482: float (nullable = true)\n",
            " |-- v483: float (nullable = true)\n",
            " |-- v484: float (nullable = true)\n",
            " |-- v485: float (nullable = true)\n",
            " |-- v486: float (nullable = true)\n",
            " |-- v487: float (nullable = true)\n",
            " |-- v488: float (nullable = true)\n",
            " |-- v489: float (nullable = true)\n",
            " |-- v490: float (nullable = true)\n",
            " |-- v491: float (nullable = true)\n",
            " |-- v492: float (nullable = true)\n",
            " |-- v493: float (nullable = true)\n",
            " |-- v494: float (nullable = true)\n",
            " |-- v495: float (nullable = true)\n",
            " |-- v496: float (nullable = true)\n",
            " |-- v497: float (nullable = true)\n",
            " |-- v498: float (nullable = true)\n",
            " |-- v499: float (nullable = true)\n",
            " |-- v500: float (nullable = true)\n",
            " |-- v501: float (nullable = true)\n",
            " |-- v502: float (nullable = true)\n",
            " |-- v503: float (nullable = true)\n",
            " |-- v504: float (nullable = true)\n",
            " |-- v505: float (nullable = true)\n",
            " |-- v506: float (nullable = true)\n",
            " |-- v507: float (nullable = true)\n",
            " |-- v508: float (nullable = true)\n",
            " |-- v509: float (nullable = true)\n",
            " |-- v510: float (nullable = true)\n",
            " |-- v511: float (nullable = true)\n",
            " |-- v512: float (nullable = true)\n",
            " |-- glasses: float (nullable = true)\n",
            "\n"
          ]
        }
      ]
    },
    {
      "cell_type": "code",
      "metadata": {
        "colab": {
          "base_uri": "https://localhost:8080/"
        },
        "id": "16eBF-9mdGN0",
        "outputId": "e57e2953-9e26-4012-e29c-e85b4ab20c15"
      },
      "source": [
        "from pyspark.sql.functions import isnan, when, count, col\n",
        "df_pyspark.select([count(when(isnan(c) | col(c).isNull(), c)).alias(c) for c in df_pyspark.columns]).show()"
      ],
      "execution_count": null,
      "outputs": [
        {
          "name": "stdout",
          "output_type": "stream",
          "text": [
            "+---+---+---+---+---+---+---+---+---+---+---+---+---+---+---+---+---+---+---+---+---+---+---+---+---+---+---+---+---+---+---+---+---+---+---+---+---+---+---+---+---+---+---+---+---+---+---+---+---+---+---+---+---+---+---+---+---+---+---+---+---+---+---+---+---+---+---+---+---+---+---+---+---+---+---+---+---+---+---+---+---+---+---+---+---+---+---+---+---+---+---+---+---+---+---+---+---+---+---+---+----+----+----+----+----+----+----+----+----+----+----+----+----+----+----+----+----+----+----+----+----+----+----+----+----+----+----+----+----+----+----+----+----+----+----+----+----+----+----+----+----+----+----+----+----+----+----+----+----+----+----+----+----+----+----+----+----+----+----+----+----+----+----+----+----+----+----+----+----+----+----+----+----+----+----+----+----+----+----+----+----+----+----+----+----+----+----+----+----+----+----+----+----+----+----+----+----+----+----+----+----+----+----+----+----+----+----+----+----+----+----+----+----+----+----+----+----+----+----+----+----+----+----+----+----+----+----+----+----+----+----+----+----+----+----+----+----+----+----+----+----+----+----+----+----+----+----+----+----+----+----+----+----+----+----+----+----+----+----+----+----+----+----+----+----+----+----+----+----+----+----+----+----+----+----+----+----+----+----+----+----+----+----+----+----+----+----+----+----+----+----+----+----+----+----+----+----+----+----+----+----+----+----+----+----+----+----+----+----+----+----+----+----+----+----+----+----+----+----+----+----+----+----+----+----+----+----+----+----+----+----+----+----+----+----+----+----+----+----+----+----+----+----+----+----+----+----+----+----+----+----+----+----+----+----+----+----+----+----+----+----+----+----+----+----+----+----+----+----+----+----+----+----+----+----+----+----+----+----+----+----+----+----+----+----+----+----+----+----+----+----+----+----+----+----+----+----+----+----+----+----+----+----+----+----+----+----+----+----+----+----+----+----+----+----+----+----+----+----+----+----+----+----+----+----+----+----+----+----+----+----+----+----+----+----+----+----+----+----+----+----+----+----+----+----+----+----+----+----+----+----+----+----+----+----+----+----+----+----+----+----+----+----+----+----+----+----+----+----+----+----+----+----+----+----+----+----+----+----+----+----+----+----+----+----+----+----+----+----+----+----+----+----+----+----+----+----+----+----+----+----+----+----+----+----+----+----+----+----+----+----+----+----+-------+\n",
            "| id| v1| v2| v3| v4| v5| v6| v7| v8| v9|v10|v11|v12|v13|v14|v15|v16|v17|v18|v19|v20|v21|v22|v23|v24|v25|v26|v27|v28|v29|v30|v31|v32|v33|v34|v35|v36|v37|v38|v39|v40|v41|v42|v43|v44|v45|v46|v47|v48|v49|v50|v51|v52|v53|v54|v55|v56|v57|v58|v59|v60|v61|v62|v63|v64|v65|v66|v67|v68|v69|v70|v71|v72|v73|v74|v75|v76|v77|v78|v79|v80|v81|v82|v83|v84|v85|v86|v87|v88|v89|v90|v91|v92|v93|v94|v95|v96|v97|v98|v99|v100|v101|v102|v103|v104|v105|v106|v107|v108|v109|v110|v111|v112|v113|v114|v115|v116|v117|v118|v119|v120|v121|v122|v123|v124|v125|v126|v127|v128|v129|v130|v131|v132|v133|v134|v135|v136|v137|v138|v139|v140|v141|v142|v143|v144|v145|v146|v147|v148|v149|v150|v151|v152|v153|v154|v155|v156|v157|v158|v159|v160|v161|v162|v163|v164|v165|v166|v167|v168|v169|v170|v171|v172|v173|v174|v175|v176|v177|v178|v179|v180|v181|v182|v183|v184|v185|v186|v187|v188|v189|v190|v191|v192|v193|v194|v195|v196|v197|v198|v199|v200|v201|v202|v203|v204|v205|v206|v207|v208|v209|v210|v211|v212|v213|v214|v215|v216|v217|v218|v219|v220|v221|v222|v223|v224|v225|v226|v227|v228|v229|v230|v231|v232|v233|v234|v235|v236|v237|v238|v239|v240|v241|v242|v243|v244|v245|v246|v247|v248|v249|v250|v251|v252|v253|v254|v255|v256|v257|v258|v259|v260|v261|v262|v263|v264|v265|v266|v267|v268|v269|v270|v271|v272|v273|v274|v275|v276|v277|v278|v279|v280|v281|v282|v283|v284|v285|v286|v287|v288|v289|v290|v291|v292|v293|v294|v295|v296|v297|v298|v299|v300|v301|v302|v303|v304|v305|v306|v307|v308|v309|v310|v311|v312|v313|v314|v315|v316|v317|v318|v319|v320|v321|v322|v323|v324|v325|v326|v327|v328|v329|v330|v331|v332|v333|v334|v335|v336|v337|v338|v339|v340|v341|v342|v343|v344|v345|v346|v347|v348|v349|v350|v351|v352|v353|v354|v355|v356|v357|v358|v359|v360|v361|v362|v363|v364|v365|v366|v367|v368|v369|v370|v371|v372|v373|v374|v375|v376|v377|v378|v379|v380|v381|v382|v383|v384|v385|v386|v387|v388|v389|v390|v391|v392|v393|v394|v395|v396|v397|v398|v399|v400|v401|v402|v403|v404|v405|v406|v407|v408|v409|v410|v411|v412|v413|v414|v415|v416|v417|v418|v419|v420|v421|v422|v423|v424|v425|v426|v427|v428|v429|v430|v431|v432|v433|v434|v435|v436|v437|v438|v439|v440|v441|v442|v443|v444|v445|v446|v447|v448|v449|v450|v451|v452|v453|v454|v455|v456|v457|v458|v459|v460|v461|v462|v463|v464|v465|v466|v467|v468|v469|v470|v471|v472|v473|v474|v475|v476|v477|v478|v479|v480|v481|v482|v483|v484|v485|v486|v487|v488|v489|v490|v491|v492|v493|v494|v495|v496|v497|v498|v499|v500|v501|v502|v503|v504|v505|v506|v507|v508|v509|v510|v511|v512|glasses|\n",
            "+---+---+---+---+---+---+---+---+---+---+---+---+---+---+---+---+---+---+---+---+---+---+---+---+---+---+---+---+---+---+---+---+---+---+---+---+---+---+---+---+---+---+---+---+---+---+---+---+---+---+---+---+---+---+---+---+---+---+---+---+---+---+---+---+---+---+---+---+---+---+---+---+---+---+---+---+---+---+---+---+---+---+---+---+---+---+---+---+---+---+---+---+---+---+---+---+---+---+---+---+----+----+----+----+----+----+----+----+----+----+----+----+----+----+----+----+----+----+----+----+----+----+----+----+----+----+----+----+----+----+----+----+----+----+----+----+----+----+----+----+----+----+----+----+----+----+----+----+----+----+----+----+----+----+----+----+----+----+----+----+----+----+----+----+----+----+----+----+----+----+----+----+----+----+----+----+----+----+----+----+----+----+----+----+----+----+----+----+----+----+----+----+----+----+----+----+----+----+----+----+----+----+----+----+----+----+----+----+----+----+----+----+----+----+----+----+----+----+----+----+----+----+----+----+----+----+----+----+----+----+----+----+----+----+----+----+----+----+----+----+----+----+----+----+----+----+----+----+----+----+----+----+----+----+----+----+----+----+----+----+----+----+----+----+----+----+----+----+----+----+----+----+----+----+----+----+----+----+----+----+----+----+----+----+----+----+----+----+----+----+----+----+----+----+----+----+----+----+----+----+----+----+----+----+----+----+----+----+----+----+----+----+----+----+----+----+----+----+----+----+----+----+----+----+----+----+----+----+----+----+----+----+----+----+----+----+----+----+----+----+----+----+----+----+----+----+----+----+----+----+----+----+----+----+----+----+----+----+----+----+----+----+----+----+----+----+----+----+----+----+----+----+----+----+----+----+----+----+----+----+----+----+----+----+----+----+----+----+----+----+----+----+----+----+----+----+----+----+----+----+----+----+----+----+----+----+----+----+----+----+----+----+----+----+----+----+----+----+----+----+----+----+----+----+----+----+----+----+----+----+----+----+----+----+----+----+----+----+----+----+----+----+----+----+----+----+----+----+----+----+----+----+----+----+----+----+----+----+----+----+----+----+----+----+----+----+----+----+----+----+----+----+----+----+----+----+----+----+----+----+----+----+----+----+----+----+----+----+----+----+----+----+----+----+----+----+----+----+----+----+----+----+----+----+----+----+----+----+----+----+----+----+----+-------+\n",
            "|  0|  0|  0|  0|  0|  0|  0|  0|  0|  0|  0|  0|  0|  0|  0|  0|  0|  0|  0|  0|  0|  0|  0|  0|  0|  0|  0|  0|  0|  0|  0|  0|  0|  0|  0|  0|  0|  0|  0|  0|  0|  0|  0|  0|  0|  0|  0|  0|  0|  0|  0|  0|  0|  0|  0|  0|  0|  0|  0|  0|  0|  0|  0|  0|  0|  0|  0|  0|  0|  0|  0|  0|  0|  0|  0|  0|  0|  0|  0|  0|  0|  0|  0|  0|  0|  0|  0|  0|  0|  0|  0|  0|  0|  0|  0|  0|  0|  0|  0|  0|   0|   0|   0|   0|   0|   0|   0|   0|   0|   0|   0|   0|   0|   0|   0|   0|   0|   0|   0|   0|   0|   0|   0|   0|   0|   0|   0|   0|   0|   0|   0|   0|   0|   0|   0|   0|   0|   0|   0|   0|   0|   0|   0|   0|   0|   0|   0|   0|   0|   0|   0|   0|   0|   0|   0|   0|   0|   0|   0|   0|   0|   0|   0|   0|   0|   0|   0|   0|   0|   0|   0|   0|   0|   0|   0|   0|   0|   0|   0|   0|   0|   0|   0|   0|   0|   0|   0|   0|   0|   0|   0|   0|   0|   0|   0|   0|   0|   0|   0|   0|   0|   0|   0|   0|   0|   0|   0|   0|   0|   0|   0|   0|   0|   0|   0|   0|   0|   0|   0|   0|   0|   0|   0|   0|   0|   0|   0|   0|   0|   0|   0|   0|   0|   0|   0|   0|   0|   0|   0|   0|   0|   0|   0|   0|   0|   0|   0|   0|   0|   0|   0|   0|   0|   0|   0|   0|   0|   0|   0|   0|   0|   0|   0|   0|   0|   0|   0|   0|   0|   0|   0|   0|   0|   0|   0|   0|   0|   0|   0|   0|   0|   0|   0|   0|   0|   0|   0|   0|   0|   0|   0|   0|   0|   0|   0|   0|   0|   0|   0|   0|   0|   0|   0|   0|   0|   0|   0|   0|   0|   0|   0|   0|   0|   0|   0|   0|   0|   0|   0|   0|   0|   0|   0|   0|   0|   0|   0|   0|   0|   0|   0|   0|   0|   0|   0|   0|   0|   0|   0|   0|   0|   0|   0|   0|   0|   0|   0|   0|   0|   0|   0|   0|   0|   0|   0|   0|   0|   0|   0|   0|   0|   0|   0|   0|   0|   0|   0|   0|   0|   0|   0|   0|   0|   0|   0|   0|   0|   0|   0|   0|   0|   0|   0|   0|   0|   0|   0|   0|   0|   0|   0|   0|   0|   0|   0|   0|   0|   0|   0|   0|   0|   0|   0|   0|   0|   0|   0|   0|   0|   0|   0|   0|   0|   0|   0|   0|   0|   0|   0|   0|   0|   0|   0|   0|   0|   0|   0|   0|   0|   0|   0|   0|   0|   0|   0|   0|   0|   0|   0|   0|   0|   0|   0|   0|   0|   0|   0|   0|   0|   0|   0|   0|   0|   0|   0|   0|   0|   0|   0|   0|   0|   0|   0|   0|   0|   0|   0|   0|   0|   0|   0|   0|   0|   0|   0|   0|   0|   0|   0|   0|   0|   0|   0|   0|   0|   0|   0|   0|   0|   0|   0|   0|   0|   0|   0|   0|   0|   0|   0|   0|   0|   0|   0|   0|   0|   0|   0|   0|   0|   0|   0|   0|   0|      0|\n",
            "+---+---+---+---+---+---+---+---+---+---+---+---+---+---+---+---+---+---+---+---+---+---+---+---+---+---+---+---+---+---+---+---+---+---+---+---+---+---+---+---+---+---+---+---+---+---+---+---+---+---+---+---+---+---+---+---+---+---+---+---+---+---+---+---+---+---+---+---+---+---+---+---+---+---+---+---+---+---+---+---+---+---+---+---+---+---+---+---+---+---+---+---+---+---+---+---+---+---+---+---+----+----+----+----+----+----+----+----+----+----+----+----+----+----+----+----+----+----+----+----+----+----+----+----+----+----+----+----+----+----+----+----+----+----+----+----+----+----+----+----+----+----+----+----+----+----+----+----+----+----+----+----+----+----+----+----+----+----+----+----+----+----+----+----+----+----+----+----+----+----+----+----+----+----+----+----+----+----+----+----+----+----+----+----+----+----+----+----+----+----+----+----+----+----+----+----+----+----+----+----+----+----+----+----+----+----+----+----+----+----+----+----+----+----+----+----+----+----+----+----+----+----+----+----+----+----+----+----+----+----+----+----+----+----+----+----+----+----+----+----+----+----+----+----+----+----+----+----+----+----+----+----+----+----+----+----+----+----+----+----+----+----+----+----+----+----+----+----+----+----+----+----+----+----+----+----+----+----+----+----+----+----+----+----+----+----+----+----+----+----+----+----+----+----+----+----+----+----+----+----+----+----+----+----+----+----+----+----+----+----+----+----+----+----+----+----+----+----+----+----+----+----+----+----+----+----+----+----+----+----+----+----+----+----+----+----+----+----+----+----+----+----+----+----+----+----+----+----+----+----+----+----+----+----+----+----+----+----+----+----+----+----+----+----+----+----+----+----+----+----+----+----+----+----+----+----+----+----+----+----+----+----+----+----+----+----+----+----+----+----+----+----+----+----+----+----+----+----+----+----+----+----+----+----+----+----+----+----+----+----+----+----+----+----+----+----+----+----+----+----+----+----+----+----+----+----+----+----+----+----+----+----+----+----+----+----+----+----+----+----+----+----+----+----+----+----+----+----+----+----+----+----+----+----+----+----+----+----+----+----+----+----+----+----+----+----+----+----+----+----+----+----+----+----+----+----+----+----+----+----+----+----+----+----+----+----+----+----+----+----+----+----+----+----+----+----+----+----+----+----+----+----+----+----+----+----+----+----+----+----+----+----+----+-------+\n",
            "\n"
          ]
        }
      ]
    },
    {
      "cell_type": "markdown",
      "metadata": {
        "id": "pgsgObUkc11t"
      },
      "source": [
        "\n",
        "\n",
        "*     Combine all feature columns into a single feature vector\n",
        "\n",
        "\n",
        "\n"
      ]
    },
    {
      "cell_type": "code",
      "metadata": {
        "colab": {
          "base_uri": "https://localhost:8080/"
        },
        "id": "FdP3o6nHf9_M",
        "outputId": "a54ad680-b73b-4ac8-e3ad-b176c4ec1eef"
      },
      "source": [
        "cols=df_pyspark.columns\n",
        "cols.remove('glasses') \n",
        "cols.remove('id')\n",
        "assembler = VectorAssembler(inputCols=cols,outputCol='features')\n",
        "data = assembler.transform(df_pyspark)\n",
        "data.select('features', 'glasses').show() #we can apply truncate=False to see all features"
      ],
      "execution_count": null,
      "outputs": [
        {
          "name": "stdout",
          "output_type": "stream",
          "text": [
            "+--------------------+-------+\n",
            "|            features|glasses|\n",
            "+--------------------+-------+\n",
            "|[0.37797001004219...|    0.0|\n",
            "|[0.07609000056982...|    1.0|\n",
            "|[1.19391000270843...|    1.0|\n",
            "|[1.34949004650115...|    0.0|\n",
            "|[-0.0351199992001...|    0.0|\n",
            "|[-0.4617699980735...|    1.0|\n",
            "|[-0.4787899851799...|    1.0|\n",
            "|[-0.2777999937534...|    1.0|\n",
            "|[0.15765999257564...|    0.0|\n",
            "|[0.57302999496459...|    1.0|\n",
            "|[-0.4857900142669...|    0.0|\n",
            "|[-0.0151599999517...|    1.0|\n",
            "|[0.39533999562263...|    0.0|\n",
            "|[1.67018997669219...|    1.0|\n",
            "|[0.56269997358322...|    1.0|\n",
            "|[0.41036000847816...|    0.0|\n",
            "|[0.25106000900268...|    1.0|\n",
            "|[-0.1004000008106...|    0.0|\n",
            "|[1.44832003116607...|    1.0|\n",
            "|[1.03922998905181...|    0.0|\n",
            "+--------------------+-------+\n",
            "only showing top 20 rows\n",
            "\n"
          ]
        }
      ]
    },
    {
      "cell_type": "code",
      "metadata": {
        "id": "day2AQNlf-Jw"
      },
      "source": [
        "standardscaler = StandardScaler(inputCol=\"features\", outputCol=\"features_scaled\")\n",
        "data=standardscaler.fit(data).transform(data)"
      ],
      "execution_count": null,
      "outputs": []
    },
    {
      "cell_type": "code",
      "metadata": {
        "colab": {
          "base_uri": "https://localhost:8080/"
        },
        "id": "Qk3CTu8fFdv9",
        "outputId": "06bd951f-32f9-4bdf-d444-f005d3e2247b"
      },
      "source": [
        "data.select(\"features\", \"glasses\", \"features_scaled\").show()"
      ],
      "execution_count": null,
      "outputs": [
        {
          "name": "stdout",
          "output_type": "stream",
          "text": [
            "+--------------------+-------+--------------------+\n",
            "|            features|glasses|     features_scaled|\n",
            "+--------------------+-------+--------------------+\n",
            "|[0.37797001004219...|    0.0|[0.49099010762590...|\n",
            "|[0.07609000056982...|    1.0|[0.09884233292705...|\n",
            "|[1.19391000270843...|    1.0|[1.55091140871210...|\n",
            "|[1.34949004650115...|    0.0|[1.75301279352225...|\n",
            "|[-0.0351199992001...|    0.0|[-0.0456215353836...|\n",
            "|[-0.4617699980735...|    1.0|[-0.5998478583717...|\n",
            "|[-0.4787899851799...|    1.0|[-0.6219571397409...|\n",
            "|[-0.2777999937534...|    1.0|[-0.3608673842039...|\n",
            "|[0.15765999257564...|    0.0|[0.20480327715517...|\n",
            "|[0.57302999496459...|    1.0|[0.74437667387720...|\n",
            "|[-0.4857900142669...|    0.0|[-0.6310503083615...|\n",
            "|[-0.0151599999517...|    1.0|[-0.0196931232905...|\n",
            "|[0.39533999562263...|    0.0|[0.51355404355471...|\n",
            "|[1.67018997669219...|    1.0|[2.16960799699498...|\n",
            "|[0.56269997358322...|    1.0|[0.73095778302591...|\n",
            "|[0.41036000847816...|    0.0|[0.53306532099086...|\n",
            "|[0.25106000900268...|    1.0|[0.32613164421968...|\n",
            "|[-0.1004000008106...|    0.0|[-0.1304214776144...|\n",
            "|[1.44832003116607...|    1.0|[1.88139479081848...|\n",
            "|[1.03922998905181...|    0.0|[1.34997917987108...|\n",
            "+--------------------+-------+--------------------+\n",
            "only showing top 20 rows\n",
            "\n"
          ]
        }
      ]
    },
    {
      "cell_type": "code",
      "metadata": {
        "colab": {
          "base_uri": "https://localhost:8080/"
        },
        "id": "9frY9GJgf-P9",
        "outputId": "3f5c3ae9-5d2b-4e6e-f32b-8c20e9003b11"
      },
      "source": [
        "assembled_data = data.select(\"features_scaled\", \"glasses\")\n",
        "assembled_data.show()\n"
      ],
      "execution_count": null,
      "outputs": [
        {
          "name": "stdout",
          "output_type": "stream",
          "text": [
            "+--------------------+-------+\n",
            "|     features_scaled|glasses|\n",
            "+--------------------+-------+\n",
            "|[0.49099010762590...|    0.0|\n",
            "|[0.09884233292705...|    1.0|\n",
            "|[1.55091140871210...|    1.0|\n",
            "|[1.75301279352225...|    0.0|\n",
            "|[-0.0456215353836...|    0.0|\n",
            "|[-0.5998478583717...|    1.0|\n",
            "|[-0.6219571397409...|    1.0|\n",
            "|[-0.3608673842039...|    1.0|\n",
            "|[0.20480327715517...|    0.0|\n",
            "|[0.74437667387720...|    1.0|\n",
            "|[-0.6310503083615...|    0.0|\n",
            "|[-0.0196931232905...|    1.0|\n",
            "|[0.51355404355471...|    0.0|\n",
            "|[2.16960799699498...|    1.0|\n",
            "|[0.73095778302591...|    1.0|\n",
            "|[0.53306532099086...|    0.0|\n",
            "|[0.32613164421968...|    1.0|\n",
            "|[-0.1304214776144...|    0.0|\n",
            "|[1.88139479081848...|    1.0|\n",
            "|[1.34997917987108...|    0.0|\n",
            "+--------------------+-------+\n",
            "only showing top 20 rows\n",
            "\n"
          ]
        }
      ]
    },
    {
      "cell_type": "code",
      "metadata": {
        "colab": {
          "base_uri": "https://localhost:8080/"
        },
        "id": "oQsIWLvEgoKD",
        "outputId": "102131cd-0202-48d2-b5a9-91134496a49a"
      },
      "source": [
        "assembled_data = assembled_data.withColumnRenamed(\"features_scaled\",\"features\")\n",
        "assembled_data = assembled_data.withColumnRenamed(\"glasses\",\"label\")\n",
        "assembled_data.show()"
      ],
      "execution_count": null,
      "outputs": [
        {
          "name": "stdout",
          "output_type": "stream",
          "text": [
            "+--------------------+-----+\n",
            "|            features|label|\n",
            "+--------------------+-----+\n",
            "|[0.49099010762590...|  0.0|\n",
            "|[0.09884233292705...|  1.0|\n",
            "|[1.55091140871210...|  1.0|\n",
            "|[1.75301279352225...|  0.0|\n",
            "|[-0.0456215353836...|  0.0|\n",
            "|[-0.5998478583717...|  1.0|\n",
            "|[-0.6219571397409...|  1.0|\n",
            "|[-0.3608673842039...|  1.0|\n",
            "|[0.20480327715517...|  0.0|\n",
            "|[0.74437667387720...|  1.0|\n",
            "|[-0.6310503083615...|  0.0|\n",
            "|[-0.0196931232905...|  1.0|\n",
            "|[0.51355404355471...|  0.0|\n",
            "|[2.16960799699498...|  1.0|\n",
            "|[0.73095778302591...|  1.0|\n",
            "|[0.53306532099086...|  0.0|\n",
            "|[0.32613164421968...|  1.0|\n",
            "|[-0.1304214776144...|  0.0|\n",
            "|[1.88139479081848...|  1.0|\n",
            "|[1.34997917987108...|  0.0|\n",
            "+--------------------+-----+\n",
            "only showing top 20 rows\n",
            "\n"
          ]
        }
      ]
    },
    {
      "cell_type": "code",
      "metadata": {
        "id": "tfZDT3VrME_T"
      },
      "source": [
        "# Split the data into train and test\n",
        "splits =assembled_data.randomSplit([0.7, 0.3], 1234)\n",
        "train = splits[0]\n",
        "test = splits[1]"
      ],
      "execution_count": null,
      "outputs": []
    },
    {
      "cell_type": "code",
      "metadata": {
        "colab": {
          "base_uri": "https://localhost:8080/"
        },
        "id": "tk9uVRSk-vcn",
        "outputId": "19d7dbb0-a9bb-4878-8d8d-cf9089acc458"
      },
      "source": [
        "train.count()"
      ],
      "execution_count": null,
      "outputs": [
        {
          "data": {
            "text/plain": [
              "3215"
            ]
          },
          "execution_count": 27,
          "metadata": {},
          "output_type": "execute_result"
        }
      ]
    },
    {
      "cell_type": "markdown",
      "metadata": {
        "id": "2ZlrsGVvvErN"
      },
      "source": [
        "#Model I\n",
        "\n",
        "\n",
        "*   HyperParameter Tuning (ParamGrid)\n",
        "*   Cross Validation\n",
        "*   Prediction\n",
        "\n",
        "\n",
        "\n",
        "\n"
      ]
    },
    {
      "cell_type": "code",
      "metadata": {
        "id": "iQBSVRNiiGG2"
      },
      "source": [
        "## Parameter Grid\n",
        "layers = [512,256,128,2]\n",
        "mlp = MultilayerPerceptronClassifier(layers = layers, seed = 1)\n",
        "paramGrid_mlp = ParamGridBuilder() \\\n",
        "    .addGrid(mlp.blockSize, {64,128,256}) \\\n",
        "    .addGrid(mlp.maxIter, {50,100,150}) \\\n",
        "    .build()"
      ],
      "execution_count": 56,
      "outputs": []
    },
    {
      "cell_type": "code",
      "metadata": {
        "id": "9k2-VaeBiSx7"
      },
      "source": [
        "## CrossValidation using 5-Folds and Binary Classifier\n",
        "mlp_cv = CrossValidator(estimator=mlp,\n",
        "                          estimatorParamMaps=paramGrid_mlp,\n",
        "                          evaluator=BinaryClassificationEvaluator(),\n",
        "                          numFolds=5)  "
      ],
      "execution_count": 57,
      "outputs": []
    },
    {
      "cell_type": "code",
      "metadata": {
        "colab": {
          "base_uri": "https://localhost:8080/"
        },
        "id": "prT9EpiuiYnS",
        "outputId": "26f59443-8f58-4a6f-8ebe-6aa2696ae482"
      },
      "source": [
        "paramGrid_mlp"
      ],
      "execution_count": 58,
      "outputs": [
        {
          "output_type": "execute_result",
          "data": {
            "text/plain": [
              "[{Param(parent='MultilayerPerceptronClassifier_c88cde667a78', name='blockSize', doc='block size for stacking input data in matrices. Data is stacked within partitions. If block size is more than remaining data in a partition then it is adjusted to the size of this data.'): 64,\n",
              "  Param(parent='MultilayerPerceptronClassifier_c88cde667a78', name='maxIter', doc='max number of iterations (>= 0).'): 50},\n",
              " {Param(parent='MultilayerPerceptronClassifier_c88cde667a78', name='blockSize', doc='block size for stacking input data in matrices. Data is stacked within partitions. If block size is more than remaining data in a partition then it is adjusted to the size of this data.'): 64,\n",
              "  Param(parent='MultilayerPerceptronClassifier_c88cde667a78', name='maxIter', doc='max number of iterations (>= 0).'): 100},\n",
              " {Param(parent='MultilayerPerceptronClassifier_c88cde667a78', name='blockSize', doc='block size for stacking input data in matrices. Data is stacked within partitions. If block size is more than remaining data in a partition then it is adjusted to the size of this data.'): 64,\n",
              "  Param(parent='MultilayerPerceptronClassifier_c88cde667a78', name='maxIter', doc='max number of iterations (>= 0).'): 150},\n",
              " {Param(parent='MultilayerPerceptronClassifier_c88cde667a78', name='blockSize', doc='block size for stacking input data in matrices. Data is stacked within partitions. If block size is more than remaining data in a partition then it is adjusted to the size of this data.'): 256,\n",
              "  Param(parent='MultilayerPerceptronClassifier_c88cde667a78', name='maxIter', doc='max number of iterations (>= 0).'): 50},\n",
              " {Param(parent='MultilayerPerceptronClassifier_c88cde667a78', name='blockSize', doc='block size for stacking input data in matrices. Data is stacked within partitions. If block size is more than remaining data in a partition then it is adjusted to the size of this data.'): 256,\n",
              "  Param(parent='MultilayerPerceptronClassifier_c88cde667a78', name='maxIter', doc='max number of iterations (>= 0).'): 100},\n",
              " {Param(parent='MultilayerPerceptronClassifier_c88cde667a78', name='blockSize', doc='block size for stacking input data in matrices. Data is stacked within partitions. If block size is more than remaining data in a partition then it is adjusted to the size of this data.'): 256,\n",
              "  Param(parent='MultilayerPerceptronClassifier_c88cde667a78', name='maxIter', doc='max number of iterations (>= 0).'): 150},\n",
              " {Param(parent='MultilayerPerceptronClassifier_c88cde667a78', name='blockSize', doc='block size for stacking input data in matrices. Data is stacked within partitions. If block size is more than remaining data in a partition then it is adjusted to the size of this data.'): 128,\n",
              "  Param(parent='MultilayerPerceptronClassifier_c88cde667a78', name='maxIter', doc='max number of iterations (>= 0).'): 50},\n",
              " {Param(parent='MultilayerPerceptronClassifier_c88cde667a78', name='blockSize', doc='block size for stacking input data in matrices. Data is stacked within partitions. If block size is more than remaining data in a partition then it is adjusted to the size of this data.'): 128,\n",
              "  Param(parent='MultilayerPerceptronClassifier_c88cde667a78', name='maxIter', doc='max number of iterations (>= 0).'): 100},\n",
              " {Param(parent='MultilayerPerceptronClassifier_c88cde667a78', name='blockSize', doc='block size for stacking input data in matrices. Data is stacked within partitions. If block size is more than remaining data in a partition then it is adjusted to the size of this data.'): 128,\n",
              "  Param(parent='MultilayerPerceptronClassifier_c88cde667a78', name='maxIter', doc='max number of iterations (>= 0).'): 150}]"
            ]
          },
          "metadata": {},
          "execution_count": 58
        }
      ]
    },
    {
      "cell_type": "markdown",
      "metadata": {
        "id": "MAdkx8PWv-Ba"
      },
      "source": [
        "**Run time**\n",
        "\n",
        "*   50 minutes\n",
        "\n",
        "\n"
      ]
    },
    {
      "cell_type": "code",
      "metadata": {
        "id": "U0pWuNuTiekB"
      },
      "source": [
        "mlpModel = mlp_cv.fit(train)"
      ],
      "execution_count": 59,
      "outputs": []
    },
    {
      "cell_type": "code",
      "metadata": {
        "colab": {
          "base_uri": "https://localhost:8080/"
        },
        "id": "2FiQfoo6xsRF",
        "outputId": "0c6fba2d-09cb-4756-fc2a-5b6f3f7969ff"
      },
      "source": [
        "best_model_mlp = mlpModel.bestModel.summary\n",
        "best_model_mlp"
      ],
      "execution_count": 61,
      "outputs": [
        {
          "output_type": "execute_result",
          "data": {
            "text/plain": [
              "<bound method MultilayerPerceptronClassificationModel.summary of MultilayerPerceptronClassificationModel: uid=MultilayerPerceptronClassifier_c88cde667a78, numLayers=4, numClasses=2, numFeatures=512>"
            ]
          },
          "metadata": {},
          "execution_count": 61
        }
      ]
    },
    {
      "cell_type": "code",
      "metadata": {
        "id": "4G7jh0MhsGjG"
      },
      "source": [
        "prediction = mlpModel.transform(test)\n"
      ],
      "execution_count": 60,
      "outputs": []
    },
    {
      "cell_type": "code",
      "metadata": {
        "colab": {
          "base_uri": "https://localhost:8080/"
        },
        "id": "Mb0Y8rSGzGKR",
        "outputId": "d871a914-4b3a-416c-d31a-7f30c18b984c"
      },
      "source": [
        "prediction.show(5)"
      ],
      "execution_count": 62,
      "outputs": [
        {
          "output_type": "stream",
          "name": "stdout",
          "text": [
            "+--------------------+-----+--------------------+--------------------+----------+\n",
            "|            features|label|       rawPrediction|         probability|prediction|\n",
            "+--------------------+-----+--------------------+--------------------+----------+\n",
            "|[-3.4943213292353...|  1.0|[-13.098479088909...|[7.40909773523040...|       1.0|\n",
            "|[-3.2656161487715...|  1.0|[-14.634077254400...|[3.67203031399957...|       1.0|\n",
            "|[-3.1191907454870...|  1.0|[-14.631298147080...|[3.30309862298269...|       1.0|\n",
            "|[-2.3243082371492...|  1.0|[-11.504662610200...|[1.92296521756709...|       1.0|\n",
            "|[-2.3143316976378...|  1.0|[-13.147072432531...|[6.19692544289977...|       1.0|\n",
            "+--------------------+-----+--------------------+--------------------+----------+\n",
            "only showing top 5 rows\n",
            "\n"
          ]
        }
      ]
    },
    {
      "cell_type": "code",
      "metadata": {
        "colab": {
          "background_save": true
        },
        "id": "dY4wrGS61NSb",
        "outputId": "751f6c4b-63aa-48ff-c91b-3ff4695fb76a"
      },
      "source": [
        "prediction.select('label', 'prediction').show(10)"
      ],
      "execution_count": null,
      "outputs": [
        {
          "name": "stdout",
          "output_type": "stream",
          "text": [
            "+-----+----------+\n",
            "|label|prediction|\n",
            "+-----+----------+\n",
            "|  1.0|       1.0|\n",
            "|  1.0|       1.0|\n",
            "|  1.0|       1.0|\n",
            "|  1.0|       1.0|\n",
            "|  1.0|       1.0|\n",
            "|  0.0|       0.0|\n",
            "|  0.0|       0.0|\n",
            "|  1.0|       1.0|\n",
            "|  1.0|       1.0|\n",
            "|  1.0|       1.0|\n",
            "+-----+----------+\n",
            "only showing top 10 rows\n",
            "\n"
          ]
        }
      ]
    },
    {
      "cell_type": "markdown",
      "metadata": {
        "id": "_EYNrWoRddwS"
      },
      "source": [
        "#**predictions and evaluate model performance**"
      ]
    },
    {
      "cell_type": "markdown",
      "metadata": {
        "id": "DDGaYjog2Fw-"
      },
      "source": [
        "##**Area Under the Curve**"
      ]
    },
    {
      "cell_type": "code",
      "metadata": {
        "colab": {
          "base_uri": "https://localhost:8080/"
        },
        "id": "ZW2ValAB1GXt",
        "outputId": "d3f4b9f6-4a57-41c1-eac3-9d20c06c31ee"
      },
      "source": [
        "my_eval_mlp = BinaryClassificationEvaluator(rawPredictionCol='prediction', labelCol='label', metricName='areaUnderROC')\n",
        "my_eval_mlp.evaluate(prediction)"
      ],
      "execution_count": 63,
      "outputs": [
        {
          "output_type": "execute_result",
          "data": {
            "text/plain": [
              "0.9799444564334968"
            ]
          },
          "metadata": {},
          "execution_count": 63
        }
      ]
    },
    {
      "cell_type": "markdown",
      "metadata": {
        "id": "x5EvOZmx2O6T"
      },
      "source": [
        "##**F1 Score**"
      ]
    },
    {
      "cell_type": "code",
      "metadata": {
        "colab": {
          "base_uri": "https://localhost:8080/"
        },
        "id": "UhHozlTA1Gg8",
        "outputId": "e0748b79-0250-41bd-8e07-0a424b811422"
      },
      "source": [
        "f1_score = MulticlassClassificationEvaluator(predictionCol='prediction', labelCol='label', metricName='f1')\n",
        "f1_score.evaluate(prediction)"
      ],
      "execution_count": 64,
      "outputs": [
        {
          "output_type": "execute_result",
          "data": {
            "text/plain": [
              "0.9843768881262537"
            ]
          },
          "metadata": {},
          "execution_count": 64
        }
      ]
    },
    {
      "cell_type": "markdown",
      "metadata": {
        "id": "z7xDfLkh2KSR"
      },
      "source": [
        "##**Accuracy**"
      ]
    },
    {
      "cell_type": "code",
      "metadata": {
        "colab": {
          "base_uri": "https://localhost:8080/"
        },
        "id": "yi054i-81Gpv",
        "outputId": "815f1d4a-7a44-4521-c3d2-4a97e6737a55"
      },
      "source": [
        "accuracy_mlp = MulticlassClassificationEvaluator(predictionCol='prediction', labelCol='label', metricName='accuracy')\n",
        "accuracy_mlp.evaluate(prediction)"
      ],
      "execution_count": 65,
      "outputs": [
        {
          "output_type": "execute_result",
          "data": {
            "text/plain": [
              "0.9844357976653697"
            ]
          },
          "metadata": {},
          "execution_count": 65
        }
      ]
    },
    {
      "cell_type": "code",
      "metadata": {
        "id": "eRXAcJc00C55"
      },
      "source": [
        "label = prediction.select(['label']).collect()\n",
        "label_pred = prediction.select(['prediction']).collect()\n",
        "\n"
      ],
      "execution_count": 66,
      "outputs": []
    },
    {
      "cell_type": "code",
      "metadata": {
        "colab": {
          "base_uri": "https://localhost:8080/"
        },
        "id": "ga7Odb-zuudX",
        "outputId": "7322d7f9-9f34-4b8f-8ff9-63ef61cb3fc2"
      },
      "source": [
        "type(label)"
      ],
      "execution_count": 67,
      "outputs": [
        {
          "output_type": "execute_result",
          "data": {
            "text/plain": [
              "list"
            ]
          },
          "metadata": {},
          "execution_count": 67
        }
      ]
    },
    {
      "cell_type": "code",
      "metadata": {
        "colab": {
          "base_uri": "https://localhost:8080/"
        },
        "id": "W6i6sqfSuyZe",
        "outputId": "ea21e6e4-0c6c-4a82-988a-ed3e089d07cf"
      },
      "source": [
        "print(classification_report(label, label_pred))"
      ],
      "execution_count": 68,
      "outputs": [
        {
          "output_type": "stream",
          "name": "stdout",
          "text": [
            "              precision    recall  f1-score   support\n",
            "\n",
            "         0.0       1.00      0.96      0.98       489\n",
            "         1.0       0.98      1.00      0.99       796\n",
            "\n",
            "    accuracy                           0.98      1285\n",
            "   macro avg       0.99      0.98      0.98      1285\n",
            "weighted avg       0.98      0.98      0.98      1285\n",
            "\n"
          ]
        }
      ]
    },
    {
      "cell_type": "code",
      "metadata": {
        "colab": {
          "base_uri": "https://localhost:8080/"
        },
        "id": "1MBZjOR5uuuJ",
        "outputId": "5ef75498-96fb-4dc0-e21f-ad6d01e3f63e"
      },
      "source": [
        "print(confusion_matrix(label, label_pred))"
      ],
      "execution_count": 69,
      "outputs": [
        {
          "output_type": "stream",
          "name": "stdout",
          "text": [
            "[[470  19]\n",
            " [  1 795]]\n"
          ]
        }
      ]
    },
    {
      "cell_type": "code",
      "metadata": {
        "colab": {
          "base_uri": "https://localhost:8080/"
        },
        "id": "8PJLCsLisgzA",
        "outputId": "902125c0-5aef-4360-f469-984cff63bf4b"
      },
      "source": [
        "prediction.groupBy('label','prediction').count().show()"
      ],
      "execution_count": 70,
      "outputs": [
        {
          "output_type": "stream",
          "name": "stdout",
          "text": [
            "+-----+----------+-----+\n",
            "|label|prediction|count|\n",
            "+-----+----------+-----+\n",
            "|  1.0|       0.0|    1|\n",
            "|  0.0|       0.0|  470|\n",
            "|  1.0|       1.0|  795|\n",
            "|  0.0|       1.0|   19|\n",
            "+-----+----------+-----+\n",
            "\n"
          ]
        }
      ]
    },
    {
      "cell_type": "markdown",
      "metadata": {
        "id": "992pPzCvuQ_V"
      },
      "source": [
        "#Model II\n",
        "\n",
        "*   hyperparameter tunning\n",
        "*   Train validation split method\n",
        "\n"
      ]
    },
    {
      "cell_type": "code",
      "metadata": {
        "colab": {
          "background_save": true
        },
        "id": "0DyNn4zSNEeu"
      },
      "source": [
        "## Parameter Grid\n",
        "layers = [512,128,64,2]\n",
        "mlp = MultilayerPerceptronClassifier(layers = layers, seed = 1)\n",
        "paramGrid_mlp = ParamGridBuilder() \\\n",
        "    .addGrid(mlp.blockSize, {32,64,128}) \\\n",
        "    .addGrid(mlp.maxIter, {50,100,150}) \\\n",
        "    .build()"
      ],
      "execution_count": null,
      "outputs": []
    },
    {
      "cell_type": "code",
      "metadata": {
        "colab": {
          "background_save": true
        },
        "id": "glJT41vtzggl"
      },
      "source": [
        "tvs = TrainValidationSplit(estimator=mlp,\n",
        "                           estimatorParamMaps=paramGrid_mlp,\n",
        "                           evaluator=BinaryClassificationEvaluator(),\n",
        "                           # 80% of the data will be used for training, 20% for validation.\n",
        "                           trainRatio=0.8)"
      ],
      "execution_count": null,
      "outputs": []
    },
    {
      "cell_type": "code",
      "metadata": {
        "colab": {
          "background_save": true
        },
        "id": "7-7VE7JfzgsU"
      },
      "source": [
        "model = tvs.fit(train)"
      ],
      "execution_count": null,
      "outputs": []
    },
    {
      "cell_type": "markdown",
      "metadata": {
        "id": "vNnZQPOBATyo"
      },
      "source": [
        "#predictions and evaluate model performance"
      ]
    },
    {
      "cell_type": "code",
      "metadata": {
        "colab": {
          "background_save": true
        },
        "id": "xkRWTpGkzgw7"
      },
      "source": [
        "hold_out_pred = model.transform(test)\n"
      ],
      "execution_count": null,
      "outputs": []
    },
    {
      "cell_type": "code",
      "metadata": {
        "colab": {
          "background_save": true
        },
        "id": "0w0iXAR7AuO4",
        "outputId": "1f359778-2b13-4d52-dc53-34fa5e94b883"
      },
      "source": [
        "hold_out_pred.select('label', 'prediction').show(10)"
      ],
      "execution_count": null,
      "outputs": [
        {
          "name": "stdout",
          "output_type": "stream",
          "text": [
            "+-----+----------+\n",
            "|label|prediction|\n",
            "+-----+----------+\n",
            "|  1.0|       1.0|\n",
            "|  1.0|       1.0|\n",
            "|  1.0|       1.0|\n",
            "|  1.0|       1.0|\n",
            "|  1.0|       1.0|\n",
            "|  0.0|       0.0|\n",
            "|  0.0|       0.0|\n",
            "|  1.0|       1.0|\n",
            "|  1.0|       1.0|\n",
            "|  1.0|       1.0|\n",
            "+-----+----------+\n",
            "only showing top 10 rows\n",
            "\n"
          ]
        }
      ]
    },
    {
      "cell_type": "markdown",
      "metadata": {
        "id": "-wTlEkw14OM_"
      },
      "source": [
        "#**Accuracy and Test Error**"
      ]
    },
    {
      "cell_type": "code",
      "metadata": {
        "colab": {
          "background_save": true
        },
        "id": "kPd_kb0N8uBS",
        "outputId": "2a05f068-9687-4581-e664-9bca04b6f181"
      },
      "source": [
        "\n",
        "\n",
        "evaluator = MulticlassClassificationEvaluator(labelCol=\"label\", predictionCol=\"prediction\")\n",
        "accuracy = evaluator.evaluate(hold_out_pred)\n",
        "print(\"Accuracy = %s\" % (accuracy))\n",
        "print(\"Test Error = %s\" % (1.0 - accuracy))"
      ],
      "execution_count": null,
      "outputs": [
        {
          "name": "stdout",
          "output_type": "stream",
          "text": [
            "Accuracy = 0.9765114038880166\n",
            "Test Error = 0.023488596111983395\n"
          ]
        }
      ]
    },
    {
      "cell_type": "markdown",
      "metadata": {
        "id": "0KXz7pc44n-j"
      },
      "source": [
        "#**F1 score**"
      ]
    },
    {
      "cell_type": "code",
      "metadata": {
        "colab": {
          "background_save": true
        },
        "id": "NSrHTnWFyb9A",
        "outputId": "2d1cd0fc-75d2-46be-843e-c0cdf67df15e"
      },
      "source": [
        "f1_score = MulticlassClassificationEvaluator(predictionCol='prediction', labelCol='label', metricName='f1')\n",
        "f1_score.evaluate(hold_out_pred)"
      ],
      "execution_count": null,
      "outputs": [
        {
          "data": {
            "text/plain": [
              "0.9765114038880166"
            ]
          },
          "execution_count": null,
          "metadata": {},
          "output_type": "execute_result"
        }
      ]
    },
    {
      "cell_type": "markdown",
      "metadata": {
        "id": "wJWJAQj-4Eph"
      },
      "source": [
        "#**confusion matrix**"
      ]
    },
    {
      "cell_type": "code",
      "metadata": {
        "colab": {
          "background_save": true
        },
        "id": "JZFUQTDQ7lQ5"
      },
      "source": [
        "true_label = hold_out_pred.select(['label']).collect()\n",
        "pred_label = hold_out_pred.select(['prediction']).collect()"
      ],
      "execution_count": null,
      "outputs": []
    },
    {
      "cell_type": "code",
      "metadata": {
        "colab": {
          "background_save": true
        },
        "id": "8WnM-XQC75g0",
        "outputId": "0ccb2abf-2ac3-4d23-c894-c8c7df9c4278"
      },
      "source": [
        "cm = print(confusion_matrix(true_label, pred_label))"
      ],
      "execution_count": null,
      "outputs": [
        {
          "name": "stdout",
          "output_type": "stream",
          "text": [
            "[[460  29]\n",
            " [  1 795]]\n"
          ]
        }
      ]
    }
  ]
}